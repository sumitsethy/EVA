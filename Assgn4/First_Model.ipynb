{
  "nbformat": 4,
  "nbformat_minor": 0,
  "metadata": {
    "colab": {
      "name": "First Model.ipynb",
      "version": "0.3.2",
      "provenance": [],
      "collapsed_sections": []
    },
    "kernelspec": {
      "name": "python3",
      "display_name": "Python 3"
    },
    "accelerator": "GPU"
  },
  "cells": [
    {
      "cell_type": "markdown",
      "metadata": {
        "id": "aNyZv-Ec52ot",
        "colab_type": "text"
      },
      "source": [
        "# **Import Libraries and modules**"
      ]
    },
    {
      "cell_type": "code",
      "metadata": {
        "id": "3m3w1Cw49Zkt",
        "colab_type": "code",
        "colab": {}
      },
      "source": [
        "# https://keras.io/\n",
        "!pip install -q keras\n",
        "import keras"
      ],
      "execution_count": 0,
      "outputs": []
    },
    {
      "cell_type": "code",
      "metadata": {
        "id": "Eso6UHE080D4",
        "colab_type": "code",
        "colab": {}
      },
      "source": [
        "import numpy as np\n",
        "\n",
        "from keras.models import Sequential\n",
        "from keras.layers import Dense, Dropout, Activation, Flatten, Add\n",
        "from keras.layers import Convolution2D, MaxPooling2D\n",
        "from keras.utils import np_utils\n",
        "\n",
        "from keras.datasets import mnist"
      ],
      "execution_count": 0,
      "outputs": []
    },
    {
      "cell_type": "markdown",
      "metadata": {
        "id": "zByEi95J86RD",
        "colab_type": "text"
      },
      "source": [
        "### Load pre-shuffled MNIST data into train and test sets"
      ]
    },
    {
      "cell_type": "code",
      "metadata": {
        "id": "7eRM0QWN83PV",
        "colab_type": "code",
        "colab": {}
      },
      "source": [
        "(X_train, y_train), (X_test, y_test) = mnist.load_data()"
      ],
      "execution_count": 0,
      "outputs": []
    },
    {
      "cell_type": "code",
      "metadata": {
        "id": "4a4Be72j8-ZC",
        "colab_type": "code",
        "outputId": "69e6c412-6935-4f21-dac5-f17ddf697866",
        "colab": {
          "base_uri": "https://localhost:8080/",
          "height": 304
        }
      },
      "source": [
        "print (X_train.shape)\n",
        "from matplotlib import pyplot as plt\n",
        "%matplotlib inline\n",
        "plt.imshow(X_train[12])"
      ],
      "execution_count": 0,
      "outputs": [
        {
          "output_type": "stream",
          "text": [
            "(60000, 28, 28)\n"
          ],
          "name": "stdout"
        },
        {
          "output_type": "execute_result",
          "data": {
            "text/plain": [
              "<matplotlib.image.AxesImage at 0x7fecf8215470>"
            ]
          },
          "metadata": {
            "tags": []
          },
          "execution_count": 5
        },
        {
          "output_type": "display_data",
          "data": {
            "image/png": "[encoded data removed]",
            "text/plain": [
              "<Figure size 432x288 with 1 Axes>"
            ]
          },
          "metadata": {
            "tags": []
          }
        }
      ]
    },
    {
      "cell_type": "code",
      "metadata": {
        "id": "dkmprriw9AnZ",
        "colab_type": "code",
        "colab": {}
      },
      "source": [
        "X_train = X_train.reshape(X_train.shape[0], 28, 28,1)\n",
        "X_test = X_test.reshape(X_test.shape[0], 28, 28,1)"
      ],
      "execution_count": 0,
      "outputs": []
    },
    {
      "cell_type": "code",
      "metadata": {
        "id": "X2m4YS4E9CRh",
        "colab_type": "code",
        "colab": {}
      },
      "source": [
        "X_train = X_train.astype('float32')\n",
        "X_test = X_test.astype('float32')\n",
        "X_train /= 255\n",
        "X_test /= 255"
      ],
      "execution_count": 0,
      "outputs": []
    },
    {
      "cell_type": "code",
      "metadata": {
        "id": "0Mn0vAYD9DvB",
        "colab_type": "code",
        "outputId": "a9f0a2f7-d6cd-4702-c85e-c6c69a614412",
        "colab": {
          "base_uri": "https://localhost:8080/",
          "height": 34
        }
      },
      "source": [
        "y_train[:10]"
      ],
      "execution_count": 0,
      "outputs": [
        {
          "output_type": "execute_result",
          "data": {
            "text/plain": [
              "array([5, 0, 4, 1, 9, 2, 1, 3, 1, 4], dtype=uint8)"
            ]
          },
          "metadata": {
            "tags": []
          },
          "execution_count": 7
        }
      ]
    },
    {
      "cell_type": "code",
      "metadata": {
        "id": "ZG8JiXR39FHC",
        "colab_type": "code",
        "colab": {}
      },
      "source": [
        "# Convert 1-dimensional class arrays to 10-dimensional class matrices\n",
        "Y_train = np_utils.to_categorical(y_train, 10)\n",
        "Y_test = np_utils.to_categorical(y_test, 10)"
      ],
      "execution_count": 0,
      "outputs": []
    },
    {
      "cell_type": "code",
      "metadata": {
        "id": "fYlFRvKS9HMB",
        "colab_type": "code",
        "outputId": "79f44f8d-7cfe-403f-ca76-be8da1c4160a",
        "colab": {
          "base_uri": "https://localhost:8080/",
          "height": 194
        }
      },
      "source": [
        "Y_train[:10]\n"
      ],
      "execution_count": 0,
      "outputs": [
        {
          "output_type": "execute_result",
          "data": {
            "text/plain": [
              "array([[0., 0., 0., 0., 0., 1., 0., 0., 0., 0.],\n",
              "       [1., 0., 0., 0., 0., 0., 0., 0., 0., 0.],\n",
              "       [0., 0., 0., 0., 1., 0., 0., 0., 0., 0.],\n",
              "       [0., 1., 0., 0., 0., 0., 0., 0., 0., 0.],\n",
              "       [0., 0., 0., 0., 0., 0., 0., 0., 0., 1.],\n",
              "       [0., 0., 1., 0., 0., 0., 0., 0., 0., 0.],\n",
              "       [0., 1., 0., 0., 0., 0., 0., 0., 0., 0.],\n",
              "       [0., 0., 0., 1., 0., 0., 0., 0., 0., 0.],\n",
              "       [0., 1., 0., 0., 0., 0., 0., 0., 0., 0.],\n",
              "       [0., 0., 0., 0., 1., 0., 0., 0., 0., 0.]], dtype=float32)"
            ]
          },
          "metadata": {
            "tags": []
          },
          "execution_count": 9
        }
      ]
    },
    {
      "cell_type": "code",
      "metadata": {
        "id": "osKqT73Q9JJB",
        "colab_type": "code",
        "outputId": "06697d82-3073-42c8-b66e-f03c86918e7d",
        "colab": {
          "base_uri": "https://localhost:8080/",
          "height": 72
        }
      },
      "source": [
        "from keras.layers import Activation\n",
        "model = Sequential()\n",
        "\n",
        " \n",
        "model.add(Convolution2D(16, 3, 3, activation='relu', input_shape=(28,28,1)))\n",
        "model.add(Convolution2D(8, 1, activation='relu'))\n",
        "\n",
        "model.add(Convolution2D(16, 3, activation='relu'))\n",
        "model.add(Convolution2D(8, 1, activation='relu'))\n",
        "\n",
        "model.add(Convolution2D(16, 3, activation='relu'))\n",
        "model.add(Convolution2D(8, 1, activation='relu'))\n",
        "\n",
        "model.add(Convolution2D(16, 3, activation='relu'))\n",
        "model.add(Convolution2D(8, 1, activation='relu'))\n",
        "\n",
        "model.add(Convolution2D(16, 3, activation='relu'))\n",
        "model.add(Convolution2D(8, 1, activation='relu'))\n",
        "\n",
        "model.add(Convolution2D(16, 3, activation='relu'))\n",
        "model.add(Convolution2D(8, 1, activation='relu'))\n",
        "\n",
        "model.add(Convolution2D(16, 3, activation='relu'))\n",
        "model.add(Convolution2D(8, 1, activation='relu'))\n",
        "\n",
        "model.add(Convolution2D(16, 3, activation='relu'))\n",
        "model.add(Convolution2D(8, 1, activation='relu'))\n",
        "\n",
        "model.add(Convolution2D(16, 3, activation='relu'))\n",
        "model.add(Convolution2D(10, 1))\n",
        "\n",
        "\n",
        "model.add(Convolution2D(10, 10))\n",
        "model.add(Flatten())\n",
        "model.add(Activation('softmax'))"
      ],
      "execution_count": 0,
      "outputs": [
        {
          "output_type": "stream",
          "text": [
            "/usr/local/lib/python3.6/dist-packages/ipykernel_launcher.py:5: UserWarning: Update your `Conv2D` call to the Keras 2 API: `Conv2D(16, (3, 3), activation=\"relu\", input_shape=(28, 28, 1...)`\n",
            "  \"\"\"\n"
          ],
          "name": "stderr"
        }
      ]
    },
    {
      "cell_type": "markdown",
      "metadata": {
        "id": "3WQkUXYw9ih0",
        "colab_type": "text"
      },
      "source": [
        "Removing some point wise conv."
      ]
    },
    {
      "cell_type": "code",
      "metadata": {
        "id": "LHiNW_pb9hY_",
        "colab_type": "code",
        "outputId": "015a8472-70fc-4248-9e43-d1c055b3933b",
        "colab": {
          "base_uri": "https://localhost:8080/",
          "height": 72
        }
      },
      "source": [
        "from keras.layers import Activation\n",
        "model = Sequential()\n",
        "\n",
        " \n",
        "model.add(Convolution2D(16, 3, 3, activation='relu', input_shape=(28,28,1)))\n",
        "model.add(Convolution2D(16, 3, activation='relu'))\n",
        "model.add(Convolution2D(8, 1, activation='relu'))\n",
        "\n",
        "model.add(Convolution2D(16, 3, activation='relu'))\n",
        "model.add(Convolution2D(16, 3, activation='relu'))\n",
        "model.add(Convolution2D(8, 1, activation='relu'))\n",
        "\n",
        "model.add(Convolution2D(16, 3, activation='relu'))\n",
        "model.add(Convolution2D(16, 3, activation='relu'))\n",
        "model.add(Convolution2D(8, 1, activation='relu'))\n",
        "\n",
        "model.add(Convolution2D(16, 3, activation='relu'))\n",
        "model.add(Convolution2D(16, 3, activation='relu'))\n",
        "model.add(Convolution2D(8, 1, activation='relu'))\n",
        "\n",
        "model.add(Convolution2D(16, 3, activation='relu'))\n",
        "model.add(Convolution2D(10, 1))\n",
        "\n",
        "model.add(Convolution2D(10, 10))\n",
        "model.add(Flatten())\n",
        "model.add(Activation('softmax'))"
      ],
      "execution_count": 0,
      "outputs": [
        {
          "output_type": "stream",
          "text": [
            "/usr/local/lib/python3.6/dist-packages/ipykernel_launcher.py:5: UserWarning: Update your `Conv2D` call to the Keras 2 API: `Conv2D(16, (3, 3), activation=\"relu\", input_shape=(28, 28, 1...)`\n",
            "  \"\"\"\n"
          ],
          "name": "stderr"
        }
      ]
    },
    {
      "cell_type": "code",
      "metadata": {
        "id": "TzdAYg1k9K7Z",
        "colab_type": "code",
        "outputId": "61142dfd-f589-41c9-9204-9198a981094a",
        "colab": {
          "base_uri": "https://localhost:8080/",
          "height": 745
        }
      },
      "source": [
        "model.summary()"
      ],
      "execution_count": 0,
      "outputs": [
        {
          "output_type": "stream",
          "text": [
            "_________________________________________________________________\n",
            "Layer (type)                 Output Shape              Param #   \n",
            "=================================================================\n",
            "conv2d_80 (Conv2D)           (None, 26, 26, 16)        160       \n",
            "_________________________________________________________________\n",
            "conv2d_81 (Conv2D)           (None, 24, 24, 16)        2320      \n",
            "_________________________________________________________________\n",
            "conv2d_82 (Conv2D)           (None, 24, 24, 8)         136       \n",
            "_________________________________________________________________\n",
            "conv2d_83 (Conv2D)           (None, 22, 22, 16)        1168      \n",
            "_________________________________________________________________\n",
            "conv2d_84 (Conv2D)           (None, 20, 20, 16)        2320      \n",
            "_________________________________________________________________\n",
            "conv2d_85 (Conv2D)           (None, 20, 20, 8)         136       \n",
            "_________________________________________________________________\n",
            "conv2d_86 (Conv2D)           (None, 18, 18, 16)        1168      \n",
            "_________________________________________________________________\n",
            "conv2d_87 (Conv2D)           (None, 16, 16, 16)        2320      \n",
            "_________________________________________________________________\n",
            "conv2d_88 (Conv2D)           (None, 16, 16, 8)         136       \n",
            "_________________________________________________________________\n",
            "conv2d_89 (Conv2D)           (None, 14, 14, 16)        1168      \n",
            "_________________________________________________________________\n",
            "conv2d_90 (Conv2D)           (None, 12, 12, 16)        2320      \n",
            "_________________________________________________________________\n",
            "conv2d_91 (Conv2D)           (None, 12, 12, 8)         136       \n",
            "_________________________________________________________________\n",
            "conv2d_92 (Conv2D)           (None, 10, 10, 16)        1168      \n",
            "_________________________________________________________________\n",
            "conv2d_93 (Conv2D)           (None, 10, 10, 10)        170       \n",
            "_________________________________________________________________\n",
            "conv2d_94 (Conv2D)           (None, 1, 1, 10)          10010     \n",
            "_________________________________________________________________\n",
            "flatten_6 (Flatten)          (None, 10)                0         \n",
            "_________________________________________________________________\n",
            "activation_6 (Activation)    (None, 10)                0         \n",
            "=================================================================\n",
            "Total params: 24,836\n",
            "Trainable params: 24,836\n",
            "Non-trainable params: 0\n",
            "_________________________________________________________________\n"
          ],
          "name": "stdout"
        }
      ]
    },
    {
      "cell_type": "code",
      "metadata": {
        "id": "Zp6SuGrL9M3h",
        "colab_type": "code",
        "colab": {}
      },
      "source": [
        "model.compile(loss='categorical_crossentropy',\n",
        "             optimizer='adam',\n",
        "             metrics=['accuracy'])"
      ],
      "execution_count": 0,
      "outputs": []
    },
    {
      "cell_type": "code",
      "metadata": {
        "id": "e05fJE2dL6de",
        "colab_type": "code",
        "outputId": "8861737d-e001-4f7f-b943-60acfc985030",
        "colab": {
          "base_uri": "https://localhost:8080/",
          "height": 1865
        }
      },
      "source": [
        "model.fit(X_train, Y_train, batch_size=32, nb_epoch=50, verbose=1, validation_data=(X_test, Y_test))"
      ],
      "execution_count": 0,
      "outputs": [
        {
          "output_type": "stream",
          "text": [
            "/usr/local/lib/python3.6/dist-packages/ipykernel_launcher.py:1: UserWarning: The `nb_epoch` argument in `fit` has been renamed `epochs`.\n",
            "  \"\"\"Entry point for launching an IPython kernel.\n"
          ],
          "name": "stderr"
        },
        {
          "output_type": "stream",
          "text": [
            "Train on 60000 samples, validate on 10000 samples\n",
            "Epoch 1/50\n",
            "60000/60000 [==============================] - 39s 650us/step - loss: 0.2647 - acc: 0.9179 - val_loss: 0.0981 - val_acc: 0.9754\n",
            "Epoch 2/50\n",
            "60000/60000 [==============================] - 38s 626us/step - loss: 0.0887 - acc: 0.9725 - val_loss: 0.0713 - val_acc: 0.9786\n",
            "Epoch 3/50\n",
            "60000/60000 [==============================] - 38s 628us/step - loss: 0.0724 - acc: 0.9771 - val_loss: 0.0529 - val_acc: 0.9830\n",
            "Epoch 4/50\n",
            "60000/60000 [==============================] - 38s 631us/step - loss: 0.0615 - acc: 0.9812 - val_loss: 0.0421 - val_acc: 0.9869\n",
            "Epoch 5/50\n",
            "60000/60000 [==============================] - 38s 628us/step - loss: 0.0549 - acc: 0.9828 - val_loss: 0.0437 - val_acc: 0.9854\n",
            "Epoch 6/50\n",
            "60000/60000 [==============================] - 38s 627us/step - loss: 0.0481 - acc: 0.9847 - val_loss: 0.0507 - val_acc: 0.9830\n",
            "Epoch 7/50\n",
            "60000/60000 [==============================] - 38s 635us/step - loss: 0.0438 - acc: 0.9859 - val_loss: 0.0416 - val_acc: 0.9856\n",
            "Epoch 8/50\n",
            "60000/60000 [==============================] - 38s 631us/step - loss: 0.0405 - acc: 0.9872 - val_loss: 0.0424 - val_acc: 0.9865\n",
            "Epoch 9/50\n",
            "60000/60000 [==============================] - 38s 632us/step - loss: 0.0388 - acc: 0.9875 - val_loss: 0.0532 - val_acc: 0.9847\n",
            "Epoch 10/50\n",
            "60000/60000 [==============================] - 38s 628us/step - loss: 0.0361 - acc: 0.9887 - val_loss: 0.0368 - val_acc: 0.9887\n",
            "Epoch 11/50\n",
            "60000/60000 [==============================] - 38s 626us/step - loss: 0.0331 - acc: 0.9896 - val_loss: 0.0397 - val_acc: 0.9882\n",
            "Epoch 12/50\n",
            "60000/60000 [==============================] - 38s 627us/step - loss: 0.0308 - acc: 0.9896 - val_loss: 0.0462 - val_acc: 0.9860\n",
            "Epoch 13/50\n",
            "60000/60000 [==============================] - 38s 627us/step - loss: 0.0298 - acc: 0.9903 - val_loss: 0.0420 - val_acc: 0.9876\n",
            "Epoch 14/50\n",
            "60000/60000 [==============================] - 38s 629us/step - loss: 0.0287 - acc: 0.9905 - val_loss: 0.0424 - val_acc: 0.9878\n",
            "Epoch 15/50\n",
            "60000/60000 [==============================] - 38s 630us/step - loss: 0.0267 - acc: 0.9915 - val_loss: 0.0468 - val_acc: 0.9869\n",
            "Epoch 16/50\n",
            "60000/60000 [==============================] - 38s 633us/step - loss: 0.0247 - acc: 0.9919 - val_loss: 0.0444 - val_acc: 0.9876\n",
            "Epoch 17/50\n",
            "60000/60000 [==============================] - 38s 629us/step - loss: 0.0255 - acc: 0.9914 - val_loss: 0.0428 - val_acc: 0.9881\n",
            "Epoch 18/50\n",
            "60000/60000 [==============================] - 38s 629us/step - loss: 0.0226 - acc: 0.9925 - val_loss: 0.0375 - val_acc: 0.9890\n",
            "Epoch 19/50\n",
            "60000/60000 [==============================] - 38s 629us/step - loss: 0.0221 - acc: 0.9925 - val_loss: 0.0472 - val_acc: 0.9869\n",
            "Epoch 20/50\n",
            "60000/60000 [==============================] - 38s 633us/step - loss: 0.0217 - acc: 0.9927 - val_loss: 0.0548 - val_acc: 0.9852\n",
            "Epoch 21/50\n",
            "60000/60000 [==============================] - 38s 630us/step - loss: 0.0212 - acc: 0.9924 - val_loss: 0.0418 - val_acc: 0.9877\n",
            "Epoch 22/50\n",
            "60000/60000 [==============================] - 38s 629us/step - loss: 0.0189 - acc: 0.9933 - val_loss: 0.0454 - val_acc: 0.9877\n",
            "Epoch 23/50\n",
            "60000/60000 [==============================] - 38s 626us/step - loss: 0.0189 - acc: 0.9938 - val_loss: 0.0604 - val_acc: 0.9831\n",
            "Epoch 24/50\n",
            "60000/60000 [==============================] - 38s 625us/step - loss: 0.0188 - acc: 0.9938 - val_loss: 0.0527 - val_acc: 0.9872\n",
            "Epoch 25/50\n",
            "60000/60000 [==============================] - 38s 628us/step - loss: 0.0185 - acc: 0.9938 - val_loss: 0.0459 - val_acc: 0.9879\n",
            "Epoch 26/50\n",
            "60000/60000 [==============================] - 38s 626us/step - loss: 0.0185 - acc: 0.9941 - val_loss: 0.0515 - val_acc: 0.9869\n",
            "Epoch 27/50\n",
            "60000/60000 [==============================] - 38s 627us/step - loss: 0.0161 - acc: 0.9948 - val_loss: 0.0509 - val_acc: 0.9867\n",
            "Epoch 28/50\n",
            "60000/60000 [==============================] - 38s 626us/step - loss: 0.0174 - acc: 0.9939 - val_loss: 0.0516 - val_acc: 0.9880\n",
            "Epoch 29/50\n",
            "60000/60000 [==============================] - 37s 624us/step - loss: 0.0157 - acc: 0.9949 - val_loss: 0.0480 - val_acc: 0.9888\n",
            "Epoch 30/50\n",
            "60000/60000 [==============================] - 37s 623us/step - loss: 0.0169 - acc: 0.9943 - val_loss: 0.0502 - val_acc: 0.9858\n",
            "Epoch 31/50\n",
            "60000/60000 [==============================] - 38s 628us/step - loss: 0.0162 - acc: 0.9946 - val_loss: 0.0571 - val_acc: 0.9872\n",
            "Epoch 32/50\n",
            "60000/60000 [==============================] - 38s 630us/step - loss: 0.0150 - acc: 0.9949 - val_loss: 0.0513 - val_acc: 0.9865\n",
            "Epoch 33/50\n",
            "60000/60000 [==============================] - 38s 630us/step - loss: 0.0150 - acc: 0.9949 - val_loss: 0.0639 - val_acc: 0.9860\n",
            "Epoch 34/50\n",
            "60000/60000 [==============================] - 37s 625us/step - loss: 0.0147 - acc: 0.9953 - val_loss: 0.0618 - val_acc: 0.9867\n",
            "Epoch 35/50\n",
            "60000/60000 [==============================] - 38s 626us/step - loss: 0.0138 - acc: 0.9953 - val_loss: 0.0616 - val_acc: 0.9870\n",
            "Epoch 36/50\n",
            "60000/60000 [==============================] - 38s 630us/step - loss: 0.0143 - acc: 0.9952 - val_loss: 0.0493 - val_acc: 0.9880\n",
            "Epoch 37/50\n",
            "60000/60000 [==============================] - 38s 628us/step - loss: 0.0155 - acc: 0.9951 - val_loss: 0.0579 - val_acc: 0.9861\n",
            "Epoch 38/50\n",
            "60000/60000 [==============================] - 38s 627us/step - loss: 0.0149 - acc: 0.9948 - val_loss: 0.0477 - val_acc: 0.9882\n",
            "Epoch 39/50\n",
            "60000/60000 [==============================] - 38s 628us/step - loss: 0.0155 - acc: 0.9948 - val_loss: 0.0471 - val_acc: 0.9888\n",
            "Epoch 40/50\n",
            "60000/60000 [==============================] - 38s 627us/step - loss: 0.0119 - acc: 0.9957 - val_loss: 0.0561 - val_acc: 0.9869\n",
            "Epoch 41/50\n",
            "60000/60000 [==============================] - 38s 627us/step - loss: 0.0152 - acc: 0.9952 - val_loss: 0.0573 - val_acc: 0.9879\n",
            "Epoch 42/50\n",
            "60000/60000 [==============================] - 38s 629us/step - loss: 0.0134 - acc: 0.9957 - val_loss: 0.0658 - val_acc: 0.9860\n",
            "Epoch 43/50\n",
            "60000/60000 [==============================] - 38s 628us/step - loss: 0.0122 - acc: 0.9958 - val_loss: 0.0620 - val_acc: 0.9863\n",
            "Epoch 44/50\n",
            "60000/60000 [==============================] - 38s 630us/step - loss: 0.0127 - acc: 0.9957 - val_loss: 0.0568 - val_acc: 0.9872\n",
            "Epoch 45/50\n",
            "60000/60000 [==============================] - 38s 626us/step - loss: 0.0129 - acc: 0.9954 - val_loss: 0.0603 - val_acc: 0.9882\n",
            "Epoch 46/50\n",
            "60000/60000 [==============================] - 38s 629us/step - loss: 0.0138 - acc: 0.9954 - val_loss: 0.0476 - val_acc: 0.9891\n",
            "Epoch 47/50\n",
            "60000/60000 [==============================] - 38s 628us/step - loss: 0.0122 - acc: 0.9959 - val_loss: 0.0534 - val_acc: 0.9891\n",
            "Epoch 48/50\n",
            "60000/60000 [==============================] - 38s 631us/step - loss: 0.0148 - acc: 0.9952 - val_loss: 0.0619 - val_acc: 0.9867\n",
            "Epoch 49/50\n",
            "60000/60000 [==============================] - 38s 631us/step - loss: 0.0107 - acc: 0.9962 - val_loss: 0.0533 - val_acc: 0.9885\n",
            "Epoch 50/50\n",
            "60000/60000 [==============================] - 38s 630us/step - loss: 0.0136 - acc: 0.9956 - val_loss: 0.0640 - val_acc: 0.9850\n"
          ],
          "name": "stdout"
        },
        {
          "output_type": "execute_result",
          "data": {
            "text/plain": [
              "<keras.callbacks.History at 0x7fecda933198>"
            ]
          },
          "metadata": {
            "tags": []
          },
          "execution_count": 25
        }
      ]
    },
    {
      "cell_type": "code",
      "metadata": {
        "id": "AtsH-lLk-eLb",
        "colab_type": "code",
        "colab": {}
      },
      "source": [
        "score = model.evaluate(X_test, Y_test, verbose=0)"
      ],
      "execution_count": 0,
      "outputs": []
    },
    {
      "cell_type": "code",
      "metadata": {
        "id": "mkX8JMv79q9r",
        "colab_type": "code",
        "outputId": "e2951b7c-16a3-40e6-963f-24150f8cbd38",
        "colab": {
          "base_uri": "https://localhost:8080/",
          "height": 34
        }
      },
      "source": [
        "print(score)"
      ],
      "execution_count": 0,
      "outputs": [
        {
          "output_type": "stream",
          "text": [
            "[0.04965896717322466, 0.9861]\n"
          ],
          "name": "stdout"
        }
      ]
    },
    {
      "cell_type": "code",
      "metadata": {
        "id": "OCWoJkwE9suh",
        "colab_type": "code",
        "colab": {}
      },
      "source": [
        "y_pred = model.predict(X_test)"
      ],
      "execution_count": 0,
      "outputs": []
    },
    {
      "cell_type": "code",
      "metadata": {
        "id": "Ym7iCFBm9uBs",
        "colab_type": "code",
        "outputId": "63105130-a938-481a-982d-795f6a299ddc",
        "colab": {
          "base_uri": "https://localhost:8080/",
          "height": 340
        }
      },
      "source": [
        "print(y_pred[:9])\n",
        "print(y_test[:9])"
      ],
      "execution_count": 0,
      "outputs": [
        {
          "output_type": "stream",
          "text": [
            "[[2.0593689e-17 6.3046323e-17 8.9005447e-13 1.8406407e-10 8.0754371e-19\n",
            "  8.0671096e-15 1.1510667e-24 1.0000000e+00 2.1262439e-10 2.7205176e-11]\n",
            " [2.5421015e-15 5.1460576e-12 1.0000000e+00 1.7606363e-12 6.3726551e-23\n",
            "  3.3248325e-16 4.4326671e-09 1.8222993e-27 1.8873889e-12 3.6800765e-21]\n",
            " [3.7568029e-08 9.9987435e-01 6.9531761e-06 6.3134886e-10 9.9738187e-05\n",
            "  5.2485571e-08 1.0483473e-07 1.0138228e-06 1.7757657e-05 1.9014761e-10]\n",
            " [1.0000000e+00 2.2739057e-15 6.6718070e-10 5.6225624e-15 4.5025926e-16\n",
            "  2.7407175e-13 1.3530634e-09 3.9892802e-13 5.8574483e-14 4.0855683e-12]\n",
            " [1.0115652e-12 6.9521903e-14 1.3467061e-13 1.9833676e-13 9.9999976e-01\n",
            "  4.2785103e-16 1.6022580e-12 5.5436229e-11 6.7551126e-10 2.2112354e-07]\n",
            " [2.3979660e-10 9.9982810e-01 3.5553690e-08 3.5910691e-11 1.0332796e-05\n",
            "  1.4169725e-10 2.0029900e-11 1.5314015e-04 8.3647601e-06 3.8377021e-10]\n",
            " [1.4182455e-19 9.8074493e-11 5.7774190e-09 2.3251079e-13 9.9966061e-01\n",
            "  6.0978769e-09 2.3871165e-16 2.2344653e-09 3.3876873e-04 5.9758122e-07]\n",
            " [7.2593749e-24 1.0864400e-09 7.5089712e-11 6.4676060e-12 5.3071453e-06\n",
            "  3.0447264e-08 5.8216405e-18 1.4018439e-14 9.3028554e-09 9.9999464e-01]\n",
            " [5.8572938e-11 5.5615773e-23 4.0553398e-19 1.0435163e-14 7.1205892e-15\n",
            "  3.1688964e-01 6.8311024e-01 4.5070697e-21 8.7986400e-08 1.6301742e-10]]\n",
            "[7 2 1 0 4 1 4 9 5]\n"
          ],
          "name": "stdout"
        }
      ]
    },
    {
      "cell_type": "code",
      "metadata": {
        "id": "CT--y98_dr2T",
        "colab_type": "code",
        "colab": {}
      },
      "source": [
        "layer_dict = dict([(layer.name, layer) for layer in model.layers])"
      ],
      "execution_count": 0,
      "outputs": []
    },
    {
      "cell_type": "code",
      "metadata": {
        "id": "Z7zrdWP8_E75",
        "colab_type": "code",
        "outputId": "f276f645-2371-4c57-d59c-cedee5cdc752",
        "colab": {
          "base_uri": "https://localhost:8080/",
          "height": 741
        }
      },
      "source": [
        "import numpy as np\n",
        "from matplotlib import pyplot as plt\n",
        "from keras import backend as K\n",
        "%matplotlib inline\n",
        "# util function to convert a tensor into a valid image\n",
        "def deprocess_image(x):\n",
        "    # normalize tensor: center on 0., ensure std is 0.1\n",
        "    x -= x.mean()\n",
        "    x /= (x.std() + 1e-5)\n",
        "    x *= 0.1\n",
        "\n",
        "    # clip to [0, 1]\n",
        "    x += 0.5\n",
        "    x = np.clip(x, 0, 1)\n",
        "\n",
        "    # convert to RGB array\n",
        "    x *= 255\n",
        "    #x = x.transpose((1, 2, 0))\n",
        "    x = np.clip(x, 0, 255).astype('uint8')\n",
        "    return x\n",
        "\n",
        "def vis_img_in_filter(img = np.array(X_train[2]).reshape((1, 28, 28, 1)).astype(np.float64), \n",
        "                      layer_name = 'conv2d_74'):\n",
        "    layer_output = layer_dict[layer_name].output\n",
        "    img_ascs = list()\n",
        "    for filter_index in range(layer_output.shape[3]):\n",
        "        # build a loss function that maximizes the activation\n",
        "        # of the nth filter of the layer considered\n",
        "        loss = K.mean(layer_output[:, :, :, filter_index])\n",
        "\n",
        "        # compute the gradient of the input picture wrt this loss\n",
        "        grads = K.gradients(loss, model.input)[0]\n",
        "\n",
        "        # normalization trick: we normalize the gradient\n",
        "        grads /= (K.sqrt(K.mean(K.square(grads))) + 1e-5)\n",
        "\n",
        "        # this function returns the loss and grads given the input picture\n",
        "        iterate = K.function([model.input], [loss, grads])\n",
        "\n",
        "        # step size for gradient ascent\n",
        "        step = 5.\n",
        "\n",
        "        img_asc = np.array(img)\n",
        "        # run gradient ascent for 20 steps\n",
        "        for i in range(20):\n",
        "            loss_value, grads_value = iterate([img_asc])\n",
        "            img_asc += grads_value * step\n",
        "\n",
        "        img_asc = img_asc[0]\n",
        "        img_ascs.append(deprocess_image(img_asc).reshape((28, 28)))\n",
        "        \n",
        "    if layer_output.shape[3] >= 35:\n",
        "        plot_x, plot_y = 6, 6\n",
        "    elif layer_output.shape[3] >= 23:\n",
        "        plot_x, plot_y = 4, 6\n",
        "    elif layer_output.shape[3] >= 11:\n",
        "        plot_x, plot_y = 2, 6\n",
        "    else:\n",
        "        plot_x, plot_y = 1, 2\n",
        "    fig, ax = plt.subplots(plot_x, plot_y, figsize = (12, 12))\n",
        "    ax[0, 0].imshow(img.reshape((28, 28)), cmap = 'gray')\n",
        "    ax[0, 0].set_title('Input image')\n",
        "    fig.suptitle('Input image and %s filters' % (layer_name,))\n",
        "    fig.tight_layout(pad = 0.3, rect = [0, 0, 0.9, 0.9])\n",
        "    for (x, y) in [(i, j) for i in range(plot_x) for j in range(plot_y)]:\n",
        "        if x == 0 and y == 0:\n",
        "            continue\n",
        "        ax[x, y].imshow(img_ascs[x * plot_y + y - 1], cmap = 'gray')\n",
        "        ax[x, y].set_title('filter %d' % (x * plot_y + y - 1))\n",
        "\n",
        "vis_img_in_filter()"
      ],
      "execution_count": 0,
      "outputs": [
        {
          "output_type": "display_data",
          "data": {
            "image/png": "[encoded data removed]",
            "text/plain": [
              "<Figure size 864x864 with 12 Axes>"
            ]
          },
          "metadata": {
            "tags": []
          }
        }
      ]
    },
    {
      "cell_type": "markdown",
      "metadata": {
        "id": "nvo3WWsmHZNQ",
        "colab_type": "text"
      },
      "source": [
        "## Results\n",
        "\n",
        "---\n",
        "\n",
        "Model -   Used 3x3 & 1x1 Combo | 16 kernel/channels in 3x3 followed by 8 kernel/channels in 1x1 </br>\n",
        "\n",
        "BS - 32 </br> \n",
        "Epoch - 10 </br>\n",
        "Parameters - 20722 </br>\n",
        "\n",
        "Train Acc -  0.9872 </br>\n",
        "Val Acc - 0.9861 </br>\n",
        "HIghest Val Acc - 0.9861 </br>\n",
        "\n",
        "Gap b/w acc - 0.0011 </br>\n",
        "Overfitting -  Haven't obs</br>\n",
        "\n",
        "#### 2nd Run \n",
        "BS - 32 </br> \n",
        "Epoch - 20 </br>\n",
        "Parameters - 20722 </br>\n",
        "\n",
        "Train Acc -  0.9912 </br>\n",
        "Val Acc - 0.9861 </br>\n",
        "HIghest Val Acc - 0.9870 in 10th epoc</br>\n",
        "\n",
        "Gap b/w acc - 0.0051 </br>\n",
        "Overfitting -  Yes </br>\n",
        "\n",
        "#### 3rd Run  \n",
        "BS - 32 </br> \n",
        "Epoch - 30 </br>\n",
        "Parameters - 20722 </br>\n",
        "\n",
        "Train Acc -  0.9932 </br>\n",
        "Val Acc - 0.9828 </br>\n",
        "HIghest Val Acc - 0.9861 in 12th epoc</br>\n",
        "\n",
        "Gap b/w acc - 0.0104 </br>\n",
        "Overfitting -  Yes </br>\n",
        "\n",
        "#### 4th Run \n",
        "BS - 32 </br> \n",
        "Epoch - 50 </br>\n",
        "Parameters - 20722 </br>\n",
        "\n",
        "Train Acc -  0.9936/41(49) </br>\n",
        "Val Acc - 0.9863 </br>\n",
        "HIghest Val Acc - 0.9886 in 49th epoc</br>\n",
        "\n",
        "Gap b/w acc - 0.0104 </br>\n",
        "Overfitting -  Yes </br>\n",
        "\n",
        "\n",
        "#### Obs. \n",
        "Val Acc increases w/ the increase of Train Acc. </br>\n",
        "Acc increases, but very slowly as we can see it takes many epocs (my hyp) a) is it b/c of learning rate or b) is it b/c of gradient update(back prop)\n",
        "\n",
        "\n",
        "\n",
        "---\n",
        "\n",
        "\n",
        "\n",
        "Model  2 -   Used 3x3 & 1x1 Combo | 16 kernel/channels in 3x3 + 16 kernel/channels in 3x3 followed by 8 kernel/channels in 1x1 </br>\n",
        "\n",
        "BS - 32 </br> \n",
        "Epoch - 10 </br>\n",
        "Parameters - 24836 </br>\n",
        "\n",
        "Train Acc -  0.9865 </br>\n",
        "Val Acc - 0.9870 </br>\n",
        "HIghest Val Acc - 0.9870 </br>\n",
        "\n",
        "Gap b/w acc - 0.0005 </br>\n",
        "Overfitting -  no </br>\n",
        "\n",
        "#### 2nd Run \n",
        "BS - 32 </br> \n",
        "Epoch - 20 </br>\n",
        "Parameters - 20722 </br>\n",
        "\n",
        "Train Acc -  0.9914 </br>\n",
        "Val Acc - 0.9864 </br>\n",
        "HIghest Val Acc - 0.9890 in 19th epoc</br>\n",
        "\n",
        "Gap b/w acc - 0.005 </br>\n",
        "Overfitting -  No </br>\n",
        "\n",
        "#### 3rd Run  \n",
        "BS - 32 </br> \n",
        "Epoch - 30 </br>\n",
        "Parameters - 20722 </br>\n",
        "\n",
        "Train Acc -  0.9938 </br>\n",
        "Val Acc - 0.9885 </br>\n",
        "HIghest Val Acc - 0.9895 in 19th epoc</br>\n",
        "\n",
        "Gap b/w acc - 0.0104 </br>\n",
        "Overfitting -  Yes </br>\n",
        "\n",
        "#### 4th Run \n",
        "BS - 32 </br> \n",
        "Epoch - 50 </br>\n",
        "Parameters - 20722 </br>\n",
        "\n",
        "Train Acc -  0.9956  </br>\n",
        "Val Acc - 0.9850 </br>\n",
        "HIghest Val Acc - 0.9891 in 46th epoc</br>\n",
        "\n",
        "Gap b/w acc - 0.0104 </br>\n",
        "Overfitting -  Yes </br>\n",
        "\n",
        "\n",
        "#### Obs. \n",
        "Val Acc increases w/ the increase of Train Acc. </br>\n",
        "Acc increases, but very slowly as we can see it takes many epocs (my hyp) a) is it b/c of learning rate or b) is it b/c of gradient update(back prop)\n"
      ]
    },
    {
      "cell_type": "code",
      "metadata": {
        "id": "nOqhI7yoareC",
        "colab_type": "code",
        "colab": {}
      },
      "source": [
        ""
      ],
      "execution_count": 0,
      "outputs": []
    }
  ]
}