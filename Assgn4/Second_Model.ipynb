{
  "nbformat": 4,
  "nbformat_minor": 0,
  "metadata": {
    "colab": {
      "name": "Second Model.ipynb",
      "version": "0.3.2",
      "provenance": [],
      "collapsed_sections": [
        "didWANszUlFe",
        "kwiwE9-tWI7f",
        "BjZp3M1OWqFL",
        "YhFnWlzgXLv6",
        "oGR8-DeXaXSu",
        "z1hRzacVajm9",
        "X196WbBtazil",
        "ieD9PZ_Gbba2",
        "jE3cGtqtb0X1",
        "B-0IK5TFcBqL"
      ]
    },
    "kernelspec": {
      "name": "python3",
      "display_name": "Python 3"
    },
    "accelerator": "GPU"
  },
  "cells": [
    {
      "cell_type": "markdown",
      "metadata": {
        "id": "aNyZv-Ec52ot",
        "colab_type": "text"
      },
      "source": [
        "# **Import Libraries and modules**"
      ]
    },
    {
      "cell_type": "code",
      "metadata": {
        "id": "3m3w1Cw49Zkt",
        "colab_type": "code",
        "outputId": "693eab76-5740-4e25-d386-8a812f359c58",
        "colab": {
          "base_uri": "https://localhost:8080/",
          "height": 34
        }
      },
      "source": [
        "# https://keras.io/\n",
        "!pip install -q keras\n",
        "import keras"
      ],
      "execution_count": 1,
      "outputs": [
        {
          "output_type": "stream",
          "text": [
            "Using TensorFlow backend.\n"
          ],
          "name": "stderr"
        }
      ]
    },
    {
      "cell_type": "code",
      "metadata": {
        "id": "Eso6UHE080D4",
        "colab_type": "code",
        "colab": {}
      },
      "source": [
        "import numpy as np\n",
        "\n",
        "from keras.models import Sequential\n",
        "from keras.layers import Dense, Dropout, Activation, Flatten, Add\n",
        "from keras.layers import Convolution2D, MaxPooling2D\n",
        "from keras.utils import np_utils\n",
        "\n",
        "from keras.datasets import mnist"
      ],
      "execution_count": 0,
      "outputs": []
    },
    {
      "cell_type": "markdown",
      "metadata": {
        "id": "zByEi95J86RD",
        "colab_type": "text"
      },
      "source": [
        "### Load pre-shuffled MNIST data into train and test sets"
      ]
    },
    {
      "cell_type": "code",
      "metadata": {
        "id": "7eRM0QWN83PV",
        "colab_type": "code",
        "outputId": "234cd74c-476a-40cb-dbfd-64b3e16ab6d8",
        "colab": {
          "base_uri": "https://localhost:8080/",
          "height": 52
        }
      },
      "source": [
        "(X_train, y_train), (X_test, y_test) = mnist.load_data()"
      ],
      "execution_count": 3,
      "outputs": [
        {
          "output_type": "stream",
          "text": [
            "Downloading data from https://s3.amazonaws.com/img-datasets/mnist.npz\n",
            "11493376/11490434 [==============================] - 0s 0us/step\n"
          ],
          "name": "stdout"
        }
      ]
    },
    {
      "cell_type": "code",
      "metadata": {
        "id": "4a4Be72j8-ZC",
        "colab_type": "code",
        "outputId": "4ffc9b2a-559c-4e59-89e8-ae637af2a782",
        "colab": {
          "base_uri": "https://localhost:8080/",
          "height": 304
        }
      },
      "source": [
        "print (X_train.shape)\n",
        "from matplotlib import pyplot as plt\n",
        "%matplotlib inline\n",
        "plt.imshow(X_train[12])"
      ],
      "execution_count": 4,
      "outputs": [
        {
          "output_type": "stream",
          "text": [
            "(60000, 28, 28)\n"
          ],
          "name": "stdout"
        },
        {
          "output_type": "execute_result",
          "data": {
            "text/plain": [
              "<matplotlib.image.AxesImage at 0x7fe196156898>"
            ]
          },
          "metadata": {
            "tags": []
          },
          "execution_count": 4
        },
        {
          "output_type": "display_data",
          "data": {
            "image/png": "[encoded data removed]",
            "text/plain": [
              "<Figure size 432x288 with 1 Axes>"
            ]
          },
          "metadata": {
            "tags": []
          }
        }
      ]
    },
    {
      "cell_type": "code",
      "metadata": {
        "id": "dkmprriw9AnZ",
        "colab_type": "code",
        "colab": {}
      },
      "source": [
        "X_train = X_train.reshape(X_train.shape[0], 28, 28,1)\n",
        "X_test = X_test.reshape(X_test.shape[0], 28, 28,1)"
      ],
      "execution_count": 0,
      "outputs": []
    },
    {
      "cell_type": "code",
      "metadata": {
        "id": "X2m4YS4E9CRh",
        "colab_type": "code",
        "colab": {}
      },
      "source": [
        "X_train = X_train.astype('float32')\n",
        "X_test = X_test.astype('float32')\n",
        "X_train /= 255\n",
        "X_test /= 255"
      ],
      "execution_count": 0,
      "outputs": []
    },
    {
      "cell_type": "code",
      "metadata": {
        "id": "0Mn0vAYD9DvB",
        "colab_type": "code",
        "outputId": "a9f0a2f7-d6cd-4702-c85e-c6c69a614412",
        "colab": {
          "base_uri": "https://localhost:8080/",
          "height": 34
        }
      },
      "source": [
        "y_train[:10]"
      ],
      "execution_count": 0,
      "outputs": [
        {
          "output_type": "execute_result",
          "data": {
            "text/plain": [
              "array([5, 0, 4, 1, 9, 2, 1, 3, 1, 4], dtype=uint8)"
            ]
          },
          "metadata": {
            "tags": []
          },
          "execution_count": 7
        }
      ]
    },
    {
      "cell_type": "code",
      "metadata": {
        "id": "ZG8JiXR39FHC",
        "colab_type": "code",
        "colab": {}
      },
      "source": [
        "# Convert 1-dimensional class arrays to 10-dimensional class matrices\n",
        "Y_train = np_utils.to_categorical(y_train, 10)\n",
        "Y_test = np_utils.to_categorical(y_test, 10)"
      ],
      "execution_count": 0,
      "outputs": []
    },
    {
      "cell_type": "code",
      "metadata": {
        "id": "fYlFRvKS9HMB",
        "colab_type": "code",
        "outputId": "79f44f8d-7cfe-403f-ca76-be8da1c4160a",
        "colab": {
          "base_uri": "https://localhost:8080/",
          "height": 194
        }
      },
      "source": [
        "Y_train[:10]\n"
      ],
      "execution_count": 0,
      "outputs": [
        {
          "output_type": "execute_result",
          "data": {
            "text/plain": [
              "array([[0., 0., 0., 0., 0., 1., 0., 0., 0., 0.],\n",
              "       [1., 0., 0., 0., 0., 0., 0., 0., 0., 0.],\n",
              "       [0., 0., 0., 0., 1., 0., 0., 0., 0., 0.],\n",
              "       [0., 1., 0., 0., 0., 0., 0., 0., 0., 0.],\n",
              "       [0., 0., 0., 0., 0., 0., 0., 0., 0., 1.],\n",
              "       [0., 0., 1., 0., 0., 0., 0., 0., 0., 0.],\n",
              "       [0., 1., 0., 0., 0., 0., 0., 0., 0., 0.],\n",
              "       [0., 0., 0., 1., 0., 0., 0., 0., 0., 0.],\n",
              "       [0., 1., 0., 0., 0., 0., 0., 0., 0., 0.],\n",
              "       [0., 0., 0., 0., 1., 0., 0., 0., 0., 0.]], dtype=float32)"
            ]
          },
          "metadata": {
            "tags": []
          },
          "execution_count": 9
        }
      ]
    },
    {
      "cell_type": "code",
      "metadata": {
        "id": "Uz16GRyU_isG",
        "colab_type": "code",
        "colab": {
          "base_uri": "https://localhost:8080/",
          "height": 72
        },
        "outputId": "a9ccbe50-f9ee-4b60-97eb-d6220912413b"
      },
      "source": [
        "from keras.layers import Activation, BatchNormalization, Dropout\n",
        "model = Sequential()\n",
        "\n",
        "# After 1x1 BN added + mp rm1 \n",
        "model.add(Convolution2D(16, 3, 3, activation='relu', input_shape=(28,28,1)))\n",
        "model.add(BatchNormalization())\n",
        "model.add(Dropout(0.1))\n",
        "model.add(Convolution2D(8, 1, activation='relu'))\n",
        "model.add(BatchNormalization())\n",
        "model.add(Dropout(0.1))\n",
        "model.add(Convolution2D(16, 3, activation='relu'))\n",
        "model.add(BatchNormalization())\n",
        "model.add(Dropout(0.1))\n",
        "model.add(Convolution2D(8, 1, activation='relu'))\n",
        "model.add(BatchNormalization())\n",
        "model.add(Dropout(0.1))\n",
        "model.add(MaxPooling2D(pool_size=(2, 2))) # mp-rm1\n",
        "\n",
        "model.add(Convolution2D(16, 3, activation='relu'))\n",
        "model.add(BatchNormalization())\n",
        "model.add(Dropout(0.1))\n",
        "model.add(Convolution2D(8, 1, activation='relu'))\n",
        "model.add(BatchNormalization())\n",
        "model.add(Dropout(0.1))\n",
        "model.add(Convolution2D(16, 3, activation='relu'))\n",
        "model.add(BatchNormalization())\n",
        "model.add(Dropout(0.1))\n",
        "model.add(Convolution2D(8, 1, activation='relu'))\n",
        "model.add(BatchNormalization())\n",
        "model.add(Dropout(0.1))\n",
        "# model.add(MaxPooling2D(pool_size=(2, 2))) # mp-rm2\n",
        "\n",
        "model.add(Convolution2D(20, 3, activation='relu'))\n",
        "model.add(BatchNormalization())\n",
        "model.add(Dropout(0.1))\n",
        "model.add(Convolution2D(10, 1))\n",
        "model.add(BatchNormalization()) # **\n",
        "model.add(Dropout(0.1))\n",
        "\n",
        "model.add(Convolution2D(10, 6))\n",
        "model.add(BatchNormalization()) # *1\n",
        "# model.add(Dropout(0.1)) # exp dropout\n",
        "model.add(Flatten())\n",
        "model.add(Activation('softmax'))"
      ],
      "execution_count": 37,
      "outputs": [
        {
          "output_type": "stream",
          "text": [
            "/usr/local/lib/python3.6/dist-packages/ipykernel_launcher.py:5: UserWarning: Update your `Conv2D` call to the Keras 2 API: `Conv2D(16, (3, 3), activation=\"relu\", input_shape=(28, 28, 1...)`\n",
            "  \"\"\"\n"
          ],
          "name": "stderr"
        }
      ]
    },
    {
      "cell_type": "code",
      "metadata": {
        "id": "TzdAYg1k9K7Z",
        "colab_type": "code",
        "outputId": "48ef3330-70eb-4de4-a07e-4ea2e14c1c3c",
        "colab": {
          "base_uri": "https://localhost:8080/",
          "height": 1385
        }
      },
      "source": [
        "model.summary()"
      ],
      "execution_count": 34,
      "outputs": [
        {
          "output_type": "stream",
          "text": [
            "_________________________________________________________________\n",
            "Layer (type)                 Output Shape              Param #   \n",
            "=================================================================\n",
            "conv2d_78 (Conv2D)           (None, 26, 26, 16)        160       \n",
            "_________________________________________________________________\n",
            "batch_normalization_78 (Batc (None, 26, 26, 16)        64        \n",
            "_________________________________________________________________\n",
            "dropout_53 (Dropout)         (None, 26, 26, 16)        0         \n",
            "_________________________________________________________________\n",
            "conv2d_79 (Conv2D)           (None, 26, 26, 8)         136       \n",
            "_________________________________________________________________\n",
            "batch_normalization_79 (Batc (None, 26, 26, 8)         32        \n",
            "_________________________________________________________________\n",
            "dropout_54 (Dropout)         (None, 26, 26, 8)         0         \n",
            "_________________________________________________________________\n",
            "conv2d_80 (Conv2D)           (None, 24, 24, 16)        1168      \n",
            "_________________________________________________________________\n",
            "batch_normalization_80 (Batc (None, 24, 24, 16)        64        \n",
            "_________________________________________________________________\n",
            "dropout_55 (Dropout)         (None, 24, 24, 16)        0         \n",
            "_________________________________________________________________\n",
            "conv2d_81 (Conv2D)           (None, 24, 24, 8)         136       \n",
            "_________________________________________________________________\n",
            "batch_normalization_81 (Batc (None, 24, 24, 8)         32        \n",
            "_________________________________________________________________\n",
            "dropout_56 (Dropout)         (None, 24, 24, 8)         0         \n",
            "_________________________________________________________________\n",
            "max_pooling2d_8 (MaxPooling2 (None, 12, 12, 8)         0         \n",
            "_________________________________________________________________\n",
            "conv2d_82 (Conv2D)           (None, 10, 10, 16)        1168      \n",
            "_________________________________________________________________\n",
            "batch_normalization_82 (Batc (None, 10, 10, 16)        64        \n",
            "_________________________________________________________________\n",
            "dropout_57 (Dropout)         (None, 10, 10, 16)        0         \n",
            "_________________________________________________________________\n",
            "conv2d_83 (Conv2D)           (None, 10, 10, 8)         136       \n",
            "_________________________________________________________________\n",
            "batch_normalization_83 (Batc (None, 10, 10, 8)         32        \n",
            "_________________________________________________________________\n",
            "dropout_58 (Dropout)         (None, 10, 10, 8)         0         \n",
            "_________________________________________________________________\n",
            "conv2d_84 (Conv2D)           (None, 8, 8, 16)          1168      \n",
            "_________________________________________________________________\n",
            "batch_normalization_84 (Batc (None, 8, 8, 16)          64        \n",
            "_________________________________________________________________\n",
            "dropout_59 (Dropout)         (None, 8, 8, 16)          0         \n",
            "_________________________________________________________________\n",
            "conv2d_85 (Conv2D)           (None, 8, 8, 8)           136       \n",
            "_________________________________________________________________\n",
            "batch_normalization_85 (Batc (None, 8, 8, 8)           32        \n",
            "_________________________________________________________________\n",
            "dropout_60 (Dropout)         (None, 8, 8, 8)           0         \n",
            "_________________________________________________________________\n",
            "conv2d_86 (Conv2D)           (None, 6, 6, 20)          1460      \n",
            "_________________________________________________________________\n",
            "batch_normalization_86 (Batc (None, 6, 6, 20)          80        \n",
            "_________________________________________________________________\n",
            "dropout_61 (Dropout)         (None, 6, 6, 20)          0         \n",
            "_________________________________________________________________\n",
            "conv2d_87 (Conv2D)           (None, 6, 6, 10)          210       \n",
            "_________________________________________________________________\n",
            "batch_normalization_87 (Batc (None, 6, 6, 10)          40        \n",
            "_________________________________________________________________\n",
            "dropout_62 (Dropout)         (None, 6, 6, 10)          0         \n",
            "_________________________________________________________________\n",
            "conv2d_88 (Conv2D)           (None, 1, 1, 10)          3610      \n",
            "_________________________________________________________________\n",
            "batch_normalization_88 (Batc (None, 1, 1, 10)          40        \n",
            "_________________________________________________________________\n",
            "flatten_8 (Flatten)          (None, 10)                0         \n",
            "_________________________________________________________________\n",
            "activation_8 (Activation)    (None, 10)                0         \n",
            "=================================================================\n",
            "Total params: 10,032\n",
            "Trainable params: 9,760\n",
            "Non-trainable params: 272\n",
            "_________________________________________________________________\n"
          ],
          "name": "stdout"
        }
      ]
    },
    {
      "cell_type": "code",
      "metadata": {
        "id": "Zp6SuGrL9M3h",
        "colab_type": "code",
        "colab": {}
      },
      "source": [
        "model.compile(loss='categorical_crossentropy',\n",
        "             optimizer='adam',\n",
        "             metrics=['accuracy'])"
      ],
      "execution_count": 0,
      "outputs": []
    },
    {
      "cell_type": "markdown",
      "metadata": {
        "id": "Eq_wvwLxcrYS",
        "colab_type": "text"
      },
      "source": [
        "## All the run's below are to see the affect of BN, DP after certain layer."
      ]
    },
    {
      "cell_type": "markdown",
      "metadata": {
        "id": "didWANszUlFe",
        "colab_type": "text"
      },
      "source": [
        "### what's the effect of second max pool in model "
      ]
    },
    {
      "cell_type": "code",
      "metadata": {
        "id": "n0QLlIbK0qAD",
        "colab_type": "code",
        "colab": {
          "base_uri": "https://localhost:8080/",
          "height": 1227
        },
        "outputId": "fca4e60d-dde9-469e-9c0a-122a90b4189c"
      },
      "source": [
        "# commenting second max pool | mp-rm2\n",
        "model.fit(X_train, Y_train, batch_size=32, nb_epoch=30, verbose=1, validation_data=(X_test, Y_test))"
      ],
      "execution_count": 11,
      "outputs": [
        {
          "output_type": "stream",
          "text": [
            "WARNING:tensorflow:From /usr/local/lib/python3.6/dist-packages/tensorflow/python/ops/math_ops.py:3066: to_int32 (from tensorflow.python.ops.math_ops) is deprecated and will be removed in a future version.\n",
            "Instructions for updating:\n",
            "Use tf.cast instead.\n"
          ],
          "name": "stdout"
        },
        {
          "output_type": "stream",
          "text": [
            "/usr/local/lib/python3.6/dist-packages/ipykernel_launcher.py:1: UserWarning: The `nb_epoch` argument in `fit` has been renamed `epochs`.\n",
            "  \"\"\"Entry point for launching an IPython kernel.\n"
          ],
          "name": "stderr"
        },
        {
          "output_type": "stream",
          "text": [
            "Train on 60000 samples, validate on 10000 samples\n",
            "Epoch 1/30\n",
            "60000/60000 [==============================] - 32s 529us/step - loss: 0.4395 - acc: 0.9146 - val_loss: 0.1335 - val_acc: 0.9814\n",
            "Epoch 2/30\n",
            "60000/60000 [==============================] - 29s 476us/step - loss: 0.1539 - acc: 0.9693 - val_loss: 0.0581 - val_acc: 0.9884\n",
            "Epoch 3/30\n",
            "60000/60000 [==============================] - 28s 471us/step - loss: 0.1027 - acc: 0.9776 - val_loss: 0.0700 - val_acc: 0.9862\n",
            "Epoch 4/30\n",
            "60000/60000 [==============================] - 27s 455us/step - loss: 0.0803 - acc: 0.9820 - val_loss: 0.0389 - val_acc: 0.9892\n",
            "Epoch 5/30\n",
            "60000/60000 [==============================] - 27s 453us/step - loss: 0.0656 - acc: 0.9840 - val_loss: 0.0376 - val_acc: 0.9904\n",
            "Epoch 6/30\n",
            "60000/60000 [==============================] - 28s 470us/step - loss: 0.0563 - acc: 0.9862 - val_loss: 0.0307 - val_acc: 0.9914\n",
            "Epoch 7/30\n",
            "60000/60000 [==============================] - 27s 450us/step - loss: 0.0477 - acc: 0.9878 - val_loss: 0.0321 - val_acc: 0.9923\n",
            "Epoch 8/30\n",
            "60000/60000 [==============================] - 27s 454us/step - loss: 0.0464 - acc: 0.9884 - val_loss: 0.0296 - val_acc: 0.9915\n",
            "Epoch 9/30\n",
            "60000/60000 [==============================] - 28s 472us/step - loss: 0.0397 - acc: 0.9897 - val_loss: 0.0318 - val_acc: 0.9895\n",
            "Epoch 10/30\n",
            "60000/60000 [==============================] - 27s 453us/step - loss: 0.0361 - acc: 0.9907 - val_loss: 0.0279 - val_acc: 0.9917\n",
            "Epoch 11/30\n",
            "60000/60000 [==============================] - 27s 451us/step - loss: 0.0340 - acc: 0.9908 - val_loss: 0.0256 - val_acc: 0.9926\n",
            "Epoch 12/30\n",
            "60000/60000 [==============================] - 29s 479us/step - loss: 0.0313 - acc: 0.9914 - val_loss: 0.0275 - val_acc: 0.9912\n",
            "Epoch 13/30\n",
            "60000/60000 [==============================] - 28s 475us/step - loss: 0.0293 - acc: 0.9920 - val_loss: 0.0360 - val_acc: 0.9892\n",
            "Epoch 14/30\n",
            "60000/60000 [==============================] - 27s 448us/step - loss: 0.0278 - acc: 0.9922 - val_loss: 0.0251 - val_acc: 0.9938\n",
            "Epoch 15/30\n",
            "60000/60000 [==============================] - 28s 467us/step - loss: 0.0271 - acc: 0.9926 - val_loss: 0.0237 - val_acc: 0.9930\n",
            "Epoch 16/30\n",
            "60000/60000 [==============================] - 27s 446us/step - loss: 0.0250 - acc: 0.9929 - val_loss: 0.0246 - val_acc: 0.9920\n",
            "Epoch 17/30\n",
            "60000/60000 [==============================] - 27s 452us/step - loss: 0.0242 - acc: 0.9935 - val_loss: 0.0254 - val_acc: 0.9917\n",
            "Epoch 18/30\n",
            "60000/60000 [==============================] - 27s 458us/step - loss: 0.0217 - acc: 0.9936 - val_loss: 0.0300 - val_acc: 0.9900\n",
            "Epoch 19/30\n",
            "60000/60000 [==============================] - 27s 445us/step - loss: 0.0225 - acc: 0.9936 - val_loss: 0.0226 - val_acc: 0.9932\n",
            "Epoch 20/30\n",
            "60000/60000 [==============================] - 27s 452us/step - loss: 0.0207 - acc: 0.9941 - val_loss: 0.0263 - val_acc: 0.9914\n",
            "Epoch 21/30\n",
            "60000/60000 [==============================] - 28s 459us/step - loss: 0.0205 - acc: 0.9942 - val_loss: 0.0238 - val_acc: 0.9926\n",
            "Epoch 22/30\n",
            "60000/60000 [==============================] - 27s 445us/step - loss: 0.0206 - acc: 0.9940 - val_loss: 0.0235 - val_acc: 0.9922\n",
            "Epoch 23/30\n",
            "60000/60000 [==============================] - 27s 451us/step - loss: 0.0184 - acc: 0.9948 - val_loss: 0.0242 - val_acc: 0.9923\n",
            "Epoch 24/30\n",
            "60000/60000 [==============================] - 29s 475us/step - loss: 0.0183 - acc: 0.9948 - val_loss: 0.0229 - val_acc: 0.9924\n",
            "Epoch 25/30\n",
            "60000/60000 [==============================] - 27s 454us/step - loss: 0.0176 - acc: 0.9950 - val_loss: 0.0237 - val_acc: 0.9923\n",
            "Epoch 26/30\n",
            "60000/60000 [==============================] - 27s 458us/step - loss: 0.0163 - acc: 0.9956 - val_loss: 0.0273 - val_acc: 0.9918\n",
            "Epoch 27/30\n",
            "60000/60000 [==============================] - 27s 450us/step - loss: 0.0169 - acc: 0.9950 - val_loss: 0.0240 - val_acc: 0.9925\n",
            "Epoch 28/30\n",
            "60000/60000 [==============================] - 27s 446us/step - loss: 0.0146 - acc: 0.9955 - val_loss: 0.0259 - val_acc: 0.9913\n",
            "Epoch 29/30\n",
            "60000/60000 [==============================] - 28s 459us/step - loss: 0.0157 - acc: 0.9954 - val_loss: 0.0231 - val_acc: 0.9930\n",
            "Epoch 30/30\n",
            "60000/60000 [==============================] - 27s 449us/step - loss: 0.0153 - acc: 0.9956 - val_loss: 0.0241 - val_acc: 0.9923\n"
          ],
          "name": "stdout"
        },
        {
          "output_type": "execute_result",
          "data": {
            "text/plain": [
              "<keras.callbacks.History at 0x7fe196145e10>"
            ]
          },
          "metadata": {
            "tags": []
          },
          "execution_count": 11
        }
      ]
    },
    {
      "cell_type": "markdown",
      "metadata": {
        "id": "kwiwE9-tWI7f",
        "colab_type": "text"
      },
      "source": [
        "### what's the effect of adding Drop out after every BN"
      ]
    },
    {
      "cell_type": "code",
      "metadata": {
        "id": "-iPO6NsDA8he",
        "colab_type": "code",
        "colab": {
          "base_uri": "https://localhost:8080/",
          "height": 1154
        },
        "outputId": "e42af817-82c0-4086-9c34-f39fcaf2e1ad"
      },
      "source": [
        "model.fit(X_train, Y_train, batch_size=32, nb_epoch=30, verbose=1, validation_data=(X_test, Y_test))"
      ],
      "execution_count": 19,
      "outputs": [
        {
          "output_type": "stream",
          "text": [
            "/usr/local/lib/python3.6/dist-packages/ipykernel_launcher.py:1: UserWarning: The `nb_epoch` argument in `fit` has been renamed `epochs`.\n",
            "  \"\"\"Entry point for launching an IPython kernel.\n"
          ],
          "name": "stderr"
        },
        {
          "output_type": "stream",
          "text": [
            "Train on 60000 samples, validate on 10000 samples\n",
            "Epoch 1/30\n",
            "60000/60000 [==============================] - 35s 582us/step - loss: 0.5910 - acc: 0.8625 - val_loss: 0.1370 - val_acc: 0.9749\n",
            "Epoch 2/30\n",
            "60000/60000 [==============================] - 32s 534us/step - loss: 0.2199 - acc: 0.9491 - val_loss: 0.0619 - val_acc: 0.9857\n",
            "Epoch 3/30\n",
            "60000/60000 [==============================] - 31s 519us/step - loss: 0.1550 - acc: 0.9616 - val_loss: 0.0542 - val_acc: 0.9846\n",
            "Epoch 4/30\n",
            "60000/60000 [==============================] - 30s 508us/step - loss: 0.1252 - acc: 0.9680 - val_loss: 0.0541 - val_acc: 0.9854\n",
            "Epoch 5/30\n",
            "60000/60000 [==============================] - 32s 537us/step - loss: 0.1032 - acc: 0.9731 - val_loss: 0.0425 - val_acc: 0.9881\n",
            "Epoch 6/30\n",
            "60000/60000 [==============================] - 30s 505us/step - loss: 0.0945 - acc: 0.9753 - val_loss: 0.0326 - val_acc: 0.9911\n",
            "Epoch 7/30\n",
            "60000/60000 [==============================] - 31s 523us/step - loss: 0.0859 - acc: 0.9771 - val_loss: 0.0344 - val_acc: 0.9893\n",
            "Epoch 8/30\n",
            "60000/60000 [==============================] - 31s 510us/step - loss: 0.0815 - acc: 0.9780 - val_loss: 0.0323 - val_acc: 0.9899\n",
            "Epoch 9/30\n",
            "60000/60000 [==============================] - 30s 504us/step - loss: 0.0738 - acc: 0.9798 - val_loss: 0.0269 - val_acc: 0.9914\n",
            "Epoch 10/30\n",
            "60000/60000 [==============================] - 32s 525us/step - loss: 0.0705 - acc: 0.9807 - val_loss: 0.0328 - val_acc: 0.9910\n",
            "Epoch 11/30\n",
            "60000/60000 [==============================] - 30s 502us/step - loss: 0.0662 - acc: 0.9818 - val_loss: 0.0299 - val_acc: 0.9911\n",
            "Epoch 12/30\n",
            "60000/60000 [==============================] - 31s 517us/step - loss: 0.0636 - acc: 0.9824 - val_loss: 0.0266 - val_acc: 0.9917\n",
            "Epoch 13/30\n",
            "60000/60000 [==============================] - 31s 513us/step - loss: 0.0612 - acc: 0.9828 - val_loss: 0.0295 - val_acc: 0.9913\n",
            "Epoch 14/30\n",
            "60000/60000 [==============================] - 30s 507us/step - loss: 0.0596 - acc: 0.9830 - val_loss: 0.0286 - val_acc: 0.9913\n",
            "Epoch 15/30\n",
            "60000/60000 [==============================] - 33s 543us/step - loss: 0.0586 - acc: 0.9836 - val_loss: 0.0246 - val_acc: 0.9929\n",
            "Epoch 16/30\n",
            "60000/60000 [==============================] - 30s 506us/step - loss: 0.0562 - acc: 0.9839 - val_loss: 0.0264 - val_acc: 0.9923\n",
            "Epoch 17/30\n",
            "60000/60000 [==============================] - 30s 504us/step - loss: 0.0557 - acc: 0.9838 - val_loss: 0.0236 - val_acc: 0.9922\n",
            "Epoch 18/30\n",
            "60000/60000 [==============================] - 32s 528us/step - loss: 0.0537 - acc: 0.9845 - val_loss: 0.0246 - val_acc: 0.9928\n",
            "Epoch 19/30\n",
            "60000/60000 [==============================] - 30s 504us/step - loss: 0.0509 - acc: 0.9851 - val_loss: 0.0238 - val_acc: 0.9927\n",
            "Epoch 20/30\n",
            "60000/60000 [==============================] - 31s 525us/step - loss: 0.0534 - acc: 0.9848 - val_loss: 0.0239 - val_acc: 0.9927\n",
            "Epoch 21/30\n",
            "60000/60000 [==============================] - 30s 499us/step - loss: 0.0501 - acc: 0.9856 - val_loss: 0.0244 - val_acc: 0.9923\n",
            "Epoch 22/30\n",
            "60000/60000 [==============================] - 31s 513us/step - loss: 0.0505 - acc: 0.9854 - val_loss: 0.0234 - val_acc: 0.9932\n",
            "Epoch 23/30\n",
            "60000/60000 [==============================] - 31s 521us/step - loss: 0.0496 - acc: 0.9858 - val_loss: 0.0212 - val_acc: 0.9936\n",
            "Epoch 24/30\n",
            "60000/60000 [==============================] - 30s 502us/step - loss: 0.0494 - acc: 0.9852 - val_loss: 0.0224 - val_acc: 0.9932\n",
            "Epoch 25/30\n",
            "60000/60000 [==============================] - 32s 538us/step - loss: 0.0483 - acc: 0.9861 - val_loss: 0.0241 - val_acc: 0.9926\n",
            "Epoch 26/30\n",
            "60000/60000 [==============================] - 31s 509us/step - loss: 0.0468 - acc: 0.9864 - val_loss: 0.0232 - val_acc: 0.9938\n",
            "Epoch 27/30\n",
            "60000/60000 [==============================] - 30s 502us/step - loss: 0.0470 - acc: 0.9863 - val_loss: 0.0201 - val_acc: 0.9940\n",
            "Epoch 28/30\n",
            "60000/60000 [==============================] - 31s 523us/step - loss: 0.0443 - acc: 0.9871 - val_loss: 0.0201 - val_acc: 0.9939\n",
            "Epoch 29/30\n",
            "60000/60000 [==============================] - 30s 505us/step - loss: 0.0437 - acc: 0.9875 - val_loss: 0.0223 - val_acc: 0.9924\n",
            "Epoch 30/30\n",
            "60000/60000 [==============================] - 30s 501us/step - loss: 0.0447 - acc: 0.9870 - val_loss: 0.0210 - val_acc: 0.9932\n"
          ],
          "name": "stdout"
        },
        {
          "output_type": "execute_result",
          "data": {
            "text/plain": [
              "<keras.callbacks.History at 0x7fe14e70ec88>"
            ]
          },
          "metadata": {
            "tags": []
          },
          "execution_count": 19
        }
      ]
    },
    {
      "cell_type": "markdown",
      "metadata": {
        "id": "BjZp3M1OWqFL",
        "colab_type": "text"
      },
      "source": [
        "### Previous fit was DP after every BN but not before flatten, so this run is to check what's the effect of adding Dropout before flatten layer."
      ]
    },
    {
      "cell_type": "code",
      "metadata": {
        "id": "5qFVGJy4ODN4",
        "colab_type": "code",
        "colab": {
          "base_uri": "https://localhost:8080/",
          "height": 1154
        },
        "outputId": "e49b4500-2c39-43c3-e6cf-27576a273b9a"
      },
      "source": [
        "model.fit(X_train, Y_train, batch_size=32, nb_epoch=30, verbose=1, validation_data=(X_test, Y_test))"
      ],
      "execution_count": 25,
      "outputs": [
        {
          "output_type": "stream",
          "text": [
            "/usr/local/lib/python3.6/dist-packages/ipykernel_launcher.py:1: UserWarning: The `nb_epoch` argument in `fit` has been renamed `epochs`.\n",
            "  \"\"\"Entry point for launching an IPython kernel.\n"
          ],
          "name": "stderr"
        },
        {
          "output_type": "stream",
          "text": [
            "Train on 60000 samples, validate on 10000 samples\n",
            "Epoch 1/30\n",
            "60000/60000 [==============================] - 36s 602us/step - loss: 0.7147 - acc: 0.7904 - val_loss: 0.1467 - val_acc: 0.9730\n",
            "Epoch 2/30\n",
            "60000/60000 [==============================] - 32s 531us/step - loss: 0.3994 - acc: 0.8694 - val_loss: 0.1052 - val_acc: 0.9772\n",
            "Epoch 3/30\n",
            "60000/60000 [==============================] - 31s 522us/step - loss: 0.3231 - acc: 0.8906 - val_loss: 0.0684 - val_acc: 0.9835\n",
            "Epoch 4/30\n",
            "60000/60000 [==============================] - 33s 542us/step - loss: 0.2816 - acc: 0.9043 - val_loss: 0.0600 - val_acc: 0.9842\n",
            "Epoch 5/30\n",
            "60000/60000 [==============================] - 33s 548us/step - loss: 0.2549 - acc: 0.9127 - val_loss: 0.0459 - val_acc: 0.9872\n",
            "Epoch 6/30\n",
            "60000/60000 [==============================] - 32s 534us/step - loss: 0.2330 - acc: 0.9197 - val_loss: 0.0433 - val_acc: 0.9885\n",
            "Epoch 7/30\n",
            "60000/60000 [==============================] - 32s 529us/step - loss: 0.2216 - acc: 0.9244 - val_loss: 0.0355 - val_acc: 0.9895\n",
            "Epoch 8/30\n",
            "60000/60000 [==============================] - 31s 516us/step - loss: 0.2061 - acc: 0.9286 - val_loss: 0.0361 - val_acc: 0.9894\n",
            "Epoch 9/30\n",
            "60000/60000 [==============================] - 32s 542us/step - loss: 0.2001 - acc: 0.9289 - val_loss: 0.0322 - val_acc: 0.9907\n",
            "Epoch 10/30\n",
            "60000/60000 [==============================] - 31s 516us/step - loss: 0.1948 - acc: 0.9300 - val_loss: 0.0303 - val_acc: 0.9911\n",
            "Epoch 11/30\n",
            "60000/60000 [==============================] - 32s 540us/step - loss: 0.1918 - acc: 0.9309 - val_loss: 0.0308 - val_acc: 0.9910\n",
            "Epoch 12/30\n",
            "60000/60000 [==============================] - 32s 530us/step - loss: 0.1854 - acc: 0.9331 - val_loss: 0.0316 - val_acc: 0.9901\n",
            "Epoch 13/30\n",
            "60000/60000 [==============================] - 31s 516us/step - loss: 0.1822 - acc: 0.9338 - val_loss: 0.0288 - val_acc: 0.9916\n",
            "Epoch 14/30\n",
            "60000/60000 [==============================] - 32s 539us/step - loss: 0.1814 - acc: 0.9330 - val_loss: 0.0320 - val_acc: 0.9904\n",
            "Epoch 15/30\n",
            "60000/60000 [==============================] - 33s 546us/step - loss: 0.1751 - acc: 0.9350 - val_loss: 0.0296 - val_acc: 0.9904\n",
            "Epoch 16/30\n",
            "60000/60000 [==============================] - 31s 521us/step - loss: 0.1764 - acc: 0.9351 - val_loss: 0.0250 - val_acc: 0.9919\n",
            "Epoch 17/30\n",
            "60000/60000 [==============================] - 32s 535us/step - loss: 0.1705 - acc: 0.9379 - val_loss: 0.0242 - val_acc: 0.9928\n",
            "Epoch 18/30\n",
            "60000/60000 [==============================] - 31s 518us/step - loss: 0.1679 - acc: 0.9373 - val_loss: 0.0259 - val_acc: 0.9919\n",
            "Epoch 19/30\n",
            "60000/60000 [==============================] - 32s 542us/step - loss: 0.1661 - acc: 0.9370 - val_loss: 0.0289 - val_acc: 0.9911\n",
            "Epoch 20/30\n",
            "60000/60000 [==============================] - 32s 531us/step - loss: 0.1604 - acc: 0.9378 - val_loss: 0.0276 - val_acc: 0.9919\n",
            "Epoch 21/30\n",
            "60000/60000 [==============================] - 31s 519us/step - loss: 0.1613 - acc: 0.9389 - val_loss: 0.0297 - val_acc: 0.9899\n",
            "Epoch 22/30\n",
            "60000/60000 [==============================] - 33s 543us/step - loss: 0.1618 - acc: 0.9388 - val_loss: 0.0284 - val_acc: 0.9903\n",
            "Epoch 23/30\n",
            "60000/60000 [==============================] - 31s 522us/step - loss: 0.1593 - acc: 0.9399 - val_loss: 0.0260 - val_acc: 0.9919\n",
            "Epoch 24/30\n",
            "60000/60000 [==============================] - 33s 546us/step - loss: 0.1573 - acc: 0.9396 - val_loss: 0.0232 - val_acc: 0.9927\n",
            "Epoch 25/30\n",
            "60000/60000 [==============================] - 33s 549us/step - loss: 0.1544 - acc: 0.9400 - val_loss: 0.0257 - val_acc: 0.9921\n",
            "Epoch 26/30\n",
            "60000/60000 [==============================] - 31s 522us/step - loss: 0.1538 - acc: 0.9412 - val_loss: 0.0246 - val_acc: 0.9921\n",
            "Epoch 27/30\n",
            "60000/60000 [==============================] - 34s 560us/step - loss: 0.1507 - acc: 0.9418 - val_loss: 0.0248 - val_acc: 0.9922\n",
            "Epoch 28/30\n",
            "60000/60000 [==============================] - 32s 541us/step - loss: 0.1478 - acc: 0.9422 - val_loss: 0.0253 - val_acc: 0.9924\n",
            "Epoch 29/30\n",
            "60000/60000 [==============================] - 33s 553us/step - loss: 0.1493 - acc: 0.9423 - val_loss: 0.0244 - val_acc: 0.9925\n",
            "Epoch 30/30\n",
            "60000/60000 [==============================] - 33s 546us/step - loss: 0.1521 - acc: 0.9410 - val_loss: 0.0225 - val_acc: 0.9921\n"
          ],
          "name": "stdout"
        },
        {
          "output_type": "execute_result",
          "data": {
            "text/plain": [
              "<keras.callbacks.History at 0x7fe148dbfb00>"
            ]
          },
          "metadata": {
            "tags": []
          },
          "execution_count": 25
        }
      ]
    },
    {
      "cell_type": "markdown",
      "metadata": {
        "id": "YhFnWlzgXLv6",
        "colab_type": "text"
      },
      "source": [
        "### what's the effect of first max pool layer in model"
      ]
    },
    {
      "cell_type": "code",
      "metadata": {
        "id": "51jjs3sr7gZt",
        "colab_type": "code",
        "colab": {
          "base_uri": "https://localhost:8080/",
          "height": 1865
        },
        "outputId": "f3288a0c-cd90-4ca5-fd76-4a6fd12ef9a1"
      },
      "source": [
        "model.fit(X_train, Y_train, batch_size=32, nb_epoch=50, verbose=1, validation_data=(X_test, Y_test))"
      ],
      "execution_count": 34,
      "outputs": [
        {
          "output_type": "stream",
          "text": [
            "/usr/local/lib/python3.6/dist-packages/ipykernel_launcher.py:1: UserWarning: The `nb_epoch` argument in `fit` has been renamed `epochs`.\n",
            "  \"\"\"Entry point for launching an IPython kernel.\n"
          ],
          "name": "stderr"
        },
        {
          "output_type": "stream",
          "text": [
            "Train on 60000 samples, validate on 10000 samples\n",
            "Epoch 1/50\n",
            "60000/60000 [==============================] - 63s 1ms/step - loss: 0.3982 - acc: 0.9305 - val_loss: 0.1351 - val_acc: 0.9821\n",
            "Epoch 2/50\n",
            "60000/60000 [==============================] - 56s 940us/step - loss: 0.1627 - acc: 0.9677 - val_loss: 0.0730 - val_acc: 0.9851\n",
            "Epoch 3/50\n",
            "60000/60000 [==============================] - 57s 943us/step - loss: 0.1128 - acc: 0.9746 - val_loss: 0.0563 - val_acc: 0.9861\n",
            "Epoch 4/50\n",
            "60000/60000 [==============================] - 56s 937us/step - loss: 0.0853 - acc: 0.9794 - val_loss: 0.0424 - val_acc: 0.9903\n",
            "Epoch 5/50\n",
            "60000/60000 [==============================] - 56s 931us/step - loss: 0.0702 - acc: 0.9830 - val_loss: 0.0384 - val_acc: 0.9903\n",
            "Epoch 6/50\n",
            "60000/60000 [==============================] - 57s 944us/step - loss: 0.0613 - acc: 0.9849 - val_loss: 0.0332 - val_acc: 0.9909\n",
            "Epoch 7/50\n",
            "60000/60000 [==============================] - 57s 943us/step - loss: 0.0532 - acc: 0.9863 - val_loss: 0.0335 - val_acc: 0.9904\n",
            "Epoch 8/50\n",
            "60000/60000 [==============================] - 56s 942us/step - loss: 0.0486 - acc: 0.9872 - val_loss: 0.0347 - val_acc: 0.9905\n",
            "Epoch 9/50\n",
            "60000/60000 [==============================] - 57s 943us/step - loss: 0.0431 - acc: 0.9890 - val_loss: 0.0410 - val_acc: 0.9890\n",
            "Epoch 10/50\n",
            "60000/60000 [==============================] - 56s 934us/step - loss: 0.0404 - acc: 0.9894 - val_loss: 0.0318 - val_acc: 0.9908\n",
            "Epoch 11/50\n",
            "60000/60000 [==============================] - 56s 941us/step - loss: 0.0363 - acc: 0.9899 - val_loss: 0.0340 - val_acc: 0.9903\n",
            "Epoch 12/50\n",
            "60000/60000 [==============================] - 57s 944us/step - loss: 0.0346 - acc: 0.9906 - val_loss: 0.0304 - val_acc: 0.9912\n",
            "Epoch 13/50\n",
            "60000/60000 [==============================] - 57s 943us/step - loss: 0.0326 - acc: 0.9913 - val_loss: 0.0348 - val_acc: 0.9904\n",
            "Epoch 14/50\n",
            "60000/60000 [==============================] - 57s 943us/step - loss: 0.0302 - acc: 0.9919 - val_loss: 0.0328 - val_acc: 0.9899\n",
            "Epoch 15/50\n",
            "60000/60000 [==============================] - 56s 937us/step - loss: 0.0298 - acc: 0.9922 - val_loss: 0.0411 - val_acc: 0.9881\n",
            "Epoch 16/50\n",
            "60000/60000 [==============================] - 56s 936us/step - loss: 0.0274 - acc: 0.9925 - val_loss: 0.0375 - val_acc: 0.9881\n",
            "Epoch 17/50\n",
            "60000/60000 [==============================] - 57s 946us/step - loss: 0.0261 - acc: 0.9929 - val_loss: 0.0315 - val_acc: 0.9905\n",
            "Epoch 18/50\n",
            "60000/60000 [==============================] - 57s 944us/step - loss: 0.0238 - acc: 0.9934 - val_loss: 0.0328 - val_acc: 0.9895\n",
            "Epoch 19/50\n",
            "60000/60000 [==============================] - 57s 942us/step - loss: 0.0238 - acc: 0.9934 - val_loss: 0.0292 - val_acc: 0.9911\n",
            "Epoch 20/50\n",
            "60000/60000 [==============================] - 56s 941us/step - loss: 0.0230 - acc: 0.9933 - val_loss: 0.0298 - val_acc: 0.9916\n",
            "Epoch 21/50\n",
            "60000/60000 [==============================] - 56s 937us/step - loss: 0.0220 - acc: 0.9940 - val_loss: 0.0338 - val_acc: 0.9895\n",
            "Epoch 22/50\n",
            "60000/60000 [==============================] - 57s 947us/step - loss: 0.0214 - acc: 0.9938 - val_loss: 0.0313 - val_acc: 0.9899\n",
            "Epoch 23/50\n",
            "60000/60000 [==============================] - 57s 946us/step - loss: 0.0200 - acc: 0.9945 - val_loss: 0.0319 - val_acc: 0.9905\n",
            "Epoch 24/50\n",
            "60000/60000 [==============================] - 57s 943us/step - loss: 0.0189 - acc: 0.9944 - val_loss: 0.0319 - val_acc: 0.9899\n",
            "Epoch 25/50\n",
            "60000/60000 [==============================] - 57s 946us/step - loss: 0.0174 - acc: 0.9949 - val_loss: 0.0331 - val_acc: 0.9904\n",
            "Epoch 26/50\n",
            "60000/60000 [==============================] - 56s 933us/step - loss: 0.0180 - acc: 0.9950 - val_loss: 0.0314 - val_acc: 0.9909\n",
            "Epoch 27/50\n",
            "60000/60000 [==============================] - 56s 937us/step - loss: 0.0163 - acc: 0.9955 - val_loss: 0.0291 - val_acc: 0.9916\n",
            "Epoch 28/50\n",
            "60000/60000 [==============================] - 57s 946us/step - loss: 0.0162 - acc: 0.9956 - val_loss: 0.0374 - val_acc: 0.9884\n",
            "Epoch 29/50\n",
            "60000/60000 [==============================] - 57s 944us/step - loss: 0.0170 - acc: 0.9950 - val_loss: 0.0331 - val_acc: 0.9901\n",
            "Epoch 30/50\n",
            "60000/60000 [==============================] - 56s 942us/step - loss: 0.0160 - acc: 0.9957 - val_loss: 0.0295 - val_acc: 0.9915\n",
            "Epoch 31/50\n",
            "60000/60000 [==============================] - 56s 934us/step - loss: 0.0147 - acc: 0.9959 - val_loss: 0.0302 - val_acc: 0.9914\n",
            "Epoch 32/50\n",
            "60000/60000 [==============================] - 57s 947us/step - loss: 0.0151 - acc: 0.9958 - val_loss: 0.0371 - val_acc: 0.9888\n",
            "Epoch 33/50\n",
            "60000/60000 [==============================] - 57s 949us/step - loss: 0.0137 - acc: 0.9960 - val_loss: 0.0305 - val_acc: 0.9912\n",
            "Epoch 34/50\n",
            "60000/60000 [==============================] - 57s 944us/step - loss: 0.0141 - acc: 0.9960 - val_loss: 0.0352 - val_acc: 0.9902\n",
            "Epoch 35/50\n",
            "60000/60000 [==============================] - 57s 947us/step - loss: 0.0129 - acc: 0.9963 - val_loss: 0.0309 - val_acc: 0.9917\n",
            "Epoch 36/50\n",
            "60000/60000 [==============================] - 57s 942us/step - loss: 0.0138 - acc: 0.9959 - val_loss: 0.0341 - val_acc: 0.9895\n",
            "Epoch 37/50\n",
            "60000/60000 [==============================] - 56s 940us/step - loss: 0.0136 - acc: 0.9957 - val_loss: 0.0312 - val_acc: 0.9913\n",
            "Epoch 38/50\n",
            "60000/60000 [==============================] - 56s 940us/step - loss: 0.0119 - acc: 0.9967 - val_loss: 0.0348 - val_acc: 0.9912\n",
            "Epoch 39/50\n",
            "60000/60000 [==============================] - 57s 942us/step - loss: 0.0114 - acc: 0.9968 - val_loss: 0.0335 - val_acc: 0.9914\n",
            "Epoch 40/50\n",
            "60000/60000 [==============================] - 57s 945us/step - loss: 0.0125 - acc: 0.9966 - val_loss: 0.0396 - val_acc: 0.9887\n",
            "Epoch 41/50\n",
            "60000/60000 [==============================] - 57s 943us/step - loss: 0.0126 - acc: 0.9963 - val_loss: 0.0325 - val_acc: 0.9905\n",
            "Epoch 42/50\n",
            "60000/60000 [==============================] - 56s 938us/step - loss: 0.0112 - acc: 0.9968 - val_loss: 0.0360 - val_acc: 0.9901\n",
            "Epoch 43/50\n",
            "60000/60000 [==============================] - 56s 940us/step - loss: 0.0106 - acc: 0.9971 - val_loss: 0.0282 - val_acc: 0.9912\n",
            "Epoch 44/50\n",
            "60000/60000 [==============================] - 57s 948us/step - loss: 0.0110 - acc: 0.9969 - val_loss: 0.0313 - val_acc: 0.9905\n",
            "Epoch 45/50\n",
            "60000/60000 [==============================] - 57s 948us/step - loss: 0.0097 - acc: 0.9974 - val_loss: 0.0290 - val_acc: 0.9917\n",
            "Epoch 46/50\n",
            "60000/60000 [==============================] - 57s 946us/step - loss: 0.0109 - acc: 0.9969 - val_loss: 0.0341 - val_acc: 0.9895\n",
            "Epoch 47/50\n",
            "60000/60000 [==============================] - 57s 943us/step - loss: 0.0100 - acc: 0.9973 - val_loss: 0.0335 - val_acc: 0.9911\n",
            "Epoch 48/50\n",
            "60000/60000 [==============================] - 56s 938us/step - loss: 0.0100 - acc: 0.9972 - val_loss: 0.0358 - val_acc: 0.9898\n",
            "Epoch 49/50\n",
            "60000/60000 [==============================] - 57s 946us/step - loss: 0.0097 - acc: 0.9971 - val_loss: 0.0327 - val_acc: 0.9914\n",
            "Epoch 50/50\n",
            "60000/60000 [==============================] - 57s 947us/step - loss: 0.0102 - acc: 0.9969 - val_loss: 0.0363 - val_acc: 0.9900\n"
          ],
          "name": "stdout"
        },
        {
          "output_type": "execute_result",
          "data": {
            "text/plain": [
              "<keras.callbacks.History at 0x7f907d230630>"
            ]
          },
          "metadata": {
            "tags": []
          },
          "execution_count": 34
        }
      ]
    },
    {
      "cell_type": "markdown",
      "metadata": {
        "id": "oGR8-DeXaXSu",
        "colab_type": "text"
      },
      "source": [
        "### what's the effect of second max pool in model ran for 50 ep"
      ]
    },
    {
      "cell_type": "code",
      "metadata": {
        "id": "aOaV2a2Q0yg5",
        "colab_type": "code",
        "colab": {
          "base_uri": "https://localhost:8080/",
          "height": 1865
        },
        "outputId": "383b84ba-f92d-4ad1-a38c-965ecd2eab1f"
      },
      "source": [
        "model.fit(X_train, Y_train, batch_size=32, nb_epoch=50, verbose=1, validation_data=(X_test, Y_test))"
      ],
      "execution_count": 15,
      "outputs": [
        {
          "output_type": "stream",
          "text": [
            "/usr/local/lib/python3.6/dist-packages/ipykernel_launcher.py:1: UserWarning: The `nb_epoch` argument in `fit` has been renamed `epochs`.\n",
            "  \"\"\"Entry point for launching an IPython kernel.\n"
          ],
          "name": "stderr"
        },
        {
          "output_type": "stream",
          "text": [
            "Train on 60000 samples, validate on 10000 samples\n",
            "Epoch 1/50\n",
            "60000/60000 [==============================] - 30s 502us/step - loss: 0.4477 - acc: 0.9105 - val_loss: 0.1376 - val_acc: 0.9784\n",
            "Epoch 2/50\n",
            "60000/60000 [==============================] - 27s 449us/step - loss: 0.1531 - acc: 0.9694 - val_loss: 0.0686 - val_acc: 0.9863\n",
            "Epoch 3/50\n",
            "60000/60000 [==============================] - 28s 465us/step - loss: 0.1044 - acc: 0.9771 - val_loss: 0.0490 - val_acc: 0.9890\n",
            "Epoch 4/50\n",
            "60000/60000 [==============================] - 29s 483us/step - loss: 0.0782 - acc: 0.9823 - val_loss: 0.0419 - val_acc: 0.9896\n",
            "Epoch 5/50\n",
            "60000/60000 [==============================] - 27s 450us/step - loss: 0.0647 - acc: 0.9839 - val_loss: 0.0433 - val_acc: 0.9874\n",
            "Epoch 6/50\n",
            "60000/60000 [==============================] - 27s 450us/step - loss: 0.0555 - acc: 0.9861 - val_loss: 0.0354 - val_acc: 0.9890\n",
            "Epoch 7/50\n",
            "60000/60000 [==============================] - 28s 471us/step - loss: 0.0479 - acc: 0.9881 - val_loss: 0.0339 - val_acc: 0.9897\n",
            "Epoch 8/50\n",
            "60000/60000 [==============================] - 27s 451us/step - loss: 0.0434 - acc: 0.9885 - val_loss: 0.0341 - val_acc: 0.9907\n",
            "Epoch 9/50\n",
            "60000/60000 [==============================] - 27s 451us/step - loss: 0.0397 - acc: 0.9896 - val_loss: 0.0325 - val_acc: 0.9909\n",
            "Epoch 10/50\n",
            "60000/60000 [==============================] - 28s 468us/step - loss: 0.0373 - acc: 0.9898 - val_loss: 0.0283 - val_acc: 0.9908\n",
            "Epoch 11/50\n",
            "60000/60000 [==============================] - 27s 449us/step - loss: 0.0366 - acc: 0.9898 - val_loss: 0.0293 - val_acc: 0.9915\n",
            "Epoch 12/50\n",
            "60000/60000 [==============================] - 27s 448us/step - loss: 0.0318 - acc: 0.9917 - val_loss: 0.0344 - val_acc: 0.9903\n",
            "Epoch 13/50\n",
            "60000/60000 [==============================] - 28s 468us/step - loss: 0.0295 - acc: 0.9921 - val_loss: 0.0280 - val_acc: 0.9923\n",
            "Epoch 14/50\n",
            "60000/60000 [==============================] - 28s 459us/step - loss: 0.0295 - acc: 0.9918 - val_loss: 0.0292 - val_acc: 0.9908\n",
            "Epoch 15/50\n",
            "60000/60000 [==============================] - 29s 476us/step - loss: 0.0266 - acc: 0.9929 - val_loss: 0.0332 - val_acc: 0.9907\n",
            "Epoch 16/50\n",
            "60000/60000 [==============================] - 28s 466us/step - loss: 0.0246 - acc: 0.9933 - val_loss: 0.0311 - val_acc: 0.9897\n",
            "Epoch 17/50\n",
            "60000/60000 [==============================] - 27s 454us/step - loss: 0.0248 - acc: 0.9932 - val_loss: 0.0295 - val_acc: 0.9915\n",
            "Epoch 18/50\n",
            "60000/60000 [==============================] - 28s 459us/step - loss: 0.0219 - acc: 0.9940 - val_loss: 0.0277 - val_acc: 0.9906\n",
            "Epoch 19/50\n",
            "60000/60000 [==============================] - 28s 460us/step - loss: 0.0219 - acc: 0.9941 - val_loss: 0.0396 - val_acc: 0.9880\n",
            "Epoch 20/50\n",
            "60000/60000 [==============================] - 27s 450us/step - loss: 0.0204 - acc: 0.9942 - val_loss: 0.0302 - val_acc: 0.9901\n",
            "Epoch 21/50\n",
            "60000/60000 [==============================] - 28s 464us/step - loss: 0.0200 - acc: 0.9944 - val_loss: 0.0285 - val_acc: 0.9916\n",
            "Epoch 22/50\n",
            "60000/60000 [==============================] - 28s 460us/step - loss: 0.0192 - acc: 0.9944 - val_loss: 0.0313 - val_acc: 0.9911\n",
            "Epoch 23/50\n",
            "60000/60000 [==============================] - 27s 451us/step - loss: 0.0197 - acc: 0.9946 - val_loss: 0.0302 - val_acc: 0.9907\n",
            "Epoch 24/50\n",
            "60000/60000 [==============================] - 28s 470us/step - loss: 0.0180 - acc: 0.9950 - val_loss: 0.0255 - val_acc: 0.9913\n",
            "Epoch 25/50\n",
            "60000/60000 [==============================] - 28s 467us/step - loss: 0.0175 - acc: 0.9949 - val_loss: 0.0283 - val_acc: 0.9912\n",
            "Epoch 26/50\n",
            "60000/60000 [==============================] - 27s 458us/step - loss: 0.0162 - acc: 0.9954 - val_loss: 0.0276 - val_acc: 0.9915\n",
            "Epoch 27/50\n",
            "60000/60000 [==============================] - 29s 486us/step - loss: 0.0164 - acc: 0.9952 - val_loss: 0.0317 - val_acc: 0.9905\n",
            "Epoch 28/50\n",
            "60000/60000 [==============================] - 27s 447us/step - loss: 0.0166 - acc: 0.9956 - val_loss: 0.0276 - val_acc: 0.9920\n",
            "Epoch 29/50\n",
            "60000/60000 [==============================] - 27s 448us/step - loss: 0.0145 - acc: 0.9959 - val_loss: 0.0327 - val_acc: 0.9900\n",
            "Epoch 30/50\n",
            "60000/60000 [==============================] - 28s 468us/step - loss: 0.0150 - acc: 0.9957 - val_loss: 0.0299 - val_acc: 0.9907\n",
            "Epoch 31/50\n",
            "60000/60000 [==============================] - 27s 450us/step - loss: 0.0143 - acc: 0.9957 - val_loss: 0.0317 - val_acc: 0.9908\n",
            "Epoch 32/50\n",
            "60000/60000 [==============================] - 27s 451us/step - loss: 0.0130 - acc: 0.9962 - val_loss: 0.0297 - val_acc: 0.9914\n",
            "Epoch 33/50\n",
            "60000/60000 [==============================] - 28s 470us/step - loss: 0.0129 - acc: 0.9962 - val_loss: 0.0384 - val_acc: 0.9895\n",
            "Epoch 34/50\n",
            "60000/60000 [==============================] - 27s 451us/step - loss: 0.0137 - acc: 0.9958 - val_loss: 0.0276 - val_acc: 0.9917\n",
            "Epoch 35/50\n",
            "60000/60000 [==============================] - 27s 450us/step - loss: 0.0124 - acc: 0.9962 - val_loss: 0.0281 - val_acc: 0.9916\n",
            "Epoch 36/50\n",
            "60000/60000 [==============================] - 28s 471us/step - loss: 0.0122 - acc: 0.9964 - val_loss: 0.0314 - val_acc: 0.9908\n",
            "Epoch 37/50\n",
            "60000/60000 [==============================] - 27s 448us/step - loss: 0.0117 - acc: 0.9967 - val_loss: 0.0314 - val_acc: 0.9913\n",
            "Epoch 38/50\n",
            "60000/60000 [==============================] - 29s 476us/step - loss: 0.0108 - acc: 0.9966 - val_loss: 0.0304 - val_acc: 0.9913\n",
            "Epoch 39/50\n",
            "60000/60000 [==============================] - 28s 470us/step - loss: 0.0124 - acc: 0.9965 - val_loss: 0.0321 - val_acc: 0.9900\n",
            "Epoch 40/50\n",
            "60000/60000 [==============================] - 27s 451us/step - loss: 0.0105 - acc: 0.9970 - val_loss: 0.0309 - val_acc: 0.9908\n",
            "Epoch 41/50\n",
            "60000/60000 [==============================] - 27s 450us/step - loss: 0.0110 - acc: 0.9971 - val_loss: 0.0347 - val_acc: 0.9897\n",
            "Epoch 42/50\n",
            "60000/60000 [==============================] - 28s 469us/step - loss: 0.0109 - acc: 0.9967 - val_loss: 0.0306 - val_acc: 0.9914\n",
            "Epoch 43/50\n",
            "60000/60000 [==============================] - 27s 452us/step - loss: 0.0111 - acc: 0.9964 - val_loss: 0.0329 - val_acc: 0.9906\n",
            "Epoch 44/50\n",
            "60000/60000 [==============================] - 27s 452us/step - loss: 0.0101 - acc: 0.9970 - val_loss: 0.0313 - val_acc: 0.9917\n",
            "Epoch 45/50\n",
            "60000/60000 [==============================] - 28s 473us/step - loss: 0.0093 - acc: 0.9975 - val_loss: 0.0304 - val_acc: 0.9912\n",
            "Epoch 46/50\n",
            "60000/60000 [==============================] - 27s 454us/step - loss: 0.0103 - acc: 0.9971 - val_loss: 0.0327 - val_acc: 0.9917\n",
            "Epoch 47/50\n",
            "60000/60000 [==============================] - 28s 466us/step - loss: 0.0097 - acc: 0.9972 - val_loss: 0.0306 - val_acc: 0.9919\n",
            "Epoch 48/50\n",
            "60000/60000 [==============================] - 28s 473us/step - loss: 0.0101 - acc: 0.9970 - val_loss: 0.0335 - val_acc: 0.9909\n",
            "Epoch 49/50\n",
            "60000/60000 [==============================] - 29s 479us/step - loss: 0.0098 - acc: 0.9973 - val_loss: 0.0320 - val_acc: 0.9909\n",
            "Epoch 50/50\n",
            "60000/60000 [==============================] - 28s 467us/step - loss: 0.0091 - acc: 0.9973 - val_loss: 0.0285 - val_acc: 0.9918\n"
          ],
          "name": "stdout"
        },
        {
          "output_type": "execute_result",
          "data": {
            "text/plain": [
              "<keras.callbacks.History at 0x7fe164642940>"
            ]
          },
          "metadata": {
            "tags": []
          },
          "execution_count": 15
        }
      ]
    },
    {
      "cell_type": "markdown",
      "metadata": {
        "id": "z1hRzacVajm9",
        "colab_type": "text"
      },
      "source": [
        "### what's the effect of adding Drop out after every BN for 50 ep -- 25 th ep 0.9946 val acc"
      ]
    },
    {
      "cell_type": "code",
      "metadata": {
        "id": "Q2VvP33LBaxM",
        "colab_type": "code",
        "colab": {
          "base_uri": "https://localhost:8080/",
          "height": 1865
        },
        "outputId": "7f496c50-d965-45f0-8b58-5acd4afc8f4e"
      },
      "source": [
        "model.fit(X_train, Y_train, batch_size=32, nb_epoch=50, verbose=1, validation_data=(X_test, Y_test))"
      ],
      "execution_count": 22,
      "outputs": [
        {
          "output_type": "stream",
          "text": [
            "/usr/local/lib/python3.6/dist-packages/ipykernel_launcher.py:1: UserWarning: The `nb_epoch` argument in `fit` has been renamed `epochs`.\n",
            "  \"\"\"Entry point for launching an IPython kernel.\n"
          ],
          "name": "stderr"
        },
        {
          "output_type": "stream",
          "text": [
            "Train on 60000 samples, validate on 10000 samples\n",
            "Epoch 1/50\n",
            "60000/60000 [==============================] - 35s 590us/step - loss: 0.5683 - acc: 0.8706 - val_loss: 0.1472 - val_acc: 0.9710\n",
            "Epoch 2/50\n",
            "60000/60000 [==============================] - 31s 519us/step - loss: 0.2134 - acc: 0.9509 - val_loss: 0.0665 - val_acc: 0.9850\n",
            "Epoch 3/50\n",
            "60000/60000 [==============================] - 32s 540us/step - loss: 0.1529 - acc: 0.9621 - val_loss: 0.0601 - val_acc: 0.9855\n",
            "Epoch 4/50\n",
            "60000/60000 [==============================] - 31s 514us/step - loss: 0.1265 - acc: 0.9680 - val_loss: 0.0431 - val_acc: 0.9884\n",
            "Epoch 5/50\n",
            "60000/60000 [==============================] - 31s 516us/step - loss: 0.1091 - acc: 0.9712 - val_loss: 0.0404 - val_acc: 0.9895\n",
            "Epoch 6/50\n",
            "60000/60000 [==============================] - 32s 540us/step - loss: 0.0946 - acc: 0.9759 - val_loss: 0.0343 - val_acc: 0.9902\n",
            "Epoch 7/50\n",
            "60000/60000 [==============================] - 31s 516us/step - loss: 0.0870 - acc: 0.9766 - val_loss: 0.0505 - val_acc: 0.9844\n",
            "Epoch 8/50\n",
            "60000/60000 [==============================] - 32s 536us/step - loss: 0.0802 - acc: 0.9776 - val_loss: 0.0314 - val_acc: 0.9903\n",
            "Epoch 9/50\n",
            "60000/60000 [==============================] - 32s 540us/step - loss: 0.0750 - acc: 0.9797 - val_loss: 0.0269 - val_acc: 0.9917\n",
            "Epoch 10/50\n",
            "60000/60000 [==============================] - 31s 517us/step - loss: 0.0705 - acc: 0.9803 - val_loss: 0.0292 - val_acc: 0.9913\n",
            "Epoch 11/50\n",
            "60000/60000 [==============================] - 32s 536us/step - loss: 0.0669 - acc: 0.9820 - val_loss: 0.0294 - val_acc: 0.9918\n",
            "Epoch 12/50\n",
            "60000/60000 [==============================] - 31s 516us/step - loss: 0.0638 - acc: 0.9826 - val_loss: 0.0256 - val_acc: 0.9918\n",
            "Epoch 13/50\n",
            "60000/60000 [==============================] - 32s 534us/step - loss: 0.0621 - acc: 0.9830 - val_loss: 0.0302 - val_acc: 0.9905\n",
            "Epoch 14/50\n",
            "60000/60000 [==============================] - 31s 514us/step - loss: 0.0614 - acc: 0.9831 - val_loss: 0.0247 - val_acc: 0.9929\n",
            "Epoch 15/50\n",
            "60000/60000 [==============================] - 32s 528us/step - loss: 0.0592 - acc: 0.9829 - val_loss: 0.0245 - val_acc: 0.9935\n",
            "Epoch 16/50\n",
            "60000/60000 [==============================] - 32s 534us/step - loss: 0.0580 - acc: 0.9831 - val_loss: 0.0241 - val_acc: 0.9933\n",
            "Epoch 17/50\n",
            "60000/60000 [==============================] - 31s 513us/step - loss: 0.0569 - acc: 0.9842 - val_loss: 0.0239 - val_acc: 0.9924\n",
            "Epoch 18/50\n",
            "60000/60000 [==============================] - 32s 534us/step - loss: 0.0530 - acc: 0.9844 - val_loss: 0.0215 - val_acc: 0.9933\n",
            "Epoch 19/50\n",
            "60000/60000 [==============================] - 32s 534us/step - loss: 0.0542 - acc: 0.9841 - val_loss: 0.0237 - val_acc: 0.9927\n",
            "Epoch 20/50\n",
            "60000/60000 [==============================] - 31s 515us/step - loss: 0.0511 - acc: 0.9853 - val_loss: 0.0231 - val_acc: 0.9925\n",
            "Epoch 21/50\n",
            "60000/60000 [==============================] - 32s 537us/step - loss: 0.0507 - acc: 0.9853 - val_loss: 0.0228 - val_acc: 0.9931\n",
            "Epoch 22/50\n",
            "60000/60000 [==============================] - 31s 513us/step - loss: 0.0503 - acc: 0.9857 - val_loss: 0.0230 - val_acc: 0.9931\n",
            "Epoch 23/50\n",
            "60000/60000 [==============================] - 31s 521us/step - loss: 0.0480 - acc: 0.9859 - val_loss: 0.0195 - val_acc: 0.9938\n",
            "Epoch 24/50\n",
            "60000/60000 [==============================] - 32s 526us/step - loss: 0.0490 - acc: 0.9857 - val_loss: 0.0213 - val_acc: 0.9934\n",
            "Epoch 25/50\n",
            "60000/60000 [==============================] - 32s 532us/step - loss: 0.0482 - acc: 0.9855 - val_loss: 0.0191 - val_acc: 0.9946\n",
            "Epoch 26/50\n",
            "60000/60000 [==============================] - 32s 535us/step - loss: 0.0448 - acc: 0.9868 - val_loss: 0.0194 - val_acc: 0.9938\n",
            "Epoch 27/50\n",
            "60000/60000 [==============================] - 31s 518us/step - loss: 0.0474 - acc: 0.9863 - val_loss: 0.0215 - val_acc: 0.9926\n",
            "Epoch 28/50\n",
            "60000/60000 [==============================] - 32s 537us/step - loss: 0.0468 - acc: 0.9868 - val_loss: 0.0254 - val_acc: 0.9926\n",
            "Epoch 29/50\n",
            "60000/60000 [==============================] - 32s 531us/step - loss: 0.0453 - acc: 0.9868 - val_loss: 0.0204 - val_acc: 0.9946\n",
            "Epoch 30/50\n",
            "60000/60000 [==============================] - 31s 514us/step - loss: 0.0436 - acc: 0.9875 - val_loss: 0.0206 - val_acc: 0.9936\n",
            "Epoch 31/50\n",
            "60000/60000 [==============================] - 32s 534us/step - loss: 0.0442 - acc: 0.9868 - val_loss: 0.0226 - val_acc: 0.9933\n",
            "Epoch 32/50\n",
            "60000/60000 [==============================] - 31s 514us/step - loss: 0.0438 - acc: 0.9869 - val_loss: 0.0213 - val_acc: 0.9937\n",
            "Epoch 33/50\n",
            "60000/60000 [==============================] - 31s 516us/step - loss: 0.0434 - acc: 0.9878 - val_loss: 0.0218 - val_acc: 0.9930\n",
            "Epoch 34/50\n",
            "60000/60000 [==============================] - 32s 537us/step - loss: 0.0432 - acc: 0.9873 - val_loss: 0.0197 - val_acc: 0.9936\n",
            "Epoch 35/50\n",
            "60000/60000 [==============================] - 31s 520us/step - loss: 0.0447 - acc: 0.9863 - val_loss: 0.0209 - val_acc: 0.9939\n",
            "Epoch 36/50\n",
            "60000/60000 [==============================] - 32s 537us/step - loss: 0.0424 - acc: 0.9877 - val_loss: 0.0219 - val_acc: 0.9936\n",
            "Epoch 37/50\n",
            "60000/60000 [==============================] - 31s 514us/step - loss: 0.0411 - acc: 0.9877 - val_loss: 0.0237 - val_acc: 0.9930\n",
            "Epoch 38/50\n",
            "60000/60000 [==============================] - 32s 539us/step - loss: 0.0413 - acc: 0.9879 - val_loss: 0.0201 - val_acc: 0.9939\n",
            "Epoch 39/50\n",
            "60000/60000 [==============================] - 32s 534us/step - loss: 0.0401 - acc: 0.9884 - val_loss: 0.0199 - val_acc: 0.9935\n",
            "Epoch 40/50\n",
            "60000/60000 [==============================] - 31s 514us/step - loss: 0.0402 - acc: 0.9878 - val_loss: 0.0208 - val_acc: 0.9932\n",
            "Epoch 41/50\n",
            "60000/60000 [==============================] - 32s 534us/step - loss: 0.0391 - acc: 0.9880 - val_loss: 0.0248 - val_acc: 0.9919\n",
            "Epoch 42/50\n",
            "60000/60000 [==============================] - 31s 509us/step - loss: 0.0410 - acc: 0.9878 - val_loss: 0.0207 - val_acc: 0.9935\n",
            "Epoch 43/50\n",
            "60000/60000 [==============================] - 31s 510us/step - loss: 0.0406 - acc: 0.9881 - val_loss: 0.0211 - val_acc: 0.9936\n",
            "Epoch 44/50\n",
            "60000/60000 [==============================] - 33s 544us/step - loss: 0.0389 - acc: 0.9889 - val_loss: 0.0211 - val_acc: 0.9934\n",
            "Epoch 45/50\n",
            "60000/60000 [==============================] - 31s 513us/step - loss: 0.0392 - acc: 0.9887 - val_loss: 0.0188 - val_acc: 0.9941\n",
            "Epoch 46/50\n",
            "60000/60000 [==============================] - 31s 524us/step - loss: 0.0377 - acc: 0.9885 - val_loss: 0.0189 - val_acc: 0.9939\n",
            "Epoch 47/50\n",
            "60000/60000 [==============================] - 31s 521us/step - loss: 0.0367 - acc: 0.9882 - val_loss: 0.0200 - val_acc: 0.9937\n",
            "Epoch 48/50\n",
            "60000/60000 [==============================] - 32s 536us/step - loss: 0.0387 - acc: 0.9879 - val_loss: 0.0179 - val_acc: 0.9943\n",
            "Epoch 49/50\n",
            "60000/60000 [==============================] - 32s 530us/step - loss: 0.0379 - acc: 0.9884 - val_loss: 0.0185 - val_acc: 0.9930\n",
            "Epoch 50/50\n",
            "60000/60000 [==============================] - 31s 510us/step - loss: 0.0366 - acc: 0.9889 - val_loss: 0.0197 - val_acc: 0.9935\n"
          ],
          "name": "stdout"
        },
        {
          "output_type": "execute_result",
          "data": {
            "text/plain": [
              "<keras.callbacks.History at 0x7fe14c2c7d68>"
            ]
          },
          "metadata": {
            "tags": []
          },
          "execution_count": 22
        }
      ]
    },
    {
      "cell_type": "markdown",
      "metadata": {
        "id": "X196WbBtazil",
        "colab_type": "text"
      },
      "source": [
        "### what's the effect of adding Drop out after every BN for BS 64 + 50 ep"
      ]
    },
    {
      "cell_type": "code",
      "metadata": {
        "id": "npc_fps0yklP",
        "colab_type": "code",
        "colab": {
          "base_uri": "https://localhost:8080/",
          "height": 1865
        },
        "outputId": "4af5b6e6-1cdb-46a3-e176-7b1f6e26c0eb"
      },
      "source": [
        "model.fit(X_train, Y_train, batch_size=64, nb_epoch=50, verbose=1, validation_data=(X_test, Y_test))"
      ],
      "execution_count": 36,
      "outputs": [
        {
          "output_type": "stream",
          "text": [
            "/usr/local/lib/python3.6/dist-packages/ipykernel_launcher.py:1: UserWarning: The `nb_epoch` argument in `fit` has been renamed `epochs`.\n",
            "  \"\"\"Entry point for launching an IPython kernel.\n"
          ],
          "name": "stderr"
        },
        {
          "output_type": "stream",
          "text": [
            "Train on 60000 samples, validate on 10000 samples\n",
            "Epoch 1/50\n",
            "60000/60000 [==============================] - 22s 373us/step - loss: 0.7009 - acc: 0.8417 - val_loss: 0.2148 - val_acc: 0.9642\n",
            "Epoch 2/50\n",
            "60000/60000 [==============================] - 18s 296us/step - loss: 0.2441 - acc: 0.9544 - val_loss: 0.1143 - val_acc: 0.9763\n",
            "Epoch 3/50\n",
            "60000/60000 [==============================] - 17s 278us/step - loss: 0.1605 - acc: 0.9662 - val_loss: 0.0806 - val_acc: 0.9796\n",
            "Epoch 4/50\n",
            "60000/60000 [==============================] - 17s 276us/step - loss: 0.1224 - acc: 0.9714 - val_loss: 0.0673 - val_acc: 0.9831\n",
            "Epoch 5/50\n",
            "60000/60000 [==============================] - 17s 276us/step - loss: 0.1025 - acc: 0.9743 - val_loss: 0.0461 - val_acc: 0.9882\n",
            "Epoch 6/50\n",
            "60000/60000 [==============================] - 16s 274us/step - loss: 0.0896 - acc: 0.9772 - val_loss: 0.0400 - val_acc: 0.9880\n",
            "Epoch 7/50\n",
            "60000/60000 [==============================] - 18s 295us/step - loss: 0.0820 - acc: 0.9787 - val_loss: 0.0378 - val_acc: 0.9900\n",
            "Epoch 8/50\n",
            "60000/60000 [==============================] - 16s 275us/step - loss: 0.0736 - acc: 0.9798 - val_loss: 0.0344 - val_acc: 0.9900\n",
            "Epoch 9/50\n",
            "60000/60000 [==============================] - 16s 274us/step - loss: 0.0693 - acc: 0.9805 - val_loss: 0.0287 - val_acc: 0.9912\n",
            "Epoch 10/50\n",
            "60000/60000 [==============================] - 16s 274us/step - loss: 0.0626 - acc: 0.9827 - val_loss: 0.0302 - val_acc: 0.9903\n",
            "Epoch 11/50\n",
            "60000/60000 [==============================] - 17s 275us/step - loss: 0.0620 - acc: 0.9823 - val_loss: 0.0291 - val_acc: 0.9908\n",
            "Epoch 12/50\n",
            "60000/60000 [==============================] - 18s 302us/step - loss: 0.0586 - acc: 0.9834 - val_loss: 0.0354 - val_acc: 0.9891\n",
            "Epoch 13/50\n",
            "60000/60000 [==============================] - 18s 295us/step - loss: 0.0555 - acc: 0.9844 - val_loss: 0.0310 - val_acc: 0.9903\n",
            "Epoch 14/50\n",
            "60000/60000 [==============================] - 17s 287us/step - loss: 0.0554 - acc: 0.9839 - val_loss: 0.0267 - val_acc: 0.9918\n",
            "Epoch 15/50\n",
            "60000/60000 [==============================] - 16s 273us/step - loss: 0.0516 - acc: 0.9849 - val_loss: 0.0281 - val_acc: 0.9910\n",
            "Epoch 16/50\n",
            "60000/60000 [==============================] - 17s 283us/step - loss: 0.0504 - acc: 0.9852 - val_loss: 0.0276 - val_acc: 0.9924\n",
            "Epoch 17/50\n",
            "60000/60000 [==============================] - 17s 284us/step - loss: 0.0492 - acc: 0.9856 - val_loss: 0.0268 - val_acc: 0.9917\n",
            "Epoch 18/50\n",
            "60000/60000 [==============================] - 16s 274us/step - loss: 0.0494 - acc: 0.9857 - val_loss: 0.0248 - val_acc: 0.9927\n",
            "Epoch 19/50\n",
            "60000/60000 [==============================] - 16s 272us/step - loss: 0.0478 - acc: 0.9858 - val_loss: 0.0234 - val_acc: 0.9933\n",
            "Epoch 20/50\n",
            "60000/60000 [==============================] - 16s 272us/step - loss: 0.0453 - acc: 0.9867 - val_loss: 0.0236 - val_acc: 0.9935\n",
            "Epoch 21/50\n",
            "60000/60000 [==============================] - 17s 288us/step - loss: 0.0462 - acc: 0.9861 - val_loss: 0.0254 - val_acc: 0.9931\n",
            "Epoch 22/50\n",
            "60000/60000 [==============================] - 17s 278us/step - loss: 0.0435 - acc: 0.9873 - val_loss: 0.0243 - val_acc: 0.9929\n",
            "Epoch 23/50\n",
            "60000/60000 [==============================] - 16s 274us/step - loss: 0.0445 - acc: 0.9868 - val_loss: 0.0211 - val_acc: 0.9945\n",
            "Epoch 24/50\n",
            "60000/60000 [==============================] - 16s 273us/step - loss: 0.0423 - acc: 0.9871 - val_loss: 0.0251 - val_acc: 0.9932\n",
            "Epoch 25/50\n",
            "60000/60000 [==============================] - 16s 275us/step - loss: 0.0417 - acc: 0.9876 - val_loss: 0.0256 - val_acc: 0.9926\n",
            "Epoch 26/50\n",
            "60000/60000 [==============================] - 18s 295us/step - loss: 0.0407 - acc: 0.9881 - val_loss: 0.0220 - val_acc: 0.9933\n",
            "Epoch 27/50\n",
            "60000/60000 [==============================] - 16s 274us/step - loss: 0.0408 - acc: 0.9881 - val_loss: 0.0229 - val_acc: 0.9924\n",
            "Epoch 28/50\n",
            "60000/60000 [==============================] - 16s 274us/step - loss: 0.0396 - acc: 0.9881 - val_loss: 0.0218 - val_acc: 0.9934\n",
            "Epoch 29/50\n",
            "60000/60000 [==============================] - 16s 275us/step - loss: 0.0380 - acc: 0.9889 - val_loss: 0.0226 - val_acc: 0.9927\n",
            "Epoch 30/50\n",
            "60000/60000 [==============================] - 16s 273us/step - loss: 0.0391 - acc: 0.9884 - val_loss: 0.0207 - val_acc: 0.9936\n",
            "Epoch 31/50\n",
            "60000/60000 [==============================] - 18s 307us/step - loss: 0.0393 - acc: 0.9890 - val_loss: 0.0211 - val_acc: 0.9937\n",
            "Epoch 32/50\n",
            "60000/60000 [==============================] - 17s 285us/step - loss: 0.0369 - acc: 0.9887 - val_loss: 0.0214 - val_acc: 0.9934\n",
            "Epoch 33/50\n",
            "60000/60000 [==============================] - 16s 275us/step - loss: 0.0391 - acc: 0.9885 - val_loss: 0.0209 - val_acc: 0.9938\n",
            "Epoch 34/50\n",
            "60000/60000 [==============================] - 16s 275us/step - loss: 0.0377 - acc: 0.9886 - val_loss: 0.0223 - val_acc: 0.9940\n",
            "Epoch 35/50\n",
            "60000/60000 [==============================] - 16s 275us/step - loss: 0.0369 - acc: 0.9888 - val_loss: 0.0211 - val_acc: 0.9933\n",
            "Epoch 36/50\n",
            "60000/60000 [==============================] - 18s 293us/step - loss: 0.0362 - acc: 0.9889 - val_loss: 0.0248 - val_acc: 0.9932\n",
            "Epoch 37/50\n",
            "60000/60000 [==============================] - 17s 276us/step - loss: 0.0362 - acc: 0.9891 - val_loss: 0.0195 - val_acc: 0.9935\n",
            "Epoch 38/50\n",
            "60000/60000 [==============================] - 16s 275us/step - loss: 0.0353 - acc: 0.9890 - val_loss: 0.0195 - val_acc: 0.9937\n",
            "Epoch 39/50\n",
            "60000/60000 [==============================] - 16s 274us/step - loss: 0.0350 - acc: 0.9888 - val_loss: 0.0217 - val_acc: 0.9927\n",
            "Epoch 40/50\n",
            "60000/60000 [==============================] - 17s 284us/step - loss: 0.0339 - acc: 0.9897 - val_loss: 0.0207 - val_acc: 0.9938\n",
            "Epoch 41/50\n",
            "60000/60000 [==============================] - 17s 286us/step - loss: 0.0361 - acc: 0.9892 - val_loss: 0.0207 - val_acc: 0.9935\n",
            "Epoch 42/50\n",
            "60000/60000 [==============================] - 16s 275us/step - loss: 0.0340 - acc: 0.9898 - val_loss: 0.0229 - val_acc: 0.9933\n",
            "Epoch 43/50\n",
            "60000/60000 [==============================] - 17s 276us/step - loss: 0.0351 - acc: 0.9895 - val_loss: 0.0228 - val_acc: 0.9930\n",
            "Epoch 44/50\n",
            "60000/60000 [==============================] - 16s 275us/step - loss: 0.0336 - acc: 0.9902 - val_loss: 0.0225 - val_acc: 0.9929\n",
            "Epoch 45/50\n",
            "60000/60000 [==============================] - 18s 292us/step - loss: 0.0330 - acc: 0.9898 - val_loss: 0.0212 - val_acc: 0.9934\n",
            "Epoch 46/50\n",
            "60000/60000 [==============================] - 17s 281us/step - loss: 0.0330 - acc: 0.9897 - val_loss: 0.0219 - val_acc: 0.9936\n",
            "Epoch 47/50\n",
            "60000/60000 [==============================] - 16s 275us/step - loss: 0.0338 - acc: 0.9901 - val_loss: 0.0245 - val_acc: 0.9936\n",
            "Epoch 48/50\n",
            "60000/60000 [==============================] - 17s 276us/step - loss: 0.0329 - acc: 0.9899 - val_loss: 0.0227 - val_acc: 0.9930\n",
            "Epoch 49/50\n",
            "60000/60000 [==============================] - 17s 286us/step - loss: 0.0334 - acc: 0.9898 - val_loss: 0.0221 - val_acc: 0.9930\n",
            "Epoch 50/50\n",
            "60000/60000 [==============================] - 19s 309us/step - loss: 0.0315 - acc: 0.9907 - val_loss: 0.0208 - val_acc: 0.9946\n"
          ],
          "name": "stdout"
        },
        {
          "output_type": "execute_result",
          "data": {
            "text/plain": [
              "<keras.callbacks.History at 0x7fe1411e6978>"
            ]
          },
          "metadata": {
            "tags": []
          },
          "execution_count": 36
        }
      ]
    },
    {
      "cell_type": "markdown",
      "metadata": {
        "id": "ieD9PZ_Gbba2",
        "colab_type": "text"
      },
      "source": [
        "### what's the effect of adding Drop out after every BN + BS 128"
      ]
    },
    {
      "cell_type": "code",
      "metadata": {
        "id": "yYB7dZ0j2ndC",
        "colab_type": "code",
        "colab": {
          "base_uri": "https://localhost:8080/",
          "height": 1865
        },
        "outputId": "8f210f15-b759-43d8-d7fa-f8ac13ca28ce"
      },
      "source": [
        "model.fit(X_train, Y_train, batch_size=128, nb_epoch=50, verbose=1, validation_data=(X_test, Y_test))"
      ],
      "execution_count": 39,
      "outputs": [
        {
          "output_type": "stream",
          "text": [
            "/usr/local/lib/python3.6/dist-packages/ipykernel_launcher.py:1: UserWarning: The `nb_epoch` argument in `fit` has been renamed `epochs`.\n",
            "  \"\"\"Entry point for launching an IPython kernel.\n"
          ],
          "name": "stderr"
        },
        {
          "output_type": "stream",
          "text": [
            "Train on 60000 samples, validate on 10000 samples\n",
            "Epoch 1/50\n",
            "60000/60000 [==============================] - 16s 273us/step - loss: 0.8918 - acc: 0.7896 - val_loss: 0.2606 - val_acc: 0.9600\n",
            "Epoch 2/50\n",
            "60000/60000 [==============================] - 9s 155us/step - loss: 0.3252 - acc: 0.9499 - val_loss: 0.1641 - val_acc: 0.9751\n",
            "Epoch 3/50\n",
            "60000/60000 [==============================] - 9s 157us/step - loss: 0.2119 - acc: 0.9642 - val_loss: 0.1057 - val_acc: 0.9805\n",
            "Epoch 4/50\n",
            "60000/60000 [==============================] - 9s 156us/step - loss: 0.1579 - acc: 0.9704 - val_loss: 0.0805 - val_acc: 0.9841\n",
            "Epoch 5/50\n",
            "60000/60000 [==============================] - 10s 161us/step - loss: 0.1271 - acc: 0.9750 - val_loss: 0.0638 - val_acc: 0.9865\n",
            "Epoch 6/50\n",
            "60000/60000 [==============================] - 9s 157us/step - loss: 0.1072 - acc: 0.9773 - val_loss: 0.0539 - val_acc: 0.9879\n",
            "Epoch 7/50\n",
            "60000/60000 [==============================] - 10s 162us/step - loss: 0.0925 - acc: 0.9791 - val_loss: 0.0450 - val_acc: 0.9889\n",
            "Epoch 8/50\n",
            "60000/60000 [==============================] - 10s 164us/step - loss: 0.0832 - acc: 0.9806 - val_loss: 0.0394 - val_acc: 0.9904\n",
            "Epoch 9/50\n",
            "60000/60000 [==============================] - 10s 165us/step - loss: 0.0748 - acc: 0.9819 - val_loss: 0.0357 - val_acc: 0.9909\n",
            "Epoch 10/50\n",
            "60000/60000 [==============================] - 9s 156us/step - loss: 0.0701 - acc: 0.9824 - val_loss: 0.0313 - val_acc: 0.9919\n",
            "Epoch 11/50\n",
            "60000/60000 [==============================] - 9s 156us/step - loss: 0.0640 - acc: 0.9828 - val_loss: 0.0330 - val_acc: 0.9909\n",
            "Epoch 12/50\n",
            "60000/60000 [==============================] - 9s 156us/step - loss: 0.0590 - acc: 0.9846 - val_loss: 0.0296 - val_acc: 0.9918\n",
            "Epoch 13/50\n",
            "60000/60000 [==============================] - 9s 156us/step - loss: 0.0581 - acc: 0.9849 - val_loss: 0.0312 - val_acc: 0.9913\n",
            "Epoch 14/50\n",
            "60000/60000 [==============================] - 9s 157us/step - loss: 0.0547 - acc: 0.9847 - val_loss: 0.0272 - val_acc: 0.9922\n",
            "Epoch 15/50\n",
            "60000/60000 [==============================] - 10s 159us/step - loss: 0.0524 - acc: 0.9851 - val_loss: 0.0258 - val_acc: 0.9929\n",
            "Epoch 16/50\n",
            "60000/60000 [==============================] - 9s 158us/step - loss: 0.0509 - acc: 0.9858 - val_loss: 0.0270 - val_acc: 0.9914\n",
            "Epoch 17/50\n",
            "60000/60000 [==============================] - 10s 169us/step - loss: 0.0483 - acc: 0.9862 - val_loss: 0.0234 - val_acc: 0.9925\n",
            "Epoch 18/50\n",
            "60000/60000 [==============================] - 10s 163us/step - loss: 0.0457 - acc: 0.9872 - val_loss: 0.0295 - val_acc: 0.9907\n",
            "Epoch 19/50\n",
            "60000/60000 [==============================] - 10s 160us/step - loss: 0.0466 - acc: 0.9865 - val_loss: 0.0272 - val_acc: 0.9919\n",
            "Epoch 20/50\n",
            "60000/60000 [==============================] - 10s 162us/step - loss: 0.0431 - acc: 0.9874 - val_loss: 0.0233 - val_acc: 0.9922\n",
            "Epoch 21/50\n",
            "60000/60000 [==============================] - 9s 158us/step - loss: 0.0429 - acc: 0.9877 - val_loss: 0.0275 - val_acc: 0.9917\n",
            "Epoch 22/50\n",
            "60000/60000 [==============================] - 9s 155us/step - loss: 0.0426 - acc: 0.9875 - val_loss: 0.0238 - val_acc: 0.9930\n",
            "Epoch 23/50\n",
            "60000/60000 [==============================] - 9s 155us/step - loss: 0.0396 - acc: 0.9879 - val_loss: 0.0259 - val_acc: 0.9917\n",
            "Epoch 24/50\n",
            "60000/60000 [==============================] - 9s 157us/step - loss: 0.0400 - acc: 0.9881 - val_loss: 0.0243 - val_acc: 0.9933\n",
            "Epoch 25/50\n",
            "60000/60000 [==============================] - 10s 162us/step - loss: 0.0395 - acc: 0.9884 - val_loss: 0.0223 - val_acc: 0.9929\n",
            "Epoch 26/50\n",
            "60000/60000 [==============================] - 10s 162us/step - loss: 0.0382 - acc: 0.9883 - val_loss: 0.0207 - val_acc: 0.9935\n",
            "Epoch 27/50\n",
            "60000/60000 [==============================] - 10s 163us/step - loss: 0.0374 - acc: 0.9890 - val_loss: 0.0204 - val_acc: 0.9933\n",
            "Epoch 28/50\n",
            "60000/60000 [==============================] - 10s 167us/step - loss: 0.0373 - acc: 0.9889 - val_loss: 0.0228 - val_acc: 0.9930\n",
            "Epoch 29/50\n",
            "60000/60000 [==============================] - 10s 162us/step - loss: 0.0378 - acc: 0.9887 - val_loss: 0.0215 - val_acc: 0.9931\n",
            "Epoch 30/50\n",
            "60000/60000 [==============================] - 9s 155us/step - loss: 0.0380 - acc: 0.9886 - val_loss: 0.0225 - val_acc: 0.9925\n",
            "Epoch 31/50\n",
            "60000/60000 [==============================] - 9s 155us/step - loss: 0.0365 - acc: 0.9892 - val_loss: 0.0214 - val_acc: 0.9925\n",
            "Epoch 32/50\n",
            "60000/60000 [==============================] - 9s 155us/step - loss: 0.0358 - acc: 0.9896 - val_loss: 0.0196 - val_acc: 0.9940\n",
            "Epoch 33/50\n",
            "60000/60000 [==============================] - 9s 157us/step - loss: 0.0354 - acc: 0.9895 - val_loss: 0.0220 - val_acc: 0.9933\n",
            "Epoch 34/50\n",
            "60000/60000 [==============================] - 10s 167us/step - loss: 0.0338 - acc: 0.9901 - val_loss: 0.0221 - val_acc: 0.9932\n",
            "Epoch 35/50\n",
            "60000/60000 [==============================] - 9s 154us/step - loss: 0.0345 - acc: 0.9893 - val_loss: 0.0181 - val_acc: 0.9938\n",
            "Epoch 36/50\n",
            "60000/60000 [==============================] - 9s 154us/step - loss: 0.0338 - acc: 0.9895 - val_loss: 0.0193 - val_acc: 0.9933\n",
            "Epoch 37/50\n",
            "60000/60000 [==============================] - 9s 155us/step - loss: 0.0345 - acc: 0.9894 - val_loss: 0.0208 - val_acc: 0.9928\n",
            "Epoch 38/50\n",
            "60000/60000 [==============================] - 9s 155us/step - loss: 0.0338 - acc: 0.9897 - val_loss: 0.0193 - val_acc: 0.9940\n",
            "Epoch 39/50\n",
            "60000/60000 [==============================] - 9s 154us/step - loss: 0.0339 - acc: 0.9896 - val_loss: 0.0214 - val_acc: 0.9939\n",
            "Epoch 40/50\n",
            "60000/60000 [==============================] - 9s 154us/step - loss: 0.0320 - acc: 0.9904 - val_loss: 0.0176 - val_acc: 0.9936\n",
            "Epoch 41/50\n",
            "60000/60000 [==============================] - 9s 154us/step - loss: 0.0326 - acc: 0.9903 - val_loss: 0.0214 - val_acc: 0.9932\n",
            "Epoch 42/50\n",
            "60000/60000 [==============================] - 10s 163us/step - loss: 0.0328 - acc: 0.9898 - val_loss: 0.0183 - val_acc: 0.9936\n",
            "Epoch 43/50\n",
            "60000/60000 [==============================] - 10s 160us/step - loss: 0.0312 - acc: 0.9906 - val_loss: 0.0212 - val_acc: 0.9927\n",
            "Epoch 44/50\n",
            "60000/60000 [==============================] - 9s 154us/step - loss: 0.0329 - acc: 0.9895 - val_loss: 0.0255 - val_acc: 0.9920\n",
            "Epoch 45/50\n",
            "60000/60000 [==============================] - 9s 154us/step - loss: 0.0334 - acc: 0.9898 - val_loss: 0.0194 - val_acc: 0.9937\n",
            "Epoch 46/50\n",
            "60000/60000 [==============================] - 9s 154us/step - loss: 0.0314 - acc: 0.9905 - val_loss: 0.0233 - val_acc: 0.9924\n",
            "Epoch 47/50\n",
            "60000/60000 [==============================] - 9s 157us/step - loss: 0.0320 - acc: 0.9899 - val_loss: 0.0200 - val_acc: 0.9935\n",
            "Epoch 48/50\n",
            "60000/60000 [==============================] - 9s 157us/step - loss: 0.0317 - acc: 0.9903 - val_loss: 0.0205 - val_acc: 0.9932\n",
            "Epoch 49/50\n",
            "60000/60000 [==============================] - 9s 156us/step - loss: 0.0309 - acc: 0.9906 - val_loss: 0.0186 - val_acc: 0.9933\n",
            "Epoch 50/50\n",
            "60000/60000 [==============================] - 9s 154us/step - loss: 0.0305 - acc: 0.9910 - val_loss: 0.0193 - val_acc: 0.9939\n"
          ],
          "name": "stdout"
        },
        {
          "output_type": "execute_result",
          "data": {
            "text/plain": [
              "<keras.callbacks.History at 0x7fe13ee50748>"
            ]
          },
          "metadata": {
            "tags": []
          },
          "execution_count": 39
        }
      ]
    },
    {
      "cell_type": "markdown",
      "metadata": {
        "id": "jE3cGtqtb0X1",
        "colab_type": "text"
      },
      "source": [
        "### what's the effect of adding Drop out after every BN + DP before flatten"
      ]
    },
    {
      "cell_type": "code",
      "metadata": {
        "id": "JmGLsKr0OXct",
        "colab_type": "code",
        "colab": {
          "base_uri": "https://localhost:8080/",
          "height": 1865
        },
        "outputId": "ecf6de55-b3cc-4268-b446-a509d8a15298"
      },
      "source": [
        "model.fit(X_train, Y_train, batch_size=32, nb_epoch=50, verbose=1, validation_data=(X_test, Y_test))"
      ],
      "execution_count": 28,
      "outputs": [
        {
          "output_type": "stream",
          "text": [
            "/usr/local/lib/python3.6/dist-packages/ipykernel_launcher.py:1: UserWarning: The `nb_epoch` argument in `fit` has been renamed `epochs`.\n",
            "  \"\"\"Entry point for launching an IPython kernel.\n"
          ],
          "name": "stderr"
        },
        {
          "output_type": "stream",
          "text": [
            "Train on 60000 samples, validate on 10000 samples\n",
            "Epoch 1/50\n",
            "60000/60000 [==============================] - 37s 617us/step - loss: 0.7426 - acc: 0.7818 - val_loss: 0.1659 - val_acc: 0.9727\n",
            "Epoch 2/50\n",
            "60000/60000 [==============================] - 32s 539us/step - loss: 0.4092 - acc: 0.8668 - val_loss: 0.0979 - val_acc: 0.9813\n",
            "Epoch 3/50\n",
            "60000/60000 [==============================] - 32s 530us/step - loss: 0.3292 - acc: 0.8902 - val_loss: 0.0716 - val_acc: 0.9845\n",
            "Epoch 4/50\n",
            "60000/60000 [==============================] - 34s 565us/step - loss: 0.2925 - acc: 0.8999 - val_loss: 0.0614 - val_acc: 0.9857\n",
            "Epoch 5/50\n",
            "60000/60000 [==============================] - 32s 531us/step - loss: 0.2621 - acc: 0.9091 - val_loss: 0.0442 - val_acc: 0.9887\n",
            "Epoch 6/50\n",
            "60000/60000 [==============================] - 33s 548us/step - loss: 0.2388 - acc: 0.9167 - val_loss: 0.0580 - val_acc: 0.9839\n",
            "Epoch 7/50\n",
            "60000/60000 [==============================] - 32s 534us/step - loss: 0.2242 - acc: 0.9219 - val_loss: 0.0412 - val_acc: 0.9893\n",
            "Epoch 8/50\n",
            "60000/60000 [==============================] - 32s 530us/step - loss: 0.2174 - acc: 0.9237 - val_loss: 0.0335 - val_acc: 0.9910\n",
            "Epoch 9/50\n",
            "60000/60000 [==============================] - 34s 562us/step - loss: 0.2060 - acc: 0.9259 - val_loss: 0.0363 - val_acc: 0.9903\n",
            "Epoch 10/50\n",
            "60000/60000 [==============================] - 32s 533us/step - loss: 0.1985 - acc: 0.9276 - val_loss: 0.0351 - val_acc: 0.9897\n",
            "Epoch 11/50\n",
            "60000/60000 [==============================] - 33s 551us/step - loss: 0.1971 - acc: 0.9284 - val_loss: 0.0364 - val_acc: 0.9896\n",
            "Epoch 12/50\n",
            "60000/60000 [==============================] - 32s 532us/step - loss: 0.1922 - acc: 0.9310 - val_loss: 0.0385 - val_acc: 0.9883\n",
            "Epoch 13/50\n",
            "60000/60000 [==============================] - 32s 535us/step - loss: 0.1873 - acc: 0.9323 - val_loss: 0.0283 - val_acc: 0.9914\n",
            "Epoch 14/50\n",
            "60000/60000 [==============================] - 34s 562us/step - loss: 0.1794 - acc: 0.9332 - val_loss: 0.0287 - val_acc: 0.9907\n",
            "Epoch 15/50\n",
            "60000/60000 [==============================] - 32s 530us/step - loss: 0.1799 - acc: 0.9332 - val_loss: 0.0314 - val_acc: 0.9906\n",
            "Epoch 16/50\n",
            "60000/60000 [==============================] - 33s 550us/step - loss: 0.1761 - acc: 0.9347 - val_loss: 0.0325 - val_acc: 0.9901\n",
            "Epoch 17/50\n",
            "60000/60000 [==============================] - 32s 530us/step - loss: 0.1744 - acc: 0.9353 - val_loss: 0.0297 - val_acc: 0.9912\n",
            "Epoch 18/50\n",
            "60000/60000 [==============================] - 33s 552us/step - loss: 0.1730 - acc: 0.9350 - val_loss: 0.0294 - val_acc: 0.9908\n",
            "Epoch 19/50\n",
            "60000/60000 [==============================] - 33s 547us/step - loss: 0.1706 - acc: 0.9365 - val_loss: 0.0281 - val_acc: 0.9913\n",
            "Epoch 20/50\n",
            "60000/60000 [==============================] - 32s 531us/step - loss: 0.1672 - acc: 0.9369 - val_loss: 0.0305 - val_acc: 0.9912\n",
            "Epoch 21/50\n",
            "60000/60000 [==============================] - 33s 551us/step - loss: 0.1639 - acc: 0.9363 - val_loss: 0.0262 - val_acc: 0.9925\n",
            "Epoch 22/50\n",
            "60000/60000 [==============================] - 32s 532us/step - loss: 0.1622 - acc: 0.9395 - val_loss: 0.0264 - val_acc: 0.9916\n",
            "Epoch 23/50\n",
            "60000/60000 [==============================] - 33s 543us/step - loss: 0.1614 - acc: 0.9377 - val_loss: 0.0239 - val_acc: 0.9927\n",
            "Epoch 24/50\n",
            "60000/60000 [==============================] - 33s 552us/step - loss: 0.1595 - acc: 0.9377 - val_loss: 0.0272 - val_acc: 0.9917\n",
            "Epoch 25/50\n",
            "60000/60000 [==============================] - 32s 530us/step - loss: 0.1572 - acc: 0.9389 - val_loss: 0.0267 - val_acc: 0.9916\n",
            "Epoch 26/50\n",
            "60000/60000 [==============================] - 33s 553us/step - loss: 0.1592 - acc: 0.9373 - val_loss: 0.0261 - val_acc: 0.9925\n",
            "Epoch 27/50\n",
            "60000/60000 [==============================] - 32s 532us/step - loss: 0.1585 - acc: 0.9389 - val_loss: 0.0256 - val_acc: 0.9923\n",
            "Epoch 28/50\n",
            "60000/60000 [==============================] - 33s 555us/step - loss: 0.1552 - acc: 0.9399 - val_loss: 0.0254 - val_acc: 0.9917\n",
            "Epoch 29/50\n",
            "60000/60000 [==============================] - 33s 551us/step - loss: 0.1567 - acc: 0.9382 - val_loss: 0.0262 - val_acc: 0.9921\n",
            "Epoch 30/50\n",
            "60000/60000 [==============================] - 32s 534us/step - loss: 0.1547 - acc: 0.9392 - val_loss: 0.0229 - val_acc: 0.9934\n",
            "Epoch 31/50\n",
            "60000/60000 [==============================] - 33s 552us/step - loss: 0.1513 - acc: 0.9408 - val_loss: 0.0242 - val_acc: 0.9928\n",
            "Epoch 32/50\n",
            "60000/60000 [==============================] - 33s 544us/step - loss: 0.1518 - acc: 0.9402 - val_loss: 0.0312 - val_acc: 0.9907\n",
            "Epoch 33/50\n",
            "60000/60000 [==============================] - 32s 533us/step - loss: 0.1511 - acc: 0.9416 - val_loss: 0.0256 - val_acc: 0.9922\n",
            "Epoch 34/50\n",
            "60000/60000 [==============================] - 33s 548us/step - loss: 0.1516 - acc: 0.9402 - val_loss: 0.0252 - val_acc: 0.9919\n",
            "Epoch 35/50\n",
            "60000/60000 [==============================] - 32s 533us/step - loss: 0.1482 - acc: 0.9416 - val_loss: 0.0271 - val_acc: 0.9912\n",
            "Epoch 36/50\n",
            "60000/60000 [==============================] - 33s 552us/step - loss: 0.1461 - acc: 0.9421 - val_loss: 0.0280 - val_acc: 0.9914\n",
            "Epoch 37/50\n",
            "60000/60000 [==============================] - 33s 555us/step - loss: 0.1511 - acc: 0.9405 - val_loss: 0.0288 - val_acc: 0.9911\n",
            "Epoch 38/50\n",
            "60000/60000 [==============================] - 32s 541us/step - loss: 0.1478 - acc: 0.9429 - val_loss: 0.0236 - val_acc: 0.9931\n",
            "Epoch 39/50\n",
            "60000/60000 [==============================] - 33s 543us/step - loss: 0.1449 - acc: 0.9430 - val_loss: 0.0228 - val_acc: 0.9937\n",
            "Epoch 40/50\n",
            "60000/60000 [==============================] - 32s 533us/step - loss: 0.1487 - acc: 0.9417 - val_loss: 0.0223 - val_acc: 0.9932\n",
            "Epoch 41/50\n",
            "60000/60000 [==============================] - 33s 550us/step - loss: 0.1442 - acc: 0.9415 - val_loss: 0.0239 - val_acc: 0.9932\n",
            "Epoch 42/50\n",
            "60000/60000 [==============================] - 33s 542us/step - loss: 0.1433 - acc: 0.9430 - val_loss: 0.0246 - val_acc: 0.9928\n",
            "Epoch 43/50\n",
            "60000/60000 [==============================] - 33s 544us/step - loss: 0.1422 - acc: 0.9429 - val_loss: 0.0221 - val_acc: 0.9931\n",
            "Epoch 44/50\n",
            "60000/60000 [==============================] - 32s 537us/step - loss: 0.1406 - acc: 0.9433 - val_loss: 0.0238 - val_acc: 0.9925\n",
            "Epoch 45/50\n",
            "60000/60000 [==============================] - 32s 531us/step - loss: 0.1455 - acc: 0.9414 - val_loss: 0.0221 - val_acc: 0.9931\n",
            "Epoch 46/50\n",
            "60000/60000 [==============================] - 33s 549us/step - loss: 0.1441 - acc: 0.9408 - val_loss: 0.0245 - val_acc: 0.9932\n",
            "Epoch 47/50\n",
            "60000/60000 [==============================] - 33s 552us/step - loss: 0.1419 - acc: 0.9431 - val_loss: 0.0247 - val_acc: 0.9927\n",
            "Epoch 48/50\n",
            "60000/60000 [==============================] - 33s 546us/step - loss: 0.1402 - acc: 0.9441 - val_loss: 0.0248 - val_acc: 0.9922\n",
            "Epoch 49/50\n",
            "60000/60000 [==============================] - 32s 530us/step - loss: 0.1438 - acc: 0.9413 - val_loss: 0.0255 - val_acc: 0.9931\n",
            "Epoch 50/50\n",
            "60000/60000 [==============================] - 32s 530us/step - loss: 0.1408 - acc: 0.9424 - val_loss: 0.0234 - val_acc: 0.9927\n"
          ],
          "name": "stdout"
        },
        {
          "output_type": "execute_result",
          "data": {
            "text/plain": [
              "<keras.callbacks.History at 0x7fe14d0c2550>"
            ]
          },
          "metadata": {
            "tags": []
          },
          "execution_count": 28
        }
      ]
    },
    {
      "cell_type": "markdown",
      "metadata": {
        "id": "B-0IK5TFcBqL",
        "colab_type": "text"
      },
      "source": [
        "### what's the effect of adding Drop out after every BN for 80 ep aka HomeStretch."
      ]
    },
    {
      "cell_type": "code",
      "metadata": {
        "id": "3DJeeOGDU806",
        "colab_type": "code",
        "colab": {
          "base_uri": "https://localhost:8080/",
          "height": 2932
        },
        "outputId": "39d40c0c-a0f2-4c0b-ac29-82bb0fde809a"
      },
      "source": [
        "model.fit(X_train, Y_train, batch_size=32, nb_epoch=80, verbose=1, validation_data=(X_test, Y_test))"
      ],
      "execution_count": 31,
      "outputs": [
        {
          "output_type": "stream",
          "text": [
            "/usr/local/lib/python3.6/dist-packages/ipykernel_launcher.py:1: UserWarning: The `nb_epoch` argument in `fit` has been renamed `epochs`.\n",
            "  \"\"\"Entry point for launching an IPython kernel.\n"
          ],
          "name": "stderr"
        },
        {
          "output_type": "stream",
          "text": [
            "Train on 60000 samples, validate on 10000 samples\n",
            "Epoch 1/80\n",
            "60000/60000 [==============================] - 38s 628us/step - loss: 0.5788 - acc: 0.8656 - val_loss: 0.1857 - val_acc: 0.9675\n",
            "Epoch 2/80\n",
            "60000/60000 [==============================] - 32s 540us/step - loss: 0.2151 - acc: 0.9491 - val_loss: 0.0770 - val_acc: 0.9835\n",
            "Epoch 3/80\n",
            "60000/60000 [==============================] - 32s 531us/step - loss: 0.1549 - acc: 0.9621 - val_loss: 0.0629 - val_acc: 0.9841\n",
            "Epoch 4/80\n",
            "60000/60000 [==============================] - 33s 549us/step - loss: 0.1248 - acc: 0.9679 - val_loss: 0.0401 - val_acc: 0.9898\n",
            "Epoch 5/80\n",
            "60000/60000 [==============================] - 32s 527us/step - loss: 0.1077 - acc: 0.9718 - val_loss: 0.0409 - val_acc: 0.9886\n",
            "Epoch 6/80\n",
            "60000/60000 [==============================] - 34s 571us/step - loss: 0.0929 - acc: 0.9751 - val_loss: 0.0354 - val_acc: 0.9899\n",
            "Epoch 7/80\n",
            "60000/60000 [==============================] - 32s 529us/step - loss: 0.0867 - acc: 0.9761 - val_loss: 0.0354 - val_acc: 0.9894\n",
            "Epoch 8/80\n",
            "60000/60000 [==============================] - 32s 525us/step - loss: 0.0808 - acc: 0.9775 - val_loss: 0.0313 - val_acc: 0.9915\n",
            "Epoch 9/80\n",
            "60000/60000 [==============================] - 33s 545us/step - loss: 0.0751 - acc: 0.9791 - val_loss: 0.0310 - val_acc: 0.9924\n",
            "Epoch 10/80\n",
            "60000/60000 [==============================] - 32s 536us/step - loss: 0.0675 - acc: 0.9813 - val_loss: 0.0396 - val_acc: 0.9890\n",
            "Epoch 11/80\n",
            "60000/60000 [==============================] - 32s 540us/step - loss: 0.0686 - acc: 0.9807 - val_loss: 0.0288 - val_acc: 0.9914\n",
            "Epoch 12/80\n",
            "60000/60000 [==============================] - 32s 527us/step - loss: 0.0661 - acc: 0.9810 - val_loss: 0.0371 - val_acc: 0.9884\n",
            "Epoch 13/80\n",
            "60000/60000 [==============================] - 31s 520us/step - loss: 0.0606 - acc: 0.9830 - val_loss: 0.0305 - val_acc: 0.9911\n",
            "Epoch 14/80\n",
            "60000/60000 [==============================] - 33s 543us/step - loss: 0.0606 - acc: 0.9828 - val_loss: 0.0267 - val_acc: 0.9922\n",
            "Epoch 15/80\n",
            "60000/60000 [==============================] - 31s 521us/step - loss: 0.0578 - acc: 0.9837 - val_loss: 0.0270 - val_acc: 0.9912\n",
            "Epoch 16/80\n",
            "60000/60000 [==============================] - 34s 565us/step - loss: 0.0574 - acc: 0.9833 - val_loss: 0.0233 - val_acc: 0.9931\n",
            "Epoch 17/80\n",
            "60000/60000 [==============================] - 32s 525us/step - loss: 0.0553 - acc: 0.9843 - val_loss: 0.0266 - val_acc: 0.9921\n",
            "Epoch 18/80\n",
            "60000/60000 [==============================] - 31s 519us/step - loss: 0.0548 - acc: 0.9838 - val_loss: 0.0301 - val_acc: 0.9907\n",
            "Epoch 19/80\n",
            "60000/60000 [==============================] - 33s 550us/step - loss: 0.0515 - acc: 0.9851 - val_loss: 0.0239 - val_acc: 0.9932\n",
            "Epoch 20/80\n",
            "60000/60000 [==============================] - 31s 520us/step - loss: 0.0517 - acc: 0.9851 - val_loss: 0.0287 - val_acc: 0.9908\n",
            "Epoch 21/80\n",
            "60000/60000 [==============================] - 32s 533us/step - loss: 0.0518 - acc: 0.9847 - val_loss: 0.0311 - val_acc: 0.9904\n",
            "Epoch 22/80\n",
            "60000/60000 [==============================] - 32s 529us/step - loss: 0.0496 - acc: 0.9858 - val_loss: 0.0249 - val_acc: 0.9930\n",
            "Epoch 23/80\n",
            "60000/60000 [==============================] - 31s 519us/step - loss: 0.0491 - acc: 0.9857 - val_loss: 0.0230 - val_acc: 0.9929\n",
            "Epoch 24/80\n",
            "60000/60000 [==============================] - 33s 543us/step - loss: 0.0482 - acc: 0.9861 - val_loss: 0.0265 - val_acc: 0.9916\n",
            "Epoch 25/80\n",
            "60000/60000 [==============================] - 33s 547us/step - loss: 0.0479 - acc: 0.9858 - val_loss: 0.0241 - val_acc: 0.9925\n",
            "Epoch 26/80\n",
            "60000/60000 [==============================] - 32s 532us/step - loss: 0.0477 - acc: 0.9859 - val_loss: 0.0215 - val_acc: 0.9930\n",
            "Epoch 27/80\n",
            "60000/60000 [==============================] - 32s 530us/step - loss: 0.0477 - acc: 0.9860 - val_loss: 0.0204 - val_acc: 0.9932\n",
            "Epoch 28/80\n",
            "60000/60000 [==============================] - 31s 519us/step - loss: 0.0443 - acc: 0.9867 - val_loss: 0.0228 - val_acc: 0.9934\n",
            "Epoch 29/80\n",
            "60000/60000 [==============================] - 33s 555us/step - loss: 0.0442 - acc: 0.9875 - val_loss: 0.0224 - val_acc: 0.9940\n",
            "Epoch 30/80\n",
            "60000/60000 [==============================] - 31s 519us/step - loss: 0.0440 - acc: 0.9867 - val_loss: 0.0206 - val_acc: 0.9933\n",
            "Epoch 31/80\n",
            "60000/60000 [==============================] - 32s 528us/step - loss: 0.0427 - acc: 0.9874 - val_loss: 0.0232 - val_acc: 0.9932\n",
            "Epoch 32/80\n",
            "60000/60000 [==============================] - 32s 534us/step - loss: 0.0434 - acc: 0.9866 - val_loss: 0.0218 - val_acc: 0.9933\n",
            "Epoch 33/80\n",
            "60000/60000 [==============================] - 31s 518us/step - loss: 0.0429 - acc: 0.9874 - val_loss: 0.0222 - val_acc: 0.9935\n",
            "Epoch 34/80\n",
            "60000/60000 [==============================] - 32s 541us/step - loss: 0.0422 - acc: 0.9874 - val_loss: 0.0206 - val_acc: 0.9937\n",
            "Epoch 35/80\n",
            "60000/60000 [==============================] - 33s 548us/step - loss: 0.0421 - acc: 0.9876 - val_loss: 0.0253 - val_acc: 0.9916\n",
            "Epoch 36/80\n",
            "60000/60000 [==============================] - 31s 524us/step - loss: 0.0395 - acc: 0.9881 - val_loss: 0.0213 - val_acc: 0.9930\n",
            "Epoch 37/80\n",
            "60000/60000 [==============================] - 32s 536us/step - loss: 0.0424 - acc: 0.9881 - val_loss: 0.0229 - val_acc: 0.9927\n",
            "Epoch 38/80\n",
            "60000/60000 [==============================] - 32s 531us/step - loss: 0.0425 - acc: 0.9872 - val_loss: 0.0265 - val_acc: 0.9922\n",
            "Epoch 39/80\n",
            "60000/60000 [==============================] - 33s 543us/step - loss: 0.0413 - acc: 0.9876 - val_loss: 0.0208 - val_acc: 0.9931\n",
            "Epoch 40/80\n",
            "60000/60000 [==============================] - 31s 519us/step - loss: 0.0405 - acc: 0.9876 - val_loss: 0.0243 - val_acc: 0.9922\n",
            "Epoch 41/80\n",
            "60000/60000 [==============================] - 31s 518us/step - loss: 0.0399 - acc: 0.9874 - val_loss: 0.0245 - val_acc: 0.9917\n",
            "Epoch 42/80\n",
            "60000/60000 [==============================] - 32s 540us/step - loss: 0.0404 - acc: 0.9877 - val_loss: 0.0226 - val_acc: 0.9928\n",
            "Epoch 43/80\n",
            "60000/60000 [==============================] - 31s 518us/step - loss: 0.0397 - acc: 0.9885 - val_loss: 0.0228 - val_acc: 0.9931\n",
            "Epoch 44/80\n",
            "60000/60000 [==============================] - 32s 541us/step - loss: 0.0407 - acc: 0.9876 - val_loss: 0.0218 - val_acc: 0.9931\n",
            "Epoch 45/80\n",
            "60000/60000 [==============================] - 33s 546us/step - loss: 0.0398 - acc: 0.9880 - val_loss: 0.0208 - val_acc: 0.9936\n",
            "Epoch 46/80\n",
            "60000/60000 [==============================] - 31s 517us/step - loss: 0.0383 - acc: 0.9888 - val_loss: 0.0223 - val_acc: 0.9933\n",
            "Epoch 47/80\n",
            "60000/60000 [==============================] - 32s 541us/step - loss: 0.0365 - acc: 0.9894 - val_loss: 0.0240 - val_acc: 0.9923\n",
            "Epoch 48/80\n",
            "60000/60000 [==============================] - 32s 531us/step - loss: 0.0364 - acc: 0.9888 - val_loss: 0.0215 - val_acc: 0.9932\n",
            "Epoch 49/80\n",
            "60000/60000 [==============================] - 32s 540us/step - loss: 0.0370 - acc: 0.9885 - val_loss: 0.0228 - val_acc: 0.9922\n",
            "Epoch 50/80\n",
            "60000/60000 [==============================] - 31s 517us/step - loss: 0.0375 - acc: 0.9887 - val_loss: 0.0245 - val_acc: 0.9929\n",
            "Epoch 51/80\n",
            "60000/60000 [==============================] - 31s 518us/step - loss: 0.0375 - acc: 0.9888 - val_loss: 0.0208 - val_acc: 0.9932\n",
            "Epoch 52/80\n",
            "60000/60000 [==============================] - 33s 542us/step - loss: 0.0382 - acc: 0.9886 - val_loss: 0.0240 - val_acc: 0.9925\n",
            "Epoch 53/80\n",
            "60000/60000 [==============================] - 31s 518us/step - loss: 0.0364 - acc: 0.9888 - val_loss: 0.0230 - val_acc: 0.9926\n",
            "Epoch 54/80\n",
            "60000/60000 [==============================] - 33s 552us/step - loss: 0.0379 - acc: 0.9886 - val_loss: 0.0202 - val_acc: 0.9932\n",
            "Epoch 55/80\n",
            "60000/60000 [==============================] - 32s 538us/step - loss: 0.0361 - acc: 0.9889 - val_loss: 0.0207 - val_acc: 0.9943\n",
            "Epoch 56/80\n",
            "60000/60000 [==============================] - 31s 518us/step - loss: 0.0356 - acc: 0.9894 - val_loss: 0.0203 - val_acc: 0.9935\n",
            "Epoch 57/80\n",
            "60000/60000 [==============================] - 33s 554us/step - loss: 0.0362 - acc: 0.9893 - val_loss: 0.0236 - val_acc: 0.9928\n",
            "Epoch 58/80\n",
            "60000/60000 [==============================] - 31s 517us/step - loss: 0.0356 - acc: 0.9895 - val_loss: 0.0232 - val_acc: 0.9925\n",
            "Epoch 59/80\n",
            "60000/60000 [==============================] - 32s 541us/step - loss: 0.0360 - acc: 0.9893 - val_loss: 0.0217 - val_acc: 0.9932\n",
            "Epoch 60/80\n",
            "60000/60000 [==============================] - 31s 519us/step - loss: 0.0359 - acc: 0.9893 - val_loss: 0.0233 - val_acc: 0.9927\n",
            "Epoch 61/80\n",
            "60000/60000 [==============================] - 31s 519us/step - loss: 0.0354 - acc: 0.9894 - val_loss: 0.0198 - val_acc: 0.9942\n",
            "Epoch 62/80\n",
            "60000/60000 [==============================] - 32s 541us/step - loss: 0.0368 - acc: 0.9884 - val_loss: 0.0205 - val_acc: 0.9939\n",
            "Epoch 63/80\n",
            "60000/60000 [==============================] - 31s 518us/step - loss: 0.0356 - acc: 0.9891 - val_loss: 0.0209 - val_acc: 0.9934\n",
            "Epoch 64/80\n",
            "60000/60000 [==============================] - 33s 548us/step - loss: 0.0345 - acc: 0.9894 - val_loss: 0.0204 - val_acc: 0.9942\n",
            "Epoch 65/80\n",
            "60000/60000 [==============================] - 31s 519us/step - loss: 0.0362 - acc: 0.9887 - val_loss: 0.0219 - val_acc: 0.9931\n",
            "Epoch 66/80\n",
            "60000/60000 [==============================] - 31s 519us/step - loss: 0.0357 - acc: 0.9889 - val_loss: 0.0187 - val_acc: 0.9946\n",
            "Epoch 67/80\n",
            "60000/60000 [==============================] - 33s 546us/step - loss: 0.0347 - acc: 0.9895 - val_loss: 0.0220 - val_acc: 0.9939\n",
            "Epoch 68/80\n",
            "60000/60000 [==============================] - 31s 519us/step - loss: 0.0346 - acc: 0.9893 - val_loss: 0.0210 - val_acc: 0.9931\n",
            "Epoch 69/80\n",
            "60000/60000 [==============================] - 32s 537us/step - loss: 0.0352 - acc: 0.9895 - val_loss: 0.0223 - val_acc: 0.9932\n",
            "Epoch 70/80\n",
            "60000/60000 [==============================] - 31s 521us/step - loss: 0.0352 - acc: 0.9890 - val_loss: 0.0246 - val_acc: 0.9926\n",
            "Epoch 71/80\n",
            "60000/60000 [==============================] - 31s 518us/step - loss: 0.0350 - acc: 0.9892 - val_loss: 0.0197 - val_acc: 0.9943\n",
            "Epoch 72/80\n",
            "60000/60000 [==============================] - 32s 541us/step - loss: 0.0333 - acc: 0.9899 - val_loss: 0.0202 - val_acc: 0.9940\n",
            "Epoch 73/80\n",
            "60000/60000 [==============================] - 31s 518us/step - loss: 0.0331 - acc: 0.9896 - val_loss: 0.0191 - val_acc: 0.9942\n",
            "Epoch 74/80\n",
            "60000/60000 [==============================] - 34s 564us/step - loss: 0.0345 - acc: 0.9898 - val_loss: 0.0211 - val_acc: 0.9933\n",
            "Epoch 75/80\n",
            "60000/60000 [==============================] - 32s 525us/step - loss: 0.0341 - acc: 0.9898 - val_loss: 0.0192 - val_acc: 0.9941\n",
            "Epoch 76/80\n",
            "60000/60000 [==============================] - 31s 518us/step - loss: 0.0342 - acc: 0.9892 - val_loss: 0.0187 - val_acc: 0.9942\n",
            "Epoch 77/80\n",
            "60000/60000 [==============================] - 33s 556us/step - loss: 0.0340 - acc: 0.9896 - val_loss: 0.0202 - val_acc: 0.9937\n",
            "Epoch 78/80\n",
            "60000/60000 [==============================] - 31s 517us/step - loss: 0.0330 - acc: 0.9898 - val_loss: 0.0197 - val_acc: 0.9937\n",
            "Epoch 79/80\n",
            "60000/60000 [==============================] - 32s 532us/step - loss: 0.0347 - acc: 0.9893 - val_loss: 0.0188 - val_acc: 0.9943\n",
            "Epoch 80/80\n",
            "60000/60000 [==============================] - 32s 530us/step - loss: 0.0336 - acc: 0.9893 - val_loss: 0.0185 - val_acc: 0.9937\n"
          ],
          "name": "stdout"
        },
        {
          "output_type": "execute_result",
          "data": {
            "text/plain": [
              "<keras.callbacks.History at 0x7fe14364e668>"
            ]
          },
          "metadata": {
            "tags": []
          },
          "execution_count": 31
        }
      ]
    },
    {
      "cell_type": "markdown",
      "metadata": {
        "id": "ow1MVllFcjdW",
        "colab_type": "text"
      },
      "source": [
        "### ---"
      ]
    },
    {
      "cell_type": "code",
      "metadata": {
        "id": "AtsH-lLk-eLb",
        "colab_type": "code",
        "colab": {}
      },
      "source": [
        "score = model.evaluate(X_test, Y_test, verbose=0)"
      ],
      "execution_count": 0,
      "outputs": []
    },
    {
      "cell_type": "code",
      "metadata": {
        "id": "mkX8JMv79q9r",
        "colab_type": "code",
        "outputId": "e2951b7c-16a3-40e6-963f-24150f8cbd38",
        "colab": {
          "base_uri": "https://localhost:8080/",
          "height": 34
        }
      },
      "source": [
        "print(score)"
      ],
      "execution_count": 0,
      "outputs": [
        {
          "output_type": "stream",
          "text": [
            "[0.04965896717322466, 0.9861]\n"
          ],
          "name": "stdout"
        }
      ]
    },
    {
      "cell_type": "code",
      "metadata": {
        "id": "OCWoJkwE9suh",
        "colab_type": "code",
        "colab": {}
      },
      "source": [
        "y_pred = model.predict(X_test)"
      ],
      "execution_count": 0,
      "outputs": []
    },
    {
      "cell_type": "code",
      "metadata": {
        "id": "Ym7iCFBm9uBs",
        "colab_type": "code",
        "outputId": "63105130-a938-481a-982d-795f6a299ddc",
        "colab": {
          "base_uri": "https://localhost:8080/",
          "height": 340
        }
      },
      "source": [
        "print(y_pred[:9])\n",
        "print(y_test[:9])"
      ],
      "execution_count": 0,
      "outputs": [
        {
          "output_type": "stream",
          "text": [
            "[[2.0593689e-17 6.3046323e-17 8.9005447e-13 1.8406407e-10 8.0754371e-19\n",
            "  8.0671096e-15 1.1510667e-24 1.0000000e+00 2.1262439e-10 2.7205176e-11]\n",
            " [2.5421015e-15 5.1460576e-12 1.0000000e+00 1.7606363e-12 6.3726551e-23\n",
            "  3.3248325e-16 4.4326671e-09 1.8222993e-27 1.8873889e-12 3.6800765e-21]\n",
            " [3.7568029e-08 9.9987435e-01 6.9531761e-06 6.3134886e-10 9.9738187e-05\n",
            "  5.2485571e-08 1.0483473e-07 1.0138228e-06 1.7757657e-05 1.9014761e-10]\n",
            " [1.0000000e+00 2.2739057e-15 6.6718070e-10 5.6225624e-15 4.5025926e-16\n",
            "  2.7407175e-13 1.3530634e-09 3.9892802e-13 5.8574483e-14 4.0855683e-12]\n",
            " [1.0115652e-12 6.9521903e-14 1.3467061e-13 1.9833676e-13 9.9999976e-01\n",
            "  4.2785103e-16 1.6022580e-12 5.5436229e-11 6.7551126e-10 2.2112354e-07]\n",
            " [2.3979660e-10 9.9982810e-01 3.5553690e-08 3.5910691e-11 1.0332796e-05\n",
            "  1.4169725e-10 2.0029900e-11 1.5314015e-04 8.3647601e-06 3.8377021e-10]\n",
            " [1.4182455e-19 9.8074493e-11 5.7774190e-09 2.3251079e-13 9.9966061e-01\n",
            "  6.0978769e-09 2.3871165e-16 2.2344653e-09 3.3876873e-04 5.9758122e-07]\n",
            " [7.2593749e-24 1.0864400e-09 7.5089712e-11 6.4676060e-12 5.3071453e-06\n",
            "  3.0447264e-08 5.8216405e-18 1.4018439e-14 9.3028554e-09 9.9999464e-01]\n",
            " [5.8572938e-11 5.5615773e-23 4.0553398e-19 1.0435163e-14 7.1205892e-15\n",
            "  3.1688964e-01 6.8311024e-01 4.5070697e-21 8.7986400e-08 1.6301742e-10]]\n",
            "[7 2 1 0 4 1 4 9 5]\n"
          ],
          "name": "stdout"
        }
      ]
    },
    {
      "cell_type": "code",
      "metadata": {
        "id": "CT--y98_dr2T",
        "colab_type": "code",
        "colab": {}
      },
      "source": [
        "layer_dict = dict([(layer.name, layer) for layer in model.layers])"
      ],
      "execution_count": 0,
      "outputs": []
    },
    {
      "cell_type": "code",
      "metadata": {
        "id": "Z7zrdWP8_E75",
        "colab_type": "code",
        "outputId": "f276f645-2371-4c57-d59c-cedee5cdc752",
        "colab": {
          "base_uri": "https://localhost:8080/",
          "height": 741
        }
      },
      "source": [
        "import numpy as np\n",
        "from matplotlib import pyplot as plt\n",
        "from keras import backend as K\n",
        "%matplotlib inline\n",
        "# util function to convert a tensor into a valid image\n",
        "def deprocess_image(x):\n",
        "    # normalize tensor: center on 0., ensure std is 0.1\n",
        "    x -= x.mean()\n",
        "    x /= (x.std() + 1e-5)\n",
        "    x *= 0.1\n",
        "\n",
        "    # clip to [0, 1]\n",
        "    x += 0.5\n",
        "    x = np.clip(x, 0, 1)\n",
        "\n",
        "    # convert to RGB array\n",
        "    x *= 255\n",
        "    #x = x.transpose((1, 2, 0))\n",
        "    x = np.clip(x, 0, 255).astype('uint8')\n",
        "    return x\n",
        "\n",
        "def vis_img_in_filter(img = np.array(X_train[2]).reshape((1, 28, 28, 1)).astype(np.float64), \n",
        "                      layer_name = 'conv2d_74'):\n",
        "    layer_output = layer_dict[layer_name].output\n",
        "    img_ascs = list()\n",
        "    for filter_index in range(layer_output.shape[3]):\n",
        "        # build a loss function that maximizes the activation\n",
        "        # of the nth filter of the layer considered\n",
        "        loss = K.mean(layer_output[:, :, :, filter_index])\n",
        "\n",
        "        # compute the gradient of the input picture wrt this loss\n",
        "        grads = K.gradients(loss, model.input)[0]\n",
        "\n",
        "        # normalization trick: we normalize the gradient\n",
        "        grads /= (K.sqrt(K.mean(K.square(grads))) + 1e-5)\n",
        "\n",
        "        # this function returns the loss and grads given the input picture\n",
        "        iterate = K.function([model.input], [loss, grads])\n",
        "\n",
        "        # step size for gradient ascent\n",
        "        step = 5.\n",
        "\n",
        "        img_asc = np.array(img)\n",
        "        # run gradient ascent for 20 steps\n",
        "        for i in range(20):\n",
        "            loss_value, grads_value = iterate([img_asc])\n",
        "            img_asc += grads_value * step\n",
        "\n",
        "        img_asc = img_asc[0]\n",
        "        img_ascs.append(deprocess_image(img_asc).reshape((28, 28)))\n",
        "        \n",
        "    if layer_output.shape[3] >= 35:\n",
        "        plot_x, plot_y = 6, 6\n",
        "    elif layer_output.shape[3] >= 23:\n",
        "        plot_x, plot_y = 4, 6\n",
        "    elif layer_output.shape[3] >= 11:\n",
        "        plot_x, plot_y = 2, 6\n",
        "    else:\n",
        "        plot_x, plot_y = 1, 2\n",
        "    fig, ax = plt.subplots(plot_x, plot_y, figsize = (12, 12))\n",
        "    ax[0, 0].imshow(img.reshape((28, 28)), cmap = 'gray')\n",
        "    ax[0, 0].set_title('Input image')\n",
        "    fig.suptitle('Input image and %s filters' % (layer_name,))\n",
        "    fig.tight_layout(pad = 0.3, rect = [0, 0, 0.9, 0.9])\n",
        "    for (x, y) in [(i, j) for i in range(plot_x) for j in range(plot_y)]:\n",
        "        if x == 0 and y == 0:\n",
        "            continue\n",
        "        ax[x, y].imshow(img_ascs[x * plot_y + y - 1], cmap = 'gray')\n",
        "        ax[x, y].set_title('filter %d' % (x * plot_y + y - 1))\n",
        "\n",
        "vis_img_in_filter()"
      ],
      "execution_count": 0,
      "outputs": [
        {
          "output_type": "display_data",
          "data": {
            "image/png": "[encoded data removed]",
            "text/plain": [
              "<Figure size 864x864 with 12 Axes>"
            ]
          },
          "metadata": {
            "tags": []
          }
        }
      ]
    },
    {
      "cell_type": "markdown",
      "metadata": {
        "id": "nvo3WWsmHZNQ",
        "colab_type": "text"
      },
      "source": [
        "## Results\n",
        "\n",
        "---\n",
        "\n",
        "Model -   2 times 16, 3x3 -> BN -> 8, 1x1 -> BN (+) | MP | 2 times 16, 3x3 -> BN -> 8, 1x1 -> BN (+) | MP | 20, 3x3 -> BN -> 10, 1x1 -> 10, 2x2 {added BN after every 1x1}  </br>\n",
        "\n",
        "BS - 32 </br> \n",
        "Epoch - 30 </br>\n",
        "Parameters - 6624 </br>\n",
        "\n",
        "Train Acc -  0.9955 </br>\n",
        "Val Acc - 0.9909 </br>\n",
        "HIghest Val Acc - 0.9913 in 26th epoc</br>\n",
        "\n",
        "#### 2nd Run \n",
        "BS - 32 </br> \n",
        "Epoch - 50 </br>\n",
        "Parameters - 6624 </br>\n",
        "\n",
        "Train Acc -  0.9968 </br>\n",
        "Val Acc - 0.9898 </br>\n",
        "HIghest Val Acc - 0.9908 in 49th epoc</br>\n",
        "\n",
        "---\n",
        "\n",
        "Model 2 -   2 times 16, 3x3 -> BN -> 8, 1x1 -> BN | MP | 2 times 16, 3x3 -> BN -> 8, 1x1 -> BN | MP | 20, 3x3 -> BN -> 10, 1x1 -> BN (+) -> 10, 6x6 {adding BN after last 1x1 conv}  </br>\n",
        "\n",
        "BS - 32 </br> \n",
        "Epoch - 30 </br>\n",
        "Parameters - 6624 </br>\n",
        "\n",
        "Train Acc -  0.9956 </br>\n",
        "Val Acc - 0.9895 </br>\n",
        "HIghest Val Acc - 0.9916 in 27th epoc</br>\n",
        "\n",
        "\n",
        "#### 2nd Run \n",
        "BS - 32 </br> \n",
        "Epoch - 50 </br>\n",
        "Parameters - 6624 </br>\n",
        "\n",
        "Train Acc -  0.9972 </br>\n",
        "Val Acc - 0.9894 </br>\n",
        "HIghest Val Acc - 0.9904 in 34th epoc</br>\n",
        "\n",
        "---\n",
        "\n",
        "Model 2 -   2 times 16, 3x3 -> BN -> 8, 1x1 -> BN | MP | 2 times 16, 3x3 -> BN -> 8, 1x1 -> BN | MP | 20, 3x3 -> BN -> 10, 1x1 -> BN -> 10, 6x6 -> BN (+) -> flatten() {adding BN before flatten}  </br>\n",
        "\n",
        "BS - 32 </br> \n",
        "Epoch - 30 </br>\n",
        "Parameters - 6624 </br>\n",
        "\n",
        "Train Acc -  0.9941 </br>\n",
        "Val Acc - 0.9914 </br>\n",
        "HIghest Val Acc - <b>0.9929</b> in 21st epoc</br>\n",
        "\n",
        "\n",
        "#### 2nd Run \n",
        "BS - 32 </br> \n",
        "Epoch - 50 </br>\n",
        "Parameters - 6624 </br>\n",
        "\n",
        "Train Acc -  0.9966 </br>\n",
        "Val Acc - 0.9922 </br>\n",
        "HIghest Val Acc - 0.9924 in 34th epoc</br>\n",
        "\n",
        "\n",
        "#### Obs. \n",
        "Adding BN before flatten() layer does help, Highest Vald. Acc - <b> 0.9929 </b> achieved.\n",
        "\n",
        "\n",
        "#### MP-RM1\n",
        "\n",
        "Model 2 -   2 times 16, 3x3 -> BN -> 8, 1x1 -> BN | MP (-) | 2 times 16, 3x3 -> BN -> 8, 1x1 -> BN | MP | 20, 3x3 -> BN -> 10, 1x1 -> BN -> 10, 6x6 -> BN -> flatten() </br>\n",
        "\n",
        "BS - 32 </br> \n",
        "Epoch - 30 </br>\n",
        "Parameters - 6624 </br>\n",
        "\n",
        "Train Acc -  0.9941 </br>\n",
        "Val Acc - 0.9914 </br>\n",
        "HIghest Val Acc - 0.9929 in 21st epoc</br>\n",
        "\n",
        "\n",
        "#### 2nd Run \n",
        "BS - 32 </br> \n",
        "Epoch - 50 </br>\n",
        "Parameters - 12832 </br>\n",
        "\n",
        "Train Acc -  0.9966 </br>\n",
        "Val Acc - 0.9922 </br>\n",
        "HIghest Val Acc - 0.9924 in 34th epoc</br>\n",
        "\n",
        "#### MP-RM2\n",
        "\n",
        "Model 2 -   2 times 16, 3x3 -> BN -> 8, 1x1 -> BN | MP | 2 times 16, 3x3 -> BN -> 8, 1x1 -> BN | MP (-) | 20, 3x3 -> BN -> 10, 1x1 -> BN -> 10, 6x6 -> BN -> flatten() </br>\n",
        "\n",
        "BS - 32 </br> \n",
        "Epoch - 30 </br>\n",
        "Parameters - 10032 </br>\n",
        "\n",
        "Train Acc -  0.9956 </br>\n",
        "Val Acc - 0.9923 </br>\n",
        "HIghest Val Acc - <b>0.9938</b> in 14th epoc</br>\n",
        "\n",
        "\n",
        "#### 2nd Run \n",
        "BS - 32 </br> \n",
        "Epoch - 50 </br>\n",
        "Parameters - 12832 </br>\n",
        "\n",
        "Train Acc -  0.9966 </br>\n",
        "Val Acc - 0.9922 </br>\n",
        "HIghest Val Acc - 0.9924 in 34th epoc</br>\n",
        "\n",
        "\n",
        "#### Obs. \n",
        "Max Pool in the middle of the model helped & Highest Val Acc <b>0.9938</b>\n",
        "\n",
        "#### Drop out results\n",
        "\n",
        "Model  -   2 times 16, 3x3 -> BN -> DP (+) -> 8, 1x1 -> BN -> DP (+) | MP | 2 times 16, 3x3 -> BN -> DP (+) -> 8, 1x1 -> BN -> DP (+) | MP (-) | 20, 3x3 -> BN -> DP (+) -> 10, 1x1 -> BN -> DP (+) -> 10, 6x6 -> BN -> flatten() </br>\n",
        "\n",
        "BS - 32 </br> \n",
        "Epoch - 30 </br>\n",
        "Parameters - 10032 </br>\n",
        "\n",
        "Train Acc -  0.9870 </br>\n",
        "Val Acc - 0.9932 </br>\n",
        "HIghest Val Acc - 0.9940 in 27th epoc</br>\n",
        "\n",
        "\n",
        "#### 2nd Run \n",
        "BS - 32 </br> \n",
        "Epoch - 50 </br>\n",
        "Parameters - 10032 </br>\n",
        "\n",
        "Train Acc -  0.9889 </br>\n",
        "Val Acc - 0.9935 </br>\n",
        "HIghest Val Acc - <b> 0.9946 </b> in 25th epoc</br>\n",
        "\n",
        "#### 3rd Run BS 2x \n",
        "BS - 64 </br> \n",
        "Epoch - 50 </br>\n",
        "Parameters - 10032 </br>\n",
        "\n",
        "Train Acc -  0.9907 </br>\n",
        "Val Acc - 0.9946 </br>\n",
        "\n",
        "#### 4th Run BS 2x \n",
        "BS - 128 </br> \n",
        "Epoch - 50 </br>\n",
        "Parameters - 10032 </br>\n",
        "\n",
        "Train Acc -  0.9910 </br>\n",
        "Val Acc - 0.9939 </br>\n",
        "HIghest Val Acc - 0.9940 in 32nd epoc</br>\n",
        "\n",
        "#### 5th Run \n",
        "BS - 32 </br> \n",
        "Epoch - 80 </br>\n",
        "Parameters - 10032 </br>\n",
        "\n",
        "Train Acc -  0.9893 </br>\n",
        "Val Acc - 0.9937 </br>\n",
        "HIghest Val Acc - <b>0.9946</b> in 66th epoc</br>\n",
        "\n",
        "Model 2 -   2 times 16, 3x3 -> BN -> DP -> 8, 1x1 -> BN -> DP | MP | 2 times 16, 3x3 -> BN -> DP -> 8, 1x1 -> BN -> DP | MP (-) | 20, 3x3 -> BN -> DP -> 10, 1x1 -> BN -> DP  -> 10, 6x6 -> BN -> DP (+) -> flatten() </br>\n",
        "added dp before flatten.\n",
        "\n",
        "BS - 32 </br> \n",
        "Epoch - 30 </br>\n",
        "Parameters - 10032 </br>\n",
        "\n",
        "Train Acc -  0.9410 </br>\n",
        "Val Acc - 0.9921 </br>\n",
        "HIghest Val Acc - 0.9928 in 17th epoc</br>\n",
        "\n",
        "\n",
        "#### 2nd Run \n",
        "BS - 32 </br> \n",
        "Epoch - 50 </br>\n",
        "Parameters - 10032 </br>\n",
        "\n",
        "Train Acc -  0.9424 </br>\n",
        "Val Acc - 0.9927 </br>\n",
        "HIghest Val Acc - 0.9937 in 39th epoc</br>\n",
        "\n",
        "#### Obs. \n",
        "\n",
        "Drop after just before flatten doesn't help.\n"
      ]
    },
    {
      "cell_type": "markdown",
      "metadata": {
        "id": "23lqcrxMc_iv",
        "colab_type": "text"
      },
      "source": [
        "##  Finally after the various trials I conclude\n",
        "\n",
        "*   BN helps the model\n",
        "*   Drop Out before flatten doesn't help the model rather it underfit's.\n",
        "\n",
        "*   Even i ran for more no of epoc it doesn't help.\n",
        "*   Maxpool in b/w the layer helped but if i tried to use Maxpool at the end doesn't help.\n",
        "\n",
        "\n",
        "*   when i comment initial MP it adds up to 12832 and when the same does for later MP it adds up to 10032, interestingly with less parameters the model able to reach good accuracy.\n",
        "\n",
        "\n",
        "\n",
        "\n",
        "\n",
        "\n",
        "\n",
        "\n"
      ]
    },
    {
      "cell_type": "code",
      "metadata": {
        "id": "nOqhI7yoareC",
        "colab_type": "code",
        "colab": {}
      },
      "source": [
        ""
      ],
      "execution_count": 0,
      "outputs": []
    }
  ]
}