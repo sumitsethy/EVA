{
  "nbformat": 4,
  "nbformat_minor": 0,
  "metadata": {
    "colab": {
      "name": "Third Model.ipynb",
      "version": "0.3.2",
      "provenance": [],
      "collapsed_sections": [
        "jhQeEbRQmIuL",
        "F00GelGNmgEB",
        "hF3HvWt1mwK8"
      ]
    },
    "kernelspec": {
      "name": "python3",
      "display_name": "Python 3"
    },
    "accelerator": "GPU"
  },
  "cells": [
    {
      "cell_type": "markdown",
      "metadata": {
        "id": "aNyZv-Ec52ot",
        "colab_type": "text"
      },
      "source": [
        "# **Import Libraries and modules**"
      ]
    },
    {
      "cell_type": "code",
      "metadata": {
        "id": "3m3w1Cw49Zkt",
        "colab_type": "code",
        "colab": {
          "base_uri": "https://localhost:8080/",
          "height": 35
        },
        "outputId": "353cad67-2512-4d05-f5ba-ec31975c1a9d"
      },
      "source": [
        "# https://keras.io/\n",
        "!pip install -q keras\n",
        "import keras"
      ],
      "execution_count": 1,
      "outputs": [
        {
          "output_type": "stream",
          "text": [
            "Using TensorFlow backend.\n"
          ],
          "name": "stderr"
        }
      ]
    },
    {
      "cell_type": "code",
      "metadata": {
        "id": "Eso6UHE080D4",
        "colab_type": "code",
        "colab": {}
      },
      "source": [
        "import numpy as np\n",
        "\n",
        "from keras.models import Sequential\n",
        "from keras.layers import Dense, Dropout, Activation, Flatten, Add\n",
        "from keras.layers import Convolution2D, MaxPooling2D\n",
        "from keras.utils import np_utils\n",
        "\n",
        "from keras.datasets import mnist"
      ],
      "execution_count": 0,
      "outputs": []
    },
    {
      "cell_type": "markdown",
      "metadata": {
        "id": "zByEi95J86RD",
        "colab_type": "text"
      },
      "source": [
        "### Load pre-shuffled MNIST data into train and test sets"
      ]
    },
    {
      "cell_type": "code",
      "metadata": {
        "id": "7eRM0QWN83PV",
        "colab_type": "code",
        "outputId": "7f0ec9cb-b955-4e95-df59-73c866588b71",
        "colab": {
          "base_uri": "https://localhost:8080/",
          "height": 54
        }
      },
      "source": [
        "(X_train, y_train), (X_test, y_test) = mnist.load_data()"
      ],
      "execution_count": 3,
      "outputs": [
        {
          "output_type": "stream",
          "text": [
            "Downloading data from https://s3.amazonaws.com/img-datasets/mnist.npz\n",
            "11493376/11490434 [==============================] - 0s 0us/step\n"
          ],
          "name": "stdout"
        }
      ]
    },
    {
      "cell_type": "code",
      "metadata": {
        "id": "4a4Be72j8-ZC",
        "colab_type": "code",
        "outputId": "28d22215-1aeb-4e3f-dd7c-a3488a4e51a9",
        "colab": {
          "base_uri": "https://localhost:8080/",
          "height": 304
        }
      },
      "source": [
        "print (X_train.shape)\n",
        "from matplotlib import pyplot as plt\n",
        "%matplotlib inline\n",
        "plt.imshow(X_train[12])"
      ],
      "execution_count": 0,
      "outputs": [
        {
          "output_type": "stream",
          "text": [
            "(60000, 28, 28)\n"
          ],
          "name": "stdout"
        },
        {
          "output_type": "execute_result",
          "data": {
            "text/plain": [
              "<matplotlib.image.AxesImage at 0x7f90a454c240>"
            ]
          },
          "metadata": {
            "tags": []
          },
          "execution_count": 5
        },
        {
          "output_type": "display_data",
          "data": {
            "image/png": "[encoded data removed]",
            "text/plain": [
              "<Figure size 432x288 with 1 Axes>"
            ]
          },
          "metadata": {
            "tags": []
          }
        }
      ]
    },
    {
      "cell_type": "code",
      "metadata": {
        "id": "dkmprriw9AnZ",
        "colab_type": "code",
        "colab": {}
      },
      "source": [
        "X_train = X_train.reshape(X_train.shape[0], 28, 28,1)\n",
        "X_test = X_test.reshape(X_test.shape[0], 28, 28,1)"
      ],
      "execution_count": 0,
      "outputs": []
    },
    {
      "cell_type": "code",
      "metadata": {
        "id": "X2m4YS4E9CRh",
        "colab_type": "code",
        "colab": {}
      },
      "source": [
        "X_train = X_train.astype('float32')\n",
        "X_test = X_test.astype('float32')\n",
        "X_train /= 255\n",
        "X_test /= 255"
      ],
      "execution_count": 0,
      "outputs": []
    },
    {
      "cell_type": "code",
      "metadata": {
        "id": "0Mn0vAYD9DvB",
        "colab_type": "code",
        "outputId": "a9f0a2f7-d6cd-4702-c85e-c6c69a614412",
        "colab": {
          "base_uri": "https://localhost:8080/",
          "height": 34
        }
      },
      "source": [
        "y_train[:10]"
      ],
      "execution_count": 0,
      "outputs": [
        {
          "output_type": "execute_result",
          "data": {
            "text/plain": [
              "array([5, 0, 4, 1, 9, 2, 1, 3, 1, 4], dtype=uint8)"
            ]
          },
          "metadata": {
            "tags": []
          },
          "execution_count": 7
        }
      ]
    },
    {
      "cell_type": "code",
      "metadata": {
        "id": "ZG8JiXR39FHC",
        "colab_type": "code",
        "colab": {}
      },
      "source": [
        "# Convert 1-dimensional class arrays to 10-dimensional class matrices\n",
        "Y_train = np_utils.to_categorical(y_train, 10)\n",
        "Y_test = np_utils.to_categorical(y_test, 10)"
      ],
      "execution_count": 0,
      "outputs": []
    },
    {
      "cell_type": "code",
      "metadata": {
        "id": "fYlFRvKS9HMB",
        "colab_type": "code",
        "outputId": "79f44f8d-7cfe-403f-ca76-be8da1c4160a",
        "colab": {
          "base_uri": "https://localhost:8080/",
          "height": 194
        }
      },
      "source": [
        "Y_train[:10]\n"
      ],
      "execution_count": 0,
      "outputs": [
        {
          "output_type": "execute_result",
          "data": {
            "text/plain": [
              "array([[0., 0., 0., 0., 0., 1., 0., 0., 0., 0.],\n",
              "       [1., 0., 0., 0., 0., 0., 0., 0., 0., 0.],\n",
              "       [0., 0., 0., 0., 1., 0., 0., 0., 0., 0.],\n",
              "       [0., 1., 0., 0., 0., 0., 0., 0., 0., 0.],\n",
              "       [0., 0., 0., 0., 0., 0., 0., 0., 0., 1.],\n",
              "       [0., 0., 1., 0., 0., 0., 0., 0., 0., 0.],\n",
              "       [0., 1., 0., 0., 0., 0., 0., 0., 0., 0.],\n",
              "       [0., 0., 0., 1., 0., 0., 0., 0., 0., 0.],\n",
              "       [0., 1., 0., 0., 0., 0., 0., 0., 0., 0.],\n",
              "       [0., 0., 0., 0., 1., 0., 0., 0., 0., 0.]], dtype=float32)"
            ]
          },
          "metadata": {
            "tags": []
          },
          "execution_count": 9
        }
      ]
    },
    {
      "cell_type": "code",
      "metadata": {
        "id": "tf_phDW-6tU6",
        "colab_type": "code",
        "colab": {
          "base_uri": "https://localhost:8080/",
          "height": 74
        },
        "outputId": "910486fe-d72c-4d98-d09f-fbafc2e2e509"
      },
      "source": [
        "from keras.layers import Activation, BatchNormalization, Dropout\n",
        "model = Sequential()\n",
        "\n",
        "# After 1x1 BN added + mp rm1 \n",
        "model.add(Convolution2D(16, 3, 3, activation='relu', input_shape=(28,28,1)))\n",
        "model.add(BatchNormalization())\n",
        "model.add(Dropout(0.1))\n",
        "model.add(Convolution2D(8, 1, activation='relu'))\n",
        "model.add(BatchNormalization())\n",
        "model.add(Dropout(0.1))\n",
        "model.add(Convolution2D(16, 3, activation='relu'))\n",
        "model.add(BatchNormalization())\n",
        "model.add(Dropout(0.1))\n",
        "model.add(Convolution2D(8, 1, activation='relu'))\n",
        "model.add(BatchNormalization())\n",
        "model.add(Dropout(0.1))\n",
        "model.add(MaxPooling2D(pool_size=(2, 2))) # mp-rm1\n",
        "\n",
        "model.add(Convolution2D(16, 3, activation='relu'))\n",
        "model.add(BatchNormalization())\n",
        "model.add(Dropout(0.1))\n",
        "model.add(Convolution2D(8, 1, activation='relu'))\n",
        "model.add(BatchNormalization())\n",
        "model.add(Dropout(0.1))\n",
        "model.add(Convolution2D(16, 3, activation='relu'))\n",
        "model.add(BatchNormalization())\n",
        "model.add(Dropout(0.1))\n",
        "model.add(Convolution2D(8, 1, activation='relu'))\n",
        "model.add(BatchNormalization())\n",
        "model.add(Dropout(0.1))\n",
        "# model.add(MaxPooling2D(pool_size=(2, 2))) # mp-rm2\n",
        "\n",
        "model.add(Convolution2D(20, 3, activation='relu'))\n",
        "model.add(BatchNormalization())\n",
        "model.add(Dropout(0.1))\n",
        "model.add(Convolution2D(10, 1))\n",
        "model.add(BatchNormalization()) # **\n",
        "model.add(Dropout(0.1))\n",
        "\n",
        "model.add(Convolution2D(10, 6))\n",
        "model.add(BatchNormalization()) # *1\n",
        "# model.add(Dropout(0.1)) # exp dropout\n",
        "model.add(Flatten())\n",
        "model.add(Activation('softmax'))"
      ],
      "execution_count": 19,
      "outputs": [
        {
          "output_type": "stream",
          "text": [
            "/usr/local/lib/python3.6/dist-packages/ipykernel_launcher.py:5: UserWarning: Update your `Conv2D` call to the Keras 2 API: `Conv2D(16, (3, 3), activation=\"relu\", input_shape=(28, 28, 1...)`\n",
            "  \"\"\"\n"
          ],
          "name": "stderr"
        }
      ]
    },
    {
      "cell_type": "code",
      "metadata": {
        "id": "TzdAYg1k9K7Z",
        "colab_type": "code",
        "outputId": "623443b3-99e1-43f2-d077-7cb765b09583",
        "colab": {
          "base_uri": "https://localhost:8080/",
          "height": 1431
        }
      },
      "source": [
        "model.summary()"
      ],
      "execution_count": 24,
      "outputs": [
        {
          "output_type": "stream",
          "text": [
            "_________________________________________________________________\n",
            "Layer (type)                 Output Shape              Param #   \n",
            "=================================================================\n",
            "conv2d_34 (Conv2D)           (None, 26, 26, 16)        160       \n",
            "_________________________________________________________________\n",
            "batch_normalization_34 (Batc (None, 26, 26, 16)        64        \n",
            "_________________________________________________________________\n",
            "dropout_31 (Dropout)         (None, 26, 26, 16)        0         \n",
            "_________________________________________________________________\n",
            "conv2d_35 (Conv2D)           (None, 26, 26, 8)         136       \n",
            "_________________________________________________________________\n",
            "batch_normalization_35 (Batc (None, 26, 26, 8)         32        \n",
            "_________________________________________________________________\n",
            "dropout_32 (Dropout)         (None, 26, 26, 8)         0         \n",
            "_________________________________________________________________\n",
            "conv2d_36 (Conv2D)           (None, 24, 24, 16)        1168      \n",
            "_________________________________________________________________\n",
            "batch_normalization_36 (Batc (None, 24, 24, 16)        64        \n",
            "_________________________________________________________________\n",
            "dropout_33 (Dropout)         (None, 24, 24, 16)        0         \n",
            "_________________________________________________________________\n",
            "conv2d_37 (Conv2D)           (None, 24, 24, 8)         136       \n",
            "_________________________________________________________________\n",
            "batch_normalization_37 (Batc (None, 24, 24, 8)         32        \n",
            "_________________________________________________________________\n",
            "dropout_34 (Dropout)         (None, 24, 24, 8)         0         \n",
            "_________________________________________________________________\n",
            "max_pooling2d_4 (MaxPooling2 (None, 12, 12, 8)         0         \n",
            "_________________________________________________________________\n",
            "conv2d_38 (Conv2D)           (None, 10, 10, 16)        1168      \n",
            "_________________________________________________________________\n",
            "batch_normalization_38 (Batc (None, 10, 10, 16)        64        \n",
            "_________________________________________________________________\n",
            "dropout_35 (Dropout)         (None, 10, 10, 16)        0         \n",
            "_________________________________________________________________\n",
            "conv2d_39 (Conv2D)           (None, 10, 10, 8)         136       \n",
            "_________________________________________________________________\n",
            "batch_normalization_39 (Batc (None, 10, 10, 8)         32        \n",
            "_________________________________________________________________\n",
            "dropout_36 (Dropout)         (None, 10, 10, 8)         0         \n",
            "_________________________________________________________________\n",
            "conv2d_40 (Conv2D)           (None, 8, 8, 16)          1168      \n",
            "_________________________________________________________________\n",
            "batch_normalization_40 (Batc (None, 8, 8, 16)          64        \n",
            "_________________________________________________________________\n",
            "dropout_37 (Dropout)         (None, 8, 8, 16)          0         \n",
            "_________________________________________________________________\n",
            "conv2d_41 (Conv2D)           (None, 8, 8, 8)           136       \n",
            "_________________________________________________________________\n",
            "batch_normalization_41 (Batc (None, 8, 8, 8)           32        \n",
            "_________________________________________________________________\n",
            "dropout_38 (Dropout)         (None, 8, 8, 8)           0         \n",
            "_________________________________________________________________\n",
            "conv2d_42 (Conv2D)           (None, 6, 6, 20)          1460      \n",
            "_________________________________________________________________\n",
            "batch_normalization_42 (Batc (None, 6, 6, 20)          80        \n",
            "_________________________________________________________________\n",
            "dropout_39 (Dropout)         (None, 6, 6, 20)          0         \n",
            "_________________________________________________________________\n",
            "conv2d_43 (Conv2D)           (None, 6, 6, 10)          210       \n",
            "_________________________________________________________________\n",
            "batch_normalization_43 (Batc (None, 6, 6, 10)          40        \n",
            "_________________________________________________________________\n",
            "dropout_40 (Dropout)         (None, 6, 6, 10)          0         \n",
            "_________________________________________________________________\n",
            "conv2d_44 (Conv2D)           (None, 1, 1, 10)          3610      \n",
            "_________________________________________________________________\n",
            "batch_normalization_44 (Batc (None, 1, 1, 10)          40        \n",
            "_________________________________________________________________\n",
            "flatten_4 (Flatten)          (None, 10)                0         \n",
            "_________________________________________________________________\n",
            "activation_4 (Activation)    (None, 10)                0         \n",
            "=================================================================\n",
            "Total params: 10,032\n",
            "Trainable params: 9,760\n",
            "Non-trainable params: 272\n",
            "_________________________________________________________________\n"
          ],
          "name": "stdout"
        }
      ]
    },
    {
      "cell_type": "code",
      "metadata": {
        "id": "lFsFwEy96kQz",
        "colab_type": "code",
        "colab": {}
      },
      "source": [
        "from keras import optimizers\n",
        "sgd = optimizers.SGD(lr=0.3)\n",
        "model.compile(loss='categorical_crossentropy',\n",
        "              optimizer=sgd,\n",
        "             metrics=['accuracy'])"
      ],
      "execution_count": 0,
      "outputs": []
    },
    {
      "cell_type": "markdown",
      "metadata": {
        "id": "jhQeEbRQmIuL",
        "colab_type": "text"
      },
      "source": [
        "### lr 0.1 + momentum + nestrov True"
      ]
    },
    {
      "cell_type": "code",
      "metadata": {
        "id": "fmJL9prc7Jtj",
        "colab_type": "code",
        "colab": {
          "base_uri": "https://localhost:8080/",
          "height": 2015
        },
        "outputId": "9d42f0a6-da7c-4fa1-c95f-2fa7be06959f"
      },
      "source": [
        "model.fit(X_train, Y_train, batch_size=32, nb_epoch=50, verbose=1, validation_data=(X_test, Y_test))"
      ],
      "execution_count": 11,
      "outputs": [
        {
          "output_type": "stream",
          "text": [
            "WARNING:tensorflow:From /usr/local/lib/python3.6/dist-packages/tensorflow/python/ops/math_ops.py:3066: to_int32 (from tensorflow.python.ops.math_ops) is deprecated and will be removed in a future version.\n",
            "Instructions for updating:\n",
            "Use tf.cast instead.\n"
          ],
          "name": "stdout"
        },
        {
          "output_type": "stream",
          "text": [
            "/usr/local/lib/python3.6/dist-packages/ipykernel_launcher.py:1: UserWarning: The `nb_epoch` argument in `fit` has been renamed `epochs`.\n",
            "  \"\"\"Entry point for launching an IPython kernel.\n"
          ],
          "name": "stderr"
        },
        {
          "output_type": "stream",
          "text": [
            "Train on 60000 samples, validate on 10000 samples\n",
            "Epoch 1/50\n",
            "60000/60000 [==============================] - 29s 488us/step - loss: 0.2364 - acc: 0.9281 - val_loss: 0.0663 - val_acc: 0.9798\n",
            "Epoch 2/50\n",
            "60000/60000 [==============================] - 26s 434us/step - loss: 0.1126 - acc: 0.9659 - val_loss: 0.0473 - val_acc: 0.9840\n",
            "Epoch 3/50\n",
            "60000/60000 [==============================] - 26s 438us/step - loss: 0.0931 - acc: 0.9718 - val_loss: 0.0351 - val_acc: 0.9889\n",
            "Epoch 4/50\n",
            "60000/60000 [==============================] - 25s 419us/step - loss: 0.0816 - acc: 0.9756 - val_loss: 0.0414 - val_acc: 0.9876\n",
            "Epoch 5/50\n",
            "60000/60000 [==============================] - 25s 417us/step - loss: 0.0759 - acc: 0.9773 - val_loss: 0.0301 - val_acc: 0.9907\n",
            "Epoch 6/50\n",
            "60000/60000 [==============================] - 26s 437us/step - loss: 0.0719 - acc: 0.9780 - val_loss: 0.0310 - val_acc: 0.9892\n",
            "Epoch 7/50\n",
            "60000/60000 [==============================] - 25s 416us/step - loss: 0.0670 - acc: 0.9800 - val_loss: 0.0331 - val_acc: 0.9899\n",
            "Epoch 8/50\n",
            "60000/60000 [==============================] - 25s 415us/step - loss: 0.0639 - acc: 0.9804 - val_loss: 0.0306 - val_acc: 0.9893\n",
            "Epoch 9/50\n",
            "60000/60000 [==============================] - 26s 432us/step - loss: 0.0626 - acc: 0.9814 - val_loss: 0.0284 - val_acc: 0.9907\n",
            "Epoch 10/50\n",
            "60000/60000 [==============================] - 25s 421us/step - loss: 0.0609 - acc: 0.9816 - val_loss: 0.0257 - val_acc: 0.9917\n",
            "Epoch 11/50\n",
            "60000/60000 [==============================] - 25s 414us/step - loss: 0.0603 - acc: 0.9820 - val_loss: 0.0298 - val_acc: 0.9907\n",
            "Epoch 12/50\n",
            "60000/60000 [==============================] - 27s 450us/step - loss: 0.0584 - acc: 0.9822 - val_loss: 0.0239 - val_acc: 0.9929\n",
            "Epoch 13/50\n",
            "60000/60000 [==============================] - 25s 424us/step - loss: 0.0547 - acc: 0.9837 - val_loss: 0.0244 - val_acc: 0.9923\n",
            "Epoch 14/50\n",
            "60000/60000 [==============================] - 26s 425us/step - loss: 0.0550 - acc: 0.9831 - val_loss: 0.0261 - val_acc: 0.9927\n",
            "Epoch 15/50\n",
            "60000/60000 [==============================] - 25s 414us/step - loss: 0.0533 - acc: 0.9836 - val_loss: 0.0289 - val_acc: 0.9912\n",
            "Epoch 16/50\n",
            "60000/60000 [==============================] - 26s 438us/step - loss: 0.0514 - acc: 0.9844 - val_loss: 0.0208 - val_acc: 0.9934\n",
            "Epoch 17/50\n",
            "60000/60000 [==============================] - 25s 416us/step - loss: 0.0506 - acc: 0.9848 - val_loss: 0.0234 - val_acc: 0.9919\n",
            "Epoch 18/50\n",
            "60000/60000 [==============================] - 25s 414us/step - loss: 0.0498 - acc: 0.9850 - val_loss: 0.0242 - val_acc: 0.9920\n",
            "Epoch 19/50\n",
            "60000/60000 [==============================] - 26s 435us/step - loss: 0.0511 - acc: 0.9846 - val_loss: 0.0187 - val_acc: 0.9942\n",
            "Epoch 20/50\n",
            "60000/60000 [==============================] - 25s 412us/step - loss: 0.0498 - acc: 0.9850 - val_loss: 0.0255 - val_acc: 0.9922\n",
            "Epoch 21/50\n",
            "60000/60000 [==============================] - 25s 413us/step - loss: 0.0483 - acc: 0.9854 - val_loss: 0.0241 - val_acc: 0.9922\n",
            "Epoch 22/50\n",
            "60000/60000 [==============================] - 26s 434us/step - loss: 0.0482 - acc: 0.9856 - val_loss: 0.0258 - val_acc: 0.9924\n",
            "Epoch 23/50\n",
            "60000/60000 [==============================] - 25s 415us/step - loss: 0.0470 - acc: 0.9858 - val_loss: 0.0216 - val_acc: 0.9924\n",
            "Epoch 24/50\n",
            "60000/60000 [==============================] - 26s 441us/step - loss: 0.0463 - acc: 0.9856 - val_loss: 0.0211 - val_acc: 0.9938\n",
            "Epoch 25/50\n",
            "60000/60000 [==============================] - 26s 434us/step - loss: 0.0468 - acc: 0.9857 - val_loss: 0.0199 - val_acc: 0.9942\n",
            "Epoch 26/50\n",
            "60000/60000 [==============================] - 25s 425us/step - loss: 0.0471 - acc: 0.9854 - val_loss: 0.0223 - val_acc: 0.9930\n",
            "Epoch 27/50\n",
            "60000/60000 [==============================] - 25s 413us/step - loss: 0.0452 - acc: 0.9861 - val_loss: 0.0242 - val_acc: 0.9921\n",
            "Epoch 28/50\n",
            "60000/60000 [==============================] - 26s 433us/step - loss: 0.0447 - acc: 0.9859 - val_loss: 0.0238 - val_acc: 0.9923\n",
            "Epoch 29/50\n",
            "60000/60000 [==============================] - 25s 415us/step - loss: 0.0440 - acc: 0.9864 - val_loss: 0.0223 - val_acc: 0.9930\n",
            "Epoch 30/50\n",
            "60000/60000 [==============================] - 25s 413us/step - loss: 0.0429 - acc: 0.9868 - val_loss: 0.0226 - val_acc: 0.9926\n",
            "Epoch 31/50\n",
            "60000/60000 [==============================] - 25s 424us/step - loss: 0.0443 - acc: 0.9863 - val_loss: 0.0187 - val_acc: 0.9938\n",
            "Epoch 32/50\n",
            "60000/60000 [==============================] - 25s 425us/step - loss: 0.0446 - acc: 0.9860 - val_loss: 0.0237 - val_acc: 0.9928\n",
            "Epoch 33/50\n",
            "60000/60000 [==============================] - 25s 412us/step - loss: 0.0407 - acc: 0.9877 - val_loss: 0.0221 - val_acc: 0.9933\n",
            "Epoch 34/50\n",
            "60000/60000 [==============================] - 25s 413us/step - loss: 0.0405 - acc: 0.9873 - val_loss: 0.0215 - val_acc: 0.9933\n",
            "Epoch 35/50\n",
            "60000/60000 [==============================] - 26s 434us/step - loss: 0.0396 - acc: 0.9879 - val_loss: 0.0209 - val_acc: 0.9929\n",
            "Epoch 36/50\n",
            "60000/60000 [==============================] - 26s 440us/step - loss: 0.0415 - acc: 0.9876 - val_loss: 0.0207 - val_acc: 0.9930\n",
            "Epoch 37/50\n",
            "60000/60000 [==============================] - 25s 413us/step - loss: 0.0400 - acc: 0.9878 - val_loss: 0.0221 - val_acc: 0.9937\n",
            "Epoch 38/50\n",
            "60000/60000 [==============================] - 26s 437us/step - loss: 0.0403 - acc: 0.9874 - val_loss: 0.0211 - val_acc: 0.9936\n",
            "Epoch 39/50\n",
            "60000/60000 [==============================] - 25s 413us/step - loss: 0.0416 - acc: 0.9870 - val_loss: 0.0225 - val_acc: 0.9933\n",
            "Epoch 40/50\n",
            "60000/60000 [==============================] - 25s 412us/step - loss: 0.0410 - acc: 0.9871 - val_loss: 0.0197 - val_acc: 0.9940\n",
            "Epoch 41/50\n",
            "60000/60000 [==============================] - 26s 434us/step - loss: 0.0399 - acc: 0.9876 - val_loss: 0.0280 - val_acc: 0.9911\n",
            "Epoch 42/50\n",
            "60000/60000 [==============================] - 25s 415us/step - loss: 0.0386 - acc: 0.9885 - val_loss: 0.0223 - val_acc: 0.9931\n",
            "Epoch 43/50\n",
            "60000/60000 [==============================] - 25s 415us/step - loss: 0.0383 - acc: 0.9882 - val_loss: 0.0215 - val_acc: 0.9931\n",
            "Epoch 44/50\n",
            "60000/60000 [==============================] - 26s 435us/step - loss: 0.0391 - acc: 0.9877 - val_loss: 0.0207 - val_acc: 0.9943\n",
            "Epoch 45/50\n",
            "60000/60000 [==============================] - 25s 414us/step - loss: 0.0394 - acc: 0.9876 - val_loss: 0.0193 - val_acc: 0.9946\n",
            "Epoch 46/50\n",
            "60000/60000 [==============================] - 25s 413us/step - loss: 0.0397 - acc: 0.9877 - val_loss: 0.0230 - val_acc: 0.9923\n",
            "Epoch 47/50\n",
            "60000/60000 [==============================] - 26s 426us/step - loss: 0.0412 - acc: 0.9875 - val_loss: 0.0207 - val_acc: 0.9938\n",
            "Epoch 48/50\n",
            "60000/60000 [==============================] - 26s 432us/step - loss: 0.0381 - acc: 0.9887 - val_loss: 0.0208 - val_acc: 0.9934\n",
            "Epoch 49/50\n",
            "60000/60000 [==============================] - 26s 425us/step - loss: 0.0388 - acc: 0.9878 - val_loss: 0.0203 - val_acc: 0.9937\n",
            "Epoch 50/50\n",
            "60000/60000 [==============================] - 26s 434us/step - loss: 0.0378 - acc: 0.9885 - val_loss: 0.0208 - val_acc: 0.9937\n"
          ],
          "name": "stdout"
        },
        {
          "output_type": "execute_result",
          "data": {
            "text/plain": [
              "<keras.callbacks.History at 0x7fad699034e0>"
            ]
          },
          "metadata": {
            "tags": []
          },
          "execution_count": 11
        }
      ]
    },
    {
      "cell_type": "markdown",
      "metadata": {
        "id": "F00GelGNmgEB",
        "colab_type": "text"
      },
      "source": [
        "### lr 0.1"
      ]
    },
    {
      "cell_type": "code",
      "metadata": {
        "id": "UXxfwfGdBaAj",
        "colab_type": "code",
        "colab": {
          "base_uri": "https://localhost:8080/",
          "height": 1939
        },
        "outputId": "4b6f89cd-87a3-435a-fbc7-d523b997ea01"
      },
      "source": [
        "model.fit(X_train, Y_train, batch_size=32, nb_epoch=50, verbose=1, validation_data=(X_test, Y_test))"
      ],
      "execution_count": 15,
      "outputs": [
        {
          "output_type": "stream",
          "text": [
            "/usr/local/lib/python3.6/dist-packages/ipykernel_launcher.py:1: UserWarning: The `nb_epoch` argument in `fit` has been renamed `epochs`.\n",
            "  \"\"\"Entry point for launching an IPython kernel.\n"
          ],
          "name": "stderr"
        },
        {
          "output_type": "stream",
          "text": [
            "Train on 60000 samples, validate on 10000 samples\n",
            "Epoch 1/50\n",
            "60000/60000 [==============================] - 27s 442us/step - loss: 0.2996 - acc: 0.9198 - val_loss: 0.0786 - val_acc: 0.9776\n",
            "Epoch 2/50\n",
            "60000/60000 [==============================] - 25s 414us/step - loss: 0.1380 - acc: 0.9614 - val_loss: 0.0486 - val_acc: 0.9857\n",
            "Epoch 3/50\n",
            "60000/60000 [==============================] - 26s 429us/step - loss: 0.1093 - acc: 0.9695 - val_loss: 0.0427 - val_acc: 0.9867\n",
            "Epoch 4/50\n",
            "60000/60000 [==============================] - 24s 406us/step - loss: 0.0955 - acc: 0.9731 - val_loss: 0.0408 - val_acc: 0.9875\n",
            "Epoch 5/50\n",
            "60000/60000 [==============================] - 24s 405us/step - loss: 0.0863 - acc: 0.9755 - val_loss: 0.0348 - val_acc: 0.9904\n",
            "Epoch 6/50\n",
            "60000/60000 [==============================] - 25s 409us/step - loss: 0.0788 - acc: 0.9770 - val_loss: 0.0324 - val_acc: 0.9904\n",
            "Epoch 7/50\n",
            "60000/60000 [==============================] - 25s 417us/step - loss: 0.0758 - acc: 0.9788 - val_loss: 0.0293 - val_acc: 0.9916\n",
            "Epoch 8/50\n",
            "60000/60000 [==============================] - 26s 433us/step - loss: 0.0714 - acc: 0.9794 - val_loss: 0.0306 - val_acc: 0.9903\n",
            "Epoch 9/50\n",
            "60000/60000 [==============================] - 24s 402us/step - loss: 0.0667 - acc: 0.9812 - val_loss: 0.0322 - val_acc: 0.9902\n",
            "Epoch 10/50\n",
            "60000/60000 [==============================] - 25s 423us/step - loss: 0.0639 - acc: 0.9813 - val_loss: 0.0279 - val_acc: 0.9921\n",
            "Epoch 11/50\n",
            "60000/60000 [==============================] - 24s 402us/step - loss: 0.0618 - acc: 0.9823 - val_loss: 0.0253 - val_acc: 0.9926\n",
            "Epoch 12/50\n",
            "60000/60000 [==============================] - 24s 402us/step - loss: 0.0590 - acc: 0.9826 - val_loss: 0.0328 - val_acc: 0.9902\n",
            "Epoch 13/50\n",
            "60000/60000 [==============================] - 25s 423us/step - loss: 0.0561 - acc: 0.9838 - val_loss: 0.0258 - val_acc: 0.9923\n",
            "Epoch 14/50\n",
            "60000/60000 [==============================] - 24s 401us/step - loss: 0.0597 - acc: 0.9826 - val_loss: 0.0239 - val_acc: 0.9931\n",
            "Epoch 15/50\n",
            "60000/60000 [==============================] - 24s 400us/step - loss: 0.0553 - acc: 0.9838 - val_loss: 0.0225 - val_acc: 0.9930\n",
            "Epoch 16/50\n",
            "60000/60000 [==============================] - 25s 417us/step - loss: 0.0540 - acc: 0.9844 - val_loss: 0.0251 - val_acc: 0.9921\n",
            "Epoch 17/50\n",
            "60000/60000 [==============================] - 24s 402us/step - loss: 0.0532 - acc: 0.9845 - val_loss: 0.0266 - val_acc: 0.9920\n",
            "Epoch 18/50\n",
            "60000/60000 [==============================] - 24s 398us/step - loss: 0.0513 - acc: 0.9844 - val_loss: 0.0237 - val_acc: 0.9928\n",
            "Epoch 19/50\n",
            "60000/60000 [==============================] - 24s 400us/step - loss: 0.0513 - acc: 0.9850 - val_loss: 0.0228 - val_acc: 0.9929\n",
            "Epoch 20/50\n",
            "60000/60000 [==============================] - 27s 455us/step - loss: 0.0500 - acc: 0.9857 - val_loss: 0.0236 - val_acc: 0.9928\n",
            "Epoch 21/50\n",
            "60000/60000 [==============================] - 24s 405us/step - loss: 0.0505 - acc: 0.9849 - val_loss: 0.0229 - val_acc: 0.9933\n",
            "Epoch 22/50\n",
            "60000/60000 [==============================] - 24s 400us/step - loss: 0.0475 - acc: 0.9862 - val_loss: 0.0232 - val_acc: 0.9931\n",
            "Epoch 23/50\n",
            "60000/60000 [==============================] - 25s 421us/step - loss: 0.0497 - acc: 0.9854 - val_loss: 0.0261 - val_acc: 0.9928\n",
            "Epoch 24/50\n",
            "60000/60000 [==============================] - 24s 402us/step - loss: 0.0485 - acc: 0.9852 - val_loss: 0.0241 - val_acc: 0.9928\n",
            "Epoch 25/50\n",
            "60000/60000 [==============================] - 24s 400us/step - loss: 0.0492 - acc: 0.9856 - val_loss: 0.0220 - val_acc: 0.9937\n",
            "Epoch 26/50\n",
            "60000/60000 [==============================] - 25s 421us/step - loss: 0.0456 - acc: 0.9866 - val_loss: 0.0227 - val_acc: 0.9927\n",
            "Epoch 27/50\n",
            "60000/60000 [==============================] - 24s 399us/step - loss: 0.0450 - acc: 0.9871 - val_loss: 0.0222 - val_acc: 0.9928\n",
            "Epoch 28/50\n",
            "60000/60000 [==============================] - 24s 400us/step - loss: 0.0466 - acc: 0.9862 - val_loss: 0.0225 - val_acc: 0.9932\n",
            "Epoch 29/50\n",
            "60000/60000 [==============================] - 25s 412us/step - loss: 0.0453 - acc: 0.9868 - val_loss: 0.0236 - val_acc: 0.9927\n",
            "Epoch 30/50\n",
            "60000/60000 [==============================] - 25s 410us/step - loss: 0.0442 - acc: 0.9870 - val_loss: 0.0258 - val_acc: 0.9916\n",
            "Epoch 31/50\n",
            "60000/60000 [==============================] - 24s 400us/step - loss: 0.0446 - acc: 0.9869 - val_loss: 0.0241 - val_acc: 0.9921\n",
            "Epoch 32/50\n",
            "60000/60000 [==============================] - 24s 406us/step - loss: 0.0447 - acc: 0.9869 - val_loss: 0.0230 - val_acc: 0.9926\n",
            "Epoch 33/50\n",
            "60000/60000 [==============================] - 27s 450us/step - loss: 0.0445 - acc: 0.9866 - val_loss: 0.0230 - val_acc: 0.9925\n",
            "Epoch 34/50\n",
            "60000/60000 [==============================] - 24s 401us/step - loss: 0.0415 - acc: 0.9879 - val_loss: 0.0224 - val_acc: 0.9922\n",
            "Epoch 35/50\n",
            "60000/60000 [==============================] - 24s 402us/step - loss: 0.0402 - acc: 0.9881 - val_loss: 0.0233 - val_acc: 0.9930\n",
            "Epoch 36/50\n",
            "60000/60000 [==============================] - 25s 422us/step - loss: 0.0429 - acc: 0.9866 - val_loss: 0.0211 - val_acc: 0.9936\n",
            "Epoch 37/50\n",
            "60000/60000 [==============================] - 24s 399us/step - loss: 0.0408 - acc: 0.9878 - val_loss: 0.0202 - val_acc: 0.9938\n",
            "Epoch 38/50\n",
            "60000/60000 [==============================] - 24s 399us/step - loss: 0.0413 - acc: 0.9876 - val_loss: 0.0218 - val_acc: 0.9932\n",
            "Epoch 39/50\n",
            "60000/60000 [==============================] - 25s 421us/step - loss: 0.0424 - acc: 0.9875 - val_loss: 0.0241 - val_acc: 0.9919\n",
            "Epoch 40/50\n",
            "60000/60000 [==============================] - 24s 399us/step - loss: 0.0428 - acc: 0.9875 - val_loss: 0.0226 - val_acc: 0.9925\n",
            "Epoch 41/50\n",
            "60000/60000 [==============================] - 24s 401us/step - loss: 0.0409 - acc: 0.9879 - val_loss: 0.0225 - val_acc: 0.9928\n",
            "Epoch 42/50\n",
            "60000/60000 [==============================] - 24s 406us/step - loss: 0.0412 - acc: 0.9877 - val_loss: 0.0237 - val_acc: 0.9914\n",
            "Epoch 43/50\n",
            "60000/60000 [==============================] - 25s 414us/step - loss: 0.0395 - acc: 0.9883 - val_loss: 0.0212 - val_acc: 0.9932\n",
            "Epoch 44/50\n",
            "60000/60000 [==============================] - 24s 398us/step - loss: 0.0399 - acc: 0.9878 - val_loss: 0.0197 - val_acc: 0.9944\n",
            "Epoch 45/50\n",
            "60000/60000 [==============================] - 25s 412us/step - loss: 0.0398 - acc: 0.9883 - val_loss: 0.0190 - val_acc: 0.9937\n",
            "Epoch 46/50\n",
            "60000/60000 [==============================] - 26s 433us/step - loss: 0.0384 - acc: 0.9889 - val_loss: 0.0185 - val_acc: 0.9937\n",
            "Epoch 47/50\n",
            "60000/60000 [==============================] - 24s 399us/step - loss: 0.0391 - acc: 0.9882 - val_loss: 0.0193 - val_acc: 0.9937\n",
            "Epoch 48/50\n",
            "60000/60000 [==============================] - 24s 400us/step - loss: 0.0382 - acc: 0.9889 - val_loss: 0.0197 - val_acc: 0.9939\n",
            "Epoch 49/50\n",
            "60000/60000 [==============================] - 25s 421us/step - loss: 0.0378 - acc: 0.9889 - val_loss: 0.0181 - val_acc: 0.9936\n",
            "Epoch 50/50\n",
            "60000/60000 [==============================] - 24s 400us/step - loss: 0.0389 - acc: 0.9886 - val_loss: 0.0206 - val_acc: 0.9932\n"
          ],
          "name": "stdout"
        },
        {
          "output_type": "execute_result",
          "data": {
            "text/plain": [
              "<keras.callbacks.History at 0x7fad3b5254e0>"
            ]
          },
          "metadata": {
            "tags": []
          },
          "execution_count": 15
        }
      ]
    },
    {
      "cell_type": "markdown",
      "metadata": {
        "id": "hF3HvWt1mwK8",
        "colab_type": "text"
      },
      "source": [
        "### lr 0.2"
      ]
    },
    {
      "cell_type": "code",
      "metadata": {
        "id": "q9b7nSEfQ5qr",
        "colab_type": "code",
        "colab": {
          "base_uri": "https://localhost:8080/",
          "height": 1939
        },
        "outputId": "718bf195-c634-440b-ba2a-640b98a77841"
      },
      "source": [
        "model.fit(X_train, Y_train, batch_size=32, nb_epoch=50, verbose=1, validation_data=(X_test, Y_test))"
      ],
      "execution_count": 18,
      "outputs": [
        {
          "output_type": "stream",
          "text": [
            "/usr/local/lib/python3.6/dist-packages/ipykernel_launcher.py:1: UserWarning: The `nb_epoch` argument in `fit` has been renamed `epochs`.\n",
            "  \"\"\"Entry point for launching an IPython kernel.\n"
          ],
          "name": "stderr"
        },
        {
          "output_type": "stream",
          "text": [
            "Train on 60000 samples, validate on 10000 samples\n",
            "Epoch 1/50\n",
            "60000/60000 [==============================] - 27s 446us/step - loss: 0.2493 - acc: 0.9310 - val_loss: 0.0602 - val_acc: 0.9817\n",
            "Epoch 2/50\n",
            "60000/60000 [==============================] - 25s 420us/step - loss: 0.1258 - acc: 0.9636 - val_loss: 0.0498 - val_acc: 0.9853\n",
            "Epoch 3/50\n",
            "60000/60000 [==============================] - 24s 404us/step - loss: 0.1036 - acc: 0.9694 - val_loss: 0.0389 - val_acc: 0.9875\n",
            "Epoch 4/50\n",
            "60000/60000 [==============================] - 24s 406us/step - loss: 0.0901 - acc: 0.9733 - val_loss: 0.0357 - val_acc: 0.9892\n",
            "Epoch 5/50\n",
            "60000/60000 [==============================] - 26s 431us/step - loss: 0.0828 - acc: 0.9757 - val_loss: 0.0315 - val_acc: 0.9892\n",
            "Epoch 6/50\n",
            "60000/60000 [==============================] - 24s 407us/step - loss: 0.0754 - acc: 0.9779 - val_loss: 0.0380 - val_acc: 0.9870\n",
            "Epoch 7/50\n",
            "60000/60000 [==============================] - 25s 417us/step - loss: 0.0720 - acc: 0.9786 - val_loss: 0.0289 - val_acc: 0.9905\n",
            "Epoch 8/50\n",
            "60000/60000 [==============================] - 26s 426us/step - loss: 0.0689 - acc: 0.9799 - val_loss: 0.0297 - val_acc: 0.9904\n",
            "Epoch 9/50\n",
            "60000/60000 [==============================] - 26s 432us/step - loss: 0.0673 - acc: 0.9797 - val_loss: 0.0278 - val_acc: 0.9910\n",
            "Epoch 10/50\n",
            "60000/60000 [==============================] - 24s 405us/step - loss: 0.0626 - acc: 0.9812 - val_loss: 0.0249 - val_acc: 0.9912\n",
            "Epoch 11/50\n",
            "60000/60000 [==============================] - 26s 425us/step - loss: 0.0609 - acc: 0.9817 - val_loss: 0.0232 - val_acc: 0.9922\n",
            "Epoch 12/50\n",
            "60000/60000 [==============================] - 24s 403us/step - loss: 0.0585 - acc: 0.9825 - val_loss: 0.0257 - val_acc: 0.9914\n",
            "Epoch 13/50\n",
            "60000/60000 [==============================] - 24s 404us/step - loss: 0.0578 - acc: 0.9824 - val_loss: 0.0256 - val_acc: 0.9915\n",
            "Epoch 14/50\n",
            "60000/60000 [==============================] - 25s 417us/step - loss: 0.0568 - acc: 0.9829 - val_loss: 0.0230 - val_acc: 0.9926\n",
            "Epoch 15/50\n",
            "60000/60000 [==============================] - 25s 414us/step - loss: 0.0545 - acc: 0.9835 - val_loss: 0.0212 - val_acc: 0.9929\n",
            "Epoch 16/50\n",
            "60000/60000 [==============================] - 24s 403us/step - loss: 0.0539 - acc: 0.9841 - val_loss: 0.0223 - val_acc: 0.9928\n",
            "Epoch 17/50\n",
            "60000/60000 [==============================] - 24s 404us/step - loss: 0.0544 - acc: 0.9836 - val_loss: 0.0227 - val_acc: 0.9925\n",
            "Epoch 18/50\n",
            "60000/60000 [==============================] - 26s 426us/step - loss: 0.0509 - acc: 0.9848 - val_loss: 0.0204 - val_acc: 0.9937\n",
            "Epoch 19/50\n",
            "60000/60000 [==============================] - 25s 417us/step - loss: 0.0516 - acc: 0.9843 - val_loss: 0.0227 - val_acc: 0.9927\n",
            "Epoch 20/50\n",
            "60000/60000 [==============================] - 24s 404us/step - loss: 0.0510 - acc: 0.9848 - val_loss: 0.0210 - val_acc: 0.9933\n",
            "Epoch 21/50\n",
            "60000/60000 [==============================] - 27s 453us/step - loss: 0.0484 - acc: 0.9855 - val_loss: 0.0242 - val_acc: 0.9928\n",
            "Epoch 22/50\n",
            "60000/60000 [==============================] - 24s 404us/step - loss: 0.0487 - acc: 0.9855 - val_loss: 0.0225 - val_acc: 0.9931\n",
            "Epoch 23/50\n",
            "60000/60000 [==============================] - 24s 404us/step - loss: 0.0479 - acc: 0.9856 - val_loss: 0.0207 - val_acc: 0.9930\n",
            "Epoch 24/50\n",
            "60000/60000 [==============================] - 26s 426us/step - loss: 0.0497 - acc: 0.9848 - val_loss: 0.0201 - val_acc: 0.9935\n",
            "Epoch 25/50\n",
            "60000/60000 [==============================] - 24s 403us/step - loss: 0.0482 - acc: 0.9856 - val_loss: 0.0200 - val_acc: 0.9938\n",
            "Epoch 26/50\n",
            "60000/60000 [==============================] - 24s 404us/step - loss: 0.0479 - acc: 0.9857 - val_loss: 0.0193 - val_acc: 0.9934\n",
            "Epoch 27/50\n",
            "60000/60000 [==============================] - 25s 418us/step - loss: 0.0460 - acc: 0.9862 - val_loss: 0.0196 - val_acc: 0.9935\n",
            "Epoch 28/50\n",
            "60000/60000 [==============================] - 25s 410us/step - loss: 0.0444 - acc: 0.9868 - val_loss: 0.0194 - val_acc: 0.9940\n",
            "Epoch 29/50\n",
            "60000/60000 [==============================] - 24s 401us/step - loss: 0.0444 - acc: 0.9859 - val_loss: 0.0199 - val_acc: 0.9932\n",
            "Epoch 30/50\n",
            "60000/60000 [==============================] - 24s 402us/step - loss: 0.0457 - acc: 0.9862 - val_loss: 0.0202 - val_acc: 0.9933\n",
            "Epoch 31/50\n",
            "60000/60000 [==============================] - 26s 426us/step - loss: 0.0434 - acc: 0.9870 - val_loss: 0.0209 - val_acc: 0.9934\n",
            "Epoch 32/50\n",
            "60000/60000 [==============================] - 25s 416us/step - loss: 0.0438 - acc: 0.9862 - val_loss: 0.0189 - val_acc: 0.9938\n",
            "Epoch 33/50\n",
            "60000/60000 [==============================] - 24s 403us/step - loss: 0.0434 - acc: 0.9871 - val_loss: 0.0185 - val_acc: 0.9935\n",
            "Epoch 34/50\n",
            "60000/60000 [==============================] - 26s 433us/step - loss: 0.0419 - acc: 0.9873 - val_loss: 0.0209 - val_acc: 0.9935\n",
            "Epoch 35/50\n",
            "60000/60000 [==============================] - 24s 401us/step - loss: 0.0415 - acc: 0.9875 - val_loss: 0.0196 - val_acc: 0.9939\n",
            "Epoch 36/50\n",
            "60000/60000 [==============================] - 24s 403us/step - loss: 0.0415 - acc: 0.9872 - val_loss: 0.0193 - val_acc: 0.9933\n",
            "Epoch 37/50\n",
            "60000/60000 [==============================] - 26s 426us/step - loss: 0.0418 - acc: 0.9876 - val_loss: 0.0208 - val_acc: 0.9939\n",
            "Epoch 38/50\n",
            "60000/60000 [==============================] - 24s 404us/step - loss: 0.0411 - acc: 0.9875 - val_loss: 0.0203 - val_acc: 0.9938\n",
            "Epoch 39/50\n",
            "60000/60000 [==============================] - 24s 404us/step - loss: 0.0406 - acc: 0.9880 - val_loss: 0.0208 - val_acc: 0.9929\n",
            "Epoch 40/50\n",
            "60000/60000 [==============================] - 25s 414us/step - loss: 0.0397 - acc: 0.9879 - val_loss: 0.0199 - val_acc: 0.9943\n",
            "Epoch 41/50\n",
            "60000/60000 [==============================] - 25s 415us/step - loss: 0.0397 - acc: 0.9880 - val_loss: 0.0190 - val_acc: 0.9940\n",
            "Epoch 42/50\n",
            "60000/60000 [==============================] - 24s 401us/step - loss: 0.0417 - acc: 0.9874 - val_loss: 0.0196 - val_acc: 0.9940\n",
            "Epoch 43/50\n",
            "60000/60000 [==============================] - 24s 402us/step - loss: 0.0403 - acc: 0.9878 - val_loss: 0.0187 - val_acc: 0.9947\n",
            "Epoch 44/50\n",
            "60000/60000 [==============================] - 26s 438us/step - loss: 0.0409 - acc: 0.9879 - val_loss: 0.0185 - val_acc: 0.9945\n",
            "Epoch 45/50\n",
            "60000/60000 [==============================] - 24s 402us/step - loss: 0.0411 - acc: 0.9873 - val_loss: 0.0190 - val_acc: 0.9939\n",
            "Epoch 46/50\n",
            "60000/60000 [==============================] - 25s 418us/step - loss: 0.0398 - acc: 0.9884 - val_loss: 0.0183 - val_acc: 0.9943\n",
            "Epoch 47/50\n",
            "60000/60000 [==============================] - 26s 438us/step - loss: 0.0395 - acc: 0.9877 - val_loss: 0.0201 - val_acc: 0.9934\n",
            "Epoch 48/50\n",
            "60000/60000 [==============================] - 24s 403us/step - loss: 0.0393 - acc: 0.9884 - val_loss: 0.0202 - val_acc: 0.9945\n",
            "Epoch 49/50\n",
            "60000/60000 [==============================] - 24s 404us/step - loss: 0.0384 - acc: 0.9882 - val_loss: 0.0188 - val_acc: 0.9942\n",
            "Epoch 50/50\n",
            "60000/60000 [==============================] - 25s 424us/step - loss: 0.0392 - acc: 0.9880 - val_loss: 0.0198 - val_acc: 0.9937\n"
          ],
          "name": "stdout"
        },
        {
          "output_type": "execute_result",
          "data": {
            "text/plain": [
              "<keras.callbacks.History at 0x7fad23a9e400>"
            ]
          },
          "metadata": {
            "tags": []
          },
          "execution_count": 18
        }
      ]
    },
    {
      "cell_type": "markdown",
      "metadata": {
        "id": "cOndO_DvnJrI",
        "colab_type": "text"
      },
      "source": [
        "### lr 0.3"
      ]
    },
    {
      "cell_type": "code",
      "metadata": {
        "id": "Wl78Y-hYYMRf",
        "colab_type": "code",
        "colab": {
          "base_uri": "https://localhost:8080/",
          "height": 1927
        },
        "outputId": "5098b8df-5ec5-4a52-8330-a9ff9c508f23"
      },
      "source": [
        "model.fit(X_train, Y_train, batch_size=32, nb_epoch=50, verbose=1, validation_data=(X_test, Y_test))"
      ],
      "execution_count": 21,
      "outputs": [
        {
          "output_type": "stream",
          "text": [
            "/usr/local/lib/python3.6/dist-packages/ipykernel_launcher.py:1: UserWarning: The `nb_epoch` argument in `fit` has been renamed `epochs`.\n",
            "  \"\"\"Entry point for launching an IPython kernel.\n"
          ],
          "name": "stderr"
        },
        {
          "output_type": "stream",
          "text": [
            "Train on 60000 samples, validate on 10000 samples\n",
            "Epoch 1/50\n",
            "60000/60000 [==============================] - 27s 451us/step - loss: 0.2306 - acc: 0.9330 - val_loss: 0.0581 - val_acc: 0.9829\n",
            "Epoch 2/50\n",
            "60000/60000 [==============================] - 24s 406us/step - loss: 0.1149 - acc: 0.9657 - val_loss: 0.0517 - val_acc: 0.9837\n",
            "Epoch 3/50\n",
            "60000/60000 [==============================] - 26s 428us/step - loss: 0.0926 - acc: 0.9725 - val_loss: 0.0481 - val_acc: 0.9862\n",
            "Epoch 4/50\n",
            "60000/60000 [==============================] - 25s 419us/step - loss: 0.0823 - acc: 0.9752 - val_loss: 0.0317 - val_acc: 0.9902\n",
            "Epoch 5/50\n",
            "60000/60000 [==============================] - 24s 407us/step - loss: 0.0745 - acc: 0.9777 - val_loss: 0.0367 - val_acc: 0.9884\n",
            "Epoch 6/50\n",
            "60000/60000 [==============================] - 25s 424us/step - loss: 0.0712 - acc: 0.9787 - val_loss: 0.0275 - val_acc: 0.9906\n",
            "Epoch 7/50\n",
            "60000/60000 [==============================] - 26s 436us/step - loss: 0.0663 - acc: 0.9801 - val_loss: 0.0240 - val_acc: 0.9923\n",
            "Epoch 8/50\n",
            "60000/60000 [==============================] - 24s 405us/step - loss: 0.0620 - acc: 0.9816 - val_loss: 0.0252 - val_acc: 0.9926\n",
            "Epoch 9/50\n",
            "60000/60000 [==============================] - 25s 413us/step - loss: 0.0632 - acc: 0.9806 - val_loss: 0.0323 - val_acc: 0.9896\n",
            "Epoch 10/50\n",
            "60000/60000 [==============================] - 25s 421us/step - loss: 0.0597 - acc: 0.9821 - val_loss: 0.0252 - val_acc: 0.9916\n",
            "Epoch 11/50\n",
            "60000/60000 [==============================] - 24s 407us/step - loss: 0.0593 - acc: 0.9829 - val_loss: 0.0262 - val_acc: 0.9913\n",
            "Epoch 12/50\n",
            "60000/60000 [==============================] - 24s 406us/step - loss: 0.0561 - acc: 0.9833 - val_loss: 0.0237 - val_acc: 0.9923\n",
            "Epoch 13/50\n",
            "60000/60000 [==============================] - 26s 428us/step - loss: 0.0563 - acc: 0.9827 - val_loss: 0.0244 - val_acc: 0.9924\n",
            "Epoch 14/50\n",
            "60000/60000 [==============================] - 24s 407us/step - loss: 0.0536 - acc: 0.9837 - val_loss: 0.0286 - val_acc: 0.9905\n",
            "Epoch 15/50\n",
            "60000/60000 [==============================] - 24s 406us/step - loss: 0.0523 - acc: 0.9842 - val_loss: 0.0212 - val_acc: 0.9934\n",
            "Epoch 16/50\n",
            "60000/60000 [==============================] - 26s 440us/step - loss: 0.0518 - acc: 0.9843 - val_loss: 0.0288 - val_acc: 0.9909\n",
            "Epoch 17/50\n",
            "60000/60000 [==============================] - 24s 407us/step - loss: 0.0480 - acc: 0.9854 - val_loss: 0.0232 - val_acc: 0.9934\n",
            "Epoch 18/50\n",
            "60000/60000 [==============================] - 24s 407us/step - loss: 0.0508 - acc: 0.9854 - val_loss: 0.0240 - val_acc: 0.9909\n",
            "Epoch 19/50\n",
            "60000/60000 [==============================] - 26s 428us/step - loss: 0.0479 - acc: 0.9857 - val_loss: 0.0236 - val_acc: 0.9923\n",
            "Epoch 20/50\n",
            "60000/60000 [==============================] - 26s 435us/step - loss: 0.0478 - acc: 0.9857 - val_loss: 0.0220 - val_acc: 0.9931\n",
            "Epoch 21/50\n",
            "60000/60000 [==============================] - 25s 409us/step - loss: 0.0480 - acc: 0.9857 - val_loss: 0.0212 - val_acc: 0.9933\n",
            "Epoch 22/50\n",
            "60000/60000 [==============================] - 25s 423us/step - loss: 0.0462 - acc: 0.9858 - val_loss: 0.0213 - val_acc: 0.9934\n",
            "Epoch 23/50\n",
            "60000/60000 [==============================] - 25s 413us/step - loss: 0.0478 - acc: 0.9850 - val_loss: 0.0227 - val_acc: 0.9927\n",
            "Epoch 24/50\n",
            "60000/60000 [==============================] - 24s 407us/step - loss: 0.0442 - acc: 0.9861 - val_loss: 0.0221 - val_acc: 0.9934\n",
            "Epoch 25/50\n",
            "60000/60000 [==============================] - 24s 408us/step - loss: 0.0461 - acc: 0.9857 - val_loss: 0.0212 - val_acc: 0.9934\n",
            "Epoch 26/50\n",
            "60000/60000 [==============================] - 26s 427us/step - loss: 0.0450 - acc: 0.9860 - val_loss: 0.0196 - val_acc: 0.9937\n",
            "Epoch 27/50\n",
            "60000/60000 [==============================] - 24s 406us/step - loss: 0.0452 - acc: 0.9864 - val_loss: 0.0213 - val_acc: 0.9932\n",
            "Epoch 28/50\n",
            "60000/60000 [==============================] - 25s 411us/step - loss: 0.0449 - acc: 0.9865 - val_loss: 0.0208 - val_acc: 0.9931\n",
            "Epoch 29/50\n",
            "60000/60000 [==============================] - 26s 437us/step - loss: 0.0441 - acc: 0.9869 - val_loss: 0.0214 - val_acc: 0.9929\n",
            "Epoch 30/50\n",
            "60000/60000 [==============================] - 24s 408us/step - loss: 0.0431 - acc: 0.9866 - val_loss: 0.0181 - val_acc: 0.9942\n",
            "Epoch 31/50\n",
            "60000/60000 [==============================] - 25s 409us/step - loss: 0.0435 - acc: 0.9866 - val_loss: 0.0214 - val_acc: 0.9936\n",
            "Epoch 32/50\n",
            "60000/60000 [==============================] - 26s 439us/step - loss: 0.0430 - acc: 0.9868 - val_loss: 0.0222 - val_acc: 0.9934\n",
            "Epoch 33/50\n",
            "60000/60000 [==============================] - 24s 408us/step - loss: 0.0444 - acc: 0.9864 - val_loss: 0.0205 - val_acc: 0.9929\n",
            "Epoch 34/50\n",
            "60000/60000 [==============================] - 24s 407us/step - loss: 0.0409 - acc: 0.9874 - val_loss: 0.0184 - val_acc: 0.9940\n",
            "Epoch 35/50\n",
            "60000/60000 [==============================] - 26s 429us/step - loss: 0.0419 - acc: 0.9872 - val_loss: 0.0191 - val_acc: 0.9941\n",
            "Epoch 36/50\n",
            "60000/60000 [==============================] - 25s 409us/step - loss: 0.0408 - acc: 0.9874 - val_loss: 0.0187 - val_acc: 0.9940\n",
            "Epoch 37/50\n",
            "60000/60000 [==============================] - 24s 407us/step - loss: 0.0420 - acc: 0.9876 - val_loss: 0.0204 - val_acc: 0.9936\n",
            "Epoch 38/50\n",
            "60000/60000 [==============================] - 25s 415us/step - loss: 0.0404 - acc: 0.9877 - val_loss: 0.0234 - val_acc: 0.9927\n",
            "Epoch 39/50\n",
            "60000/60000 [==============================] - 25s 423us/step - loss: 0.0379 - acc: 0.9881 - val_loss: 0.0211 - val_acc: 0.9934\n",
            "Epoch 40/50\n",
            "60000/60000 [==============================] - 24s 407us/step - loss: 0.0389 - acc: 0.9883 - val_loss: 0.0223 - val_acc: 0.9932\n",
            "Epoch 41/50\n",
            "60000/60000 [==============================] - 25s 420us/step - loss: 0.0382 - acc: 0.9881 - val_loss: 0.0216 - val_acc: 0.9932\n",
            "Epoch 42/50\n",
            "60000/60000 [==============================] - 26s 429us/step - loss: 0.0382 - acc: 0.9879 - val_loss: 0.0191 - val_acc: 0.9943\n",
            "Epoch 43/50\n",
            "60000/60000 [==============================] - 24s 407us/step - loss: 0.0385 - acc: 0.9886 - val_loss: 0.0214 - val_acc: 0.9932\n",
            "Epoch 44/50\n",
            "60000/60000 [==============================] - 25s 414us/step - loss: 0.0380 - acc: 0.9881 - val_loss: 0.0199 - val_acc: 0.9938\n",
            "Epoch 45/50\n",
            "60000/60000 [==============================] - 27s 451us/step - loss: 0.0392 - acc: 0.9877 - val_loss: 0.0196 - val_acc: 0.9937\n",
            "Epoch 46/50\n",
            "60000/60000 [==============================] - 24s 408us/step - loss: 0.0375 - acc: 0.9888 - val_loss: 0.0215 - val_acc: 0.9930\n",
            "Epoch 47/50\n",
            "60000/60000 [==============================] - 24s 407us/step - loss: 0.0391 - acc: 0.9884 - val_loss: 0.0168 - val_acc: 0.9950\n",
            "Epoch 48/50\n",
            "60000/60000 [==============================] - 26s 429us/step - loss: 0.0364 - acc: 0.9889 - val_loss: 0.0215 - val_acc: 0.9932\n",
            "Epoch 49/50\n",
            "60000/60000 [==============================] - 25s 409us/step - loss: 0.0379 - acc: 0.9886 - val_loss: 0.0211 - val_acc: 0.9941\n",
            "Epoch 50/50\n",
            "60000/60000 [==============================] - 25s 410us/step - loss: 0.0385 - acc: 0.9883 - val_loss: 0.0182 - val_acc: 0.9942\n"
          ],
          "name": "stdout"
        },
        {
          "output_type": "execute_result",
          "data": {
            "text/plain": [
              "<keras.callbacks.History at 0x7fad220691d0>"
            ]
          },
          "metadata": {
            "tags": []
          },
          "execution_count": 21
        }
      ]
    },
    {
      "cell_type": "code",
      "metadata": {
        "id": "AtsH-lLk-eLb",
        "colab_type": "code",
        "colab": {}
      },
      "source": [
        "score = model.evaluate(X_test, Y_test, verbose=0)"
      ],
      "execution_count": 0,
      "outputs": []
    },
    {
      "cell_type": "code",
      "metadata": {
        "id": "mkX8JMv79q9r",
        "colab_type": "code",
        "outputId": "c485076d-0795-425c-c8ab-414d88068230",
        "colab": {
          "base_uri": "https://localhost:8080/",
          "height": 35
        }
      },
      "source": [
        "print(score)"
      ],
      "execution_count": 23,
      "outputs": [
        {
          "output_type": "stream",
          "text": [
            "[0.018212530983402395, 0.9942]\n"
          ],
          "name": "stdout"
        }
      ]
    },
    {
      "cell_type": "code",
      "metadata": {
        "id": "OCWoJkwE9suh",
        "colab_type": "code",
        "colab": {}
      },
      "source": [
        "y_pred = model.predict(X_test)"
      ],
      "execution_count": 0,
      "outputs": []
    },
    {
      "cell_type": "code",
      "metadata": {
        "id": "Ym7iCFBm9uBs",
        "colab_type": "code",
        "outputId": "63105130-a938-481a-982d-795f6a299ddc",
        "colab": {
          "base_uri": "https://localhost:8080/",
          "height": 340
        }
      },
      "source": [
        "print(y_pred[:9])\n",
        "print(y_test[:9])"
      ],
      "execution_count": 0,
      "outputs": [
        {
          "output_type": "stream",
          "text": [
            "[[2.0593689e-17 6.3046323e-17 8.9005447e-13 1.8406407e-10 8.0754371e-19\n",
            "  8.0671096e-15 1.1510667e-24 1.0000000e+00 2.1262439e-10 2.7205176e-11]\n",
            " [2.5421015e-15 5.1460576e-12 1.0000000e+00 1.7606363e-12 6.3726551e-23\n",
            "  3.3248325e-16 4.4326671e-09 1.8222993e-27 1.8873889e-12 3.6800765e-21]\n",
            " [3.7568029e-08 9.9987435e-01 6.9531761e-06 6.3134886e-10 9.9738187e-05\n",
            "  5.2485571e-08 1.0483473e-07 1.0138228e-06 1.7757657e-05 1.9014761e-10]\n",
            " [1.0000000e+00 2.2739057e-15 6.6718070e-10 5.6225624e-15 4.5025926e-16\n",
            "  2.7407175e-13 1.3530634e-09 3.9892802e-13 5.8574483e-14 4.0855683e-12]\n",
            " [1.0115652e-12 6.9521903e-14 1.3467061e-13 1.9833676e-13 9.9999976e-01\n",
            "  4.2785103e-16 1.6022580e-12 5.5436229e-11 6.7551126e-10 2.2112354e-07]\n",
            " [2.3979660e-10 9.9982810e-01 3.5553690e-08 3.5910691e-11 1.0332796e-05\n",
            "  1.4169725e-10 2.0029900e-11 1.5314015e-04 8.3647601e-06 3.8377021e-10]\n",
            " [1.4182455e-19 9.8074493e-11 5.7774190e-09 2.3251079e-13 9.9966061e-01\n",
            "  6.0978769e-09 2.3871165e-16 2.2344653e-09 3.3876873e-04 5.9758122e-07]\n",
            " [7.2593749e-24 1.0864400e-09 7.5089712e-11 6.4676060e-12 5.3071453e-06\n",
            "  3.0447264e-08 5.8216405e-18 1.4018439e-14 9.3028554e-09 9.9999464e-01]\n",
            " [5.8572938e-11 5.5615773e-23 4.0553398e-19 1.0435163e-14 7.1205892e-15\n",
            "  3.1688964e-01 6.8311024e-01 4.5070697e-21 8.7986400e-08 1.6301742e-10]]\n",
            "[7 2 1 0 4 1 4 9 5]\n"
          ],
          "name": "stdout"
        }
      ]
    },
    {
      "cell_type": "code",
      "metadata": {
        "id": "CT--y98_dr2T",
        "colab_type": "code",
        "colab": {}
      },
      "source": [
        "layer_dict = dict([(layer.name, layer) for layer in model.layers])"
      ],
      "execution_count": 0,
      "outputs": []
    },
    {
      "cell_type": "code",
      "metadata": {
        "id": "Z7zrdWP8_E75",
        "colab_type": "code",
        "outputId": "16bea5b8-a7b6-4b45-c692-393c16796a99",
        "colab": {
          "base_uri": "https://localhost:8080/",
          "height": 741
        }
      },
      "source": [
        "import numpy as np\n",
        "from matplotlib import pyplot as plt\n",
        "from keras import backend as K\n",
        "%matplotlib inline\n",
        "# util function to convert a tensor into a valid image\n",
        "def deprocess_image(x):\n",
        "    # normalize tensor: center on 0., ensure std is 0.1\n",
        "    x -= x.mean()\n",
        "    x /= (x.std() + 1e-5)\n",
        "    x *= 0.1\n",
        "\n",
        "    # clip to [0, 1]\n",
        "    x += 0.5\n",
        "    x = np.clip(x, 0, 1)\n",
        "\n",
        "    # convert to RGB array\n",
        "    x *= 255\n",
        "    #x = x.transpose((1, 2, 0))\n",
        "    x = np.clip(x, 0, 255).astype('uint8')\n",
        "    return x\n",
        "\n",
        "def vis_img_in_filter(img = np.array(X_train[2]).reshape((1, 28, 28, 1)).astype(np.float64), \n",
        "                      layer_name = 'conv2d_42'):\n",
        "    layer_output = layer_dict[layer_name].output\n",
        "    img_ascs = list()\n",
        "    for filter_index in range(layer_output.shape[3]):\n",
        "        # build a loss function that maximizes the activation\n",
        "        # of the nth filter of the layer considered\n",
        "        loss = K.mean(layer_output[:, :, :, filter_index])\n",
        "\n",
        "        # compute the gradient of the input picture wrt this loss\n",
        "        grads = K.gradients(loss, model.input)[0]\n",
        "\n",
        "        # normalization trick: we normalize the gradient\n",
        "        grads /= (K.sqrt(K.mean(K.square(grads))) + 1e-5)\n",
        "\n",
        "        # this function returns the loss and grads given the input picture\n",
        "        iterate = K.function([model.input], [loss, grads])\n",
        "\n",
        "        # step size for gradient ascent\n",
        "        step = 5.\n",
        "\n",
        "        img_asc = np.array(img)\n",
        "        # run gradient ascent for 20 steps\n",
        "        for i in range(20):\n",
        "            loss_value, grads_value = iterate([img_asc])\n",
        "            img_asc += grads_value * step\n",
        "\n",
        "        img_asc = img_asc[0]\n",
        "        img_ascs.append(deprocess_image(img_asc).reshape((28, 28)))\n",
        "        \n",
        "    if layer_output.shape[3] >= 35:\n",
        "        plot_x, plot_y = 6, 6\n",
        "    elif layer_output.shape[3] >= 23:\n",
        "        plot_x, plot_y = 4, 6\n",
        "    elif layer_output.shape[3] >= 11:\n",
        "        plot_x, plot_y = 2, 6\n",
        "    else:\n",
        "        plot_x, plot_y = 1, 2\n",
        "    fig, ax = plt.subplots(plot_x, plot_y, figsize = (12, 12))\n",
        "    ax[0, 0].imshow(img.reshape((28, 28)), cmap = 'gray')\n",
        "    ax[0, 0].set_title('Input image')\n",
        "    fig.suptitle('Input image and %s filters' % (layer_name,))\n",
        "    fig.tight_layout(pad = 0.3, rect = [0, 0, 0.9, 0.9])\n",
        "    for (x, y) in [(i, j) for i in range(plot_x) for j in range(plot_y)]:\n",
        "        if x == 0 and y == 0:\n",
        "            continue\n",
        "        ax[x, y].imshow(img_ascs[x * plot_y + y - 1], cmap = 'gray')\n",
        "        ax[x, y].set_title('filter %d' % (x * plot_y + y - 1))\n",
        "\n",
        "vis_img_in_filter()"
      ],
      "execution_count": 29,
      "outputs": [
        {
          "output_type": "display_data",
          "data": {
            "image/png": "[encoded data removed]",
            "text/plain": [
              "<Figure size 864x864 with 12 Axes>"
            ]
          },
          "metadata": {
            "tags": []
          }
        }
      ]
    },
    {
      "cell_type": "markdown",
      "metadata": {
        "id": "nvo3WWsmHZNQ",
        "colab_type": "text"
      },
      "source": [
        "## Results\n",
        "\n",
        "---\n",
        "\n",
        "#### 0.1 + momentum + nesterov + SGD\n",
        "BS - 32 </br> \n",
        "Epoch - 50 </br>\n",
        "Parameters - 10032 </br>\n",
        "\n",
        "Train Acc -  0.9885 </br>\n",
        "Val Acc - 0.9937 </br>\n",
        "HIghest Val Acc - 0.9946 in 45th epoc</br>\n",
        "\n",
        "#### 0.1 + SGD\n",
        "BS - 32 </br> \n",
        "Epoch - 50 </br>\n",
        "Parameters - 10032 </br>\n",
        "\n",
        "Train Acc -  0.9886 </br>\n",
        "Val Acc - 0.9932 </br>\n",
        "HIghest Val Acc - 0.9944 in 44th epoc</br>\n",
        "\n",
        "#### 0.2 + SGD\n",
        "BS - 32 </br> \n",
        "Epoch - 50 </br>\n",
        "Parameters - 10032 </br>\n",
        "\n",
        "Train Acc -  0.9880 </br>\n",
        "Val Acc - 0.9937 </br>\n",
        "HIghest Val Acc - 0.9947 in 43rd epoc</br>\n",
        "\n",
        "#### 0.3 + SGD\n",
        "BS - 32 </br> \n",
        "Epoch - 50 </br>\n",
        "Parameters - 10032 </br>\n",
        "\n",
        "Train Acc -  0.9883 </br>\n",
        "Val Acc - 0.9942 </br>\n",
        "HIghest Val Acc - 0.9950 in 45th epoc</br>\n",
        "\n",
        "\n",
        "\n",
        "#### Obs. \n",
        "lr 0.3 achieve 0.9950 Val Acc (this is the best my model achieve)"
      ]
    },
    {
      "cell_type": "code",
      "metadata": {
        "id": "nOqhI7yoareC",
        "colab_type": "code",
        "colab": {}
      },
      "source": [
        ""
      ],
      "execution_count": 0,
      "outputs": []
    }
  ]
}